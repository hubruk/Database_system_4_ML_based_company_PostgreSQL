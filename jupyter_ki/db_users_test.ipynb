{
 "cells": [
  {
   "cell_type": "code",
   "execution_count": 1,
   "metadata": {},
   "outputs": [],
   "source": [
    "import psycopg2\n",
    "import names"
   ]
  },
  {
   "cell_type": "code",
   "execution_count": 2,
   "metadata": {},
   "outputs": [],
   "source": [
    "%run functions.ipynb"
   ]
  },
  {
   "cell_type": "code",
   "execution_count": 3,
   "metadata": {},
   "outputs": [],
   "source": [
    "database_setup = {\n",
    "    'host' : '127.0.0.11'\n",
    "    ,'database': 'ZSBD_p1_restore'\n",
    "    ,'user' : 'inzdanych123'\n",
    "    ,'password' : 'inzdanych123'\n",
    "    ,'port' : '5432'\n",
    "}"
   ]
  },
  {
   "cell_type": "code",
   "execution_count": 4,
   "metadata": {},
   "outputs": [],
   "source": [
    "def do_query(query, print_out = False, commit = False):\n",
    "    try:\n",
    "        con = psycopg2.connect(\n",
    "                    host = database_setup['host'],\n",
    "                    database = database_setup['database'],\n",
    "                    user = database_setup['user'],\n",
    "                    password = database_setup['password'],\n",
    "                    port = database_setup['port'])\n",
    "\n",
    "        cur = con.cursor()\n",
    "\n",
    "        cur.execute(query)\n",
    "        \n",
    "        for notice in con.notices:\n",
    "            print(notice)\n",
    "\n",
    "        if commit:\n",
    "            con.commit()\n",
    "\n",
    "        if print_out:\n",
    "            column_names = [desc[0] for desc in cur.description]\n",
    "            row_list = []\n",
    "            row = cur.fetchone()\n",
    "            while row is not None:\n",
    "                row_list.append(row)\n",
    "                #print(row)\n",
    "                row = cur.fetchone()\n",
    "            df = pd.DataFrame(row_list, columns=column_names)\n",
    "            print(df)\n",
    "        \n",
    "        cur.close()\n",
    "        con.close()\n",
    "        print('\\n')\n",
    "    except (Exception, psycopg2.DatabaseError) as error:\n",
    "            print(error)\n",
    "\n",
    "    finally:\n",
    "        if con is not None:\n",
    "            con.close()"
   ]
  },
  {
   "cell_type": "code",
   "execution_count": 5,
   "metadata": {},
   "outputs": [
    {
     "name": "stdout",
     "output_type": "stream",
     "text": [
      "'NoneType' object is not iterable\n"
     ]
    }
   ],
   "source": [
    "do_query(\"\"\"\n",
    "CREATE OR REPLACE VIEW view_holder.leki AS\n",
    "SELECT coalesce(\"Aktualnie przyjmowane leki\".data_zakonczenia_ventolin__asthma, cast(now() as date)) -\"Aktualnie przyjmowane leki\".data_rozpoczecia_ventolin__asthma as \"dni_brania_ventolin\",\n",
    "pacjent.imie, pacjent.nazwisko, extract(year from age(now(), pacjent.data_urodzenia)) as wiek_pacjenta, \n",
    "\"Aktualnie przyjmowane leki\".data_rozpoczecia_ventolin__asthma, \"Aktualnie przyjmowane leki\".data_zakonczenia_ventolin__asthma\n",
    "FROM ai_med.pacjent INNER JOIN ai_med.\"Aktualnie przyjmowane leki\" \n",
    "ON \"Aktualnie przyjmowane leki\".id = pacjent.id \n",
    "WHERE DATE_TRUNC('day',\"Aktualnie przyjmowane leki\".data_rozpoczecia_ventolin__asthma) >= CURRENT_DATE - interval '4 year' \n",
    "ORDER BY dni_brania_ventolin;\n",
    "\"\"\"\n",
    ",commit=True\n",
    ",print_out=True\n",
    ")"
   ]
  },
  {
   "cell_type": "code",
   "execution_count": 6,
   "metadata": {},
   "outputs": [
    {
     "name": "stdout",
     "output_type": "stream",
     "text": [
      "'NoneType' object is not iterable\n"
     ]
    }
   ],
   "source": [
    "do_query(\"\"\"CREATE OR REPLACE VIEW view_holder.wyniki_morfologii_dla_brak_objawow AS\n",
    "SELECT pacjent.imie, pacjent.nazwisko, extract(year from age(now(), pacjent.data_urodzenia)) as wiek_pacjenta\n",
    ",morfologia.ilosc_erytrocytow, morfologia.stezenie_hemoglobiny , morfologia.mcv, morfologia.mchc, morfologia.mch, morfologia.rdw, morfologia.data_wykonanej_morfologii\n",
    "--,objawy.bol_glowy, objawy.zmeczenie\n",
    "FROM ai_med.pacjent \n",
    "INNER JOIN ai_med.objawy ON objawy.id = pacjent.id\n",
    "INNER JOIN ai_med.morfologia ON morfologia.pacjentid = pacjent.id\n",
    "WHERE objawy.bol_glowy = FALSE AND objawy.zmeczenie = FALSE\n",
    "ORDER BY objawy.bol_glowy;\"\"\"\n",
    ",commit=True\n",
    ",print_out=True\n",
    ")"
   ]
  },
  {
   "cell_type": "code",
   "execution_count": 7,
   "metadata": {},
   "outputs": [],
   "source": [
    "query_list = ['SELECT * FROM view_holder.wyniki_morfologii_dla_brak_objawow;',\n",
    "'SELECT * FROM view_holder.leki;', \n",
    "'SELECT * from ai_med.pacjent',\n",
    "\"INSERT INTO ai_med.Pacjent(imie, nazwisko, data_urodzenia) VALUES ('%s', '%s', '%s');\" %(names.get_first_name(), names.get_last_name(), random_date(datetime.date(1920, 1, 1), datetime.date(2004, 2, 1))),\n",
    "'CREATE SCHEMA IF NOT EXISTS AI_med;']"
   ]
  },
  {
   "cell_type": "code",
   "execution_count": 8,
   "metadata": {},
   "outputs": [],
   "source": [
    "def user_test(query_list, user = \"inzdanych123\", password = \"inzdanych123\"):\n",
    "    print(user + \" test\")\n",
    "    for query in query_list:\n",
    "        try:\n",
    "            con = psycopg2.connect(\n",
    "                            host = database_setup['host'],\n",
    "                            database = database_setup['database'],\n",
    "                            user = user,\n",
    "                            password = password,\n",
    "                            port = database_setup['port'])\n",
    "\n",
    "            cur = con.cursor()\n",
    "        \n",
    "            cur.execute(query)\n",
    "            print(\"Jest zgoda na: \" + query, \"\\n\") \n",
    "            for notice in con.notices:\n",
    "                print(notice)\n",
    "        except psycopg2.Error as e:\n",
    "            print(\"Nie ma zgody na: \" + query)\n",
    "            print(e, \"\\n\")\n",
    "\n",
    "    \n",
    "\n",
    "\n",
    "    cur.close()\n",
    "    con.close()"
   ]
  },
  {
   "cell_type": "code",
   "execution_count": 9,
   "metadata": {},
   "outputs": [
    {
     "name": "stdout",
     "output_type": "stream",
     "text": [
      "inzdanych123 test\n",
      "Jest zgoda na: SELECT * FROM view_holder.wyniki_morfologii_dla_brak_objawow; \n",
      "\n",
      "Jest zgoda na: SELECT * FROM view_holder.leki; \n",
      "\n",
      "Jest zgoda na: SELECT * from ai_med.pacjent \n",
      "\n",
      "Jest zgoda na: INSERT INTO ai_med.Pacjent(imie, nazwisko, data_urodzenia) VALUES ('Rob', 'Gonzales', '1952-07-03'); \n",
      "\n",
      "Jest zgoda na: CREATE SCHEMA IF NOT EXISTS AI_med; \n",
      "\n",
      "NOTICE:  schema \"ai_med\" already exists, skipping\n",
      "\n"
     ]
    }
   ],
   "source": [
    "user_test(query_list, \"inzdanych123\", \"inzdanych123\")"
   ]
  },
  {
   "cell_type": "code",
   "execution_count": 10,
   "metadata": {},
   "outputs": [
    {
     "name": "stdout",
     "output_type": "stream",
     "text": [
      "inzml123 test\n",
      "Nie ma zgody na: SELECT * FROM view_holder.wyniki_morfologii_dla_brak_objawow;\n",
      "permission denied for schema view_holder\n",
      "LINE 1: SELECT * FROM view_holder.wyniki_morfologii_dla_brak_objawow...\n",
      "                      ^\n",
      " \n",
      "\n",
      "Nie ma zgody na: SELECT * FROM view_holder.leki;\n",
      "permission denied for schema view_holder\n",
      "LINE 1: SELECT * FROM view_holder.leki;\n",
      "                      ^\n",
      " \n",
      "\n",
      "Nie ma zgody na: SELECT * from ai_med.pacjent\n",
      "permission denied for schema ai_med\n",
      "LINE 1: SELECT * from ai_med.pacjent\n",
      "                      ^\n",
      " \n",
      "\n",
      "Nie ma zgody na: INSERT INTO ai_med.Pacjent(imie, nazwisko, data_urodzenia) VALUES ('Rob', 'Gonzales', '1952-07-03');\n",
      "permission denied for schema ai_med\n",
      "LINE 1: INSERT INTO ai_med.Pacjent(imie, nazwisko, data_urodzenia) V...\n",
      "                    ^\n",
      " \n",
      "\n",
      "Nie ma zgody na: CREATE SCHEMA IF NOT EXISTS AI_med;\n",
      "permission denied for database ZSBD_p1_restore\n",
      " \n",
      "\n"
     ]
    }
   ],
   "source": [
    "user_test(query_list, \"inzml123\", \"inzml123\")"
   ]
  },
  {
   "cell_type": "code",
   "execution_count": 11,
   "metadata": {},
   "outputs": [
    {
     "name": "stdout",
     "output_type": "stream",
     "text": [
      "lekarz123 test\n",
      "Nie ma zgody na: SELECT * FROM view_holder.wyniki_morfologii_dla_brak_objawow;\n",
      "permission denied for schema view_holder\n",
      "LINE 1: SELECT * FROM view_holder.wyniki_morfologii_dla_brak_objawow...\n",
      "                      ^\n",
      " \n",
      "\n",
      "Nie ma zgody na: SELECT * FROM view_holder.leki;\n",
      "permission denied for schema view_holder\n",
      "LINE 1: SELECT * FROM view_holder.leki;\n",
      "                      ^\n",
      " \n",
      "\n",
      "Nie ma zgody na: SELECT * from ai_med.pacjent\n",
      "permission denied for schema ai_med\n",
      "LINE 1: SELECT * from ai_med.pacjent\n",
      "                      ^\n",
      " \n",
      "\n",
      "Nie ma zgody na: INSERT INTO ai_med.Pacjent(imie, nazwisko, data_urodzenia) VALUES ('Rob', 'Gonzales', '1952-07-03');\n",
      "permission denied for schema ai_med\n",
      "LINE 1: INSERT INTO ai_med.Pacjent(imie, nazwisko, data_urodzenia) V...\n",
      "                    ^\n",
      " \n",
      "\n",
      "Nie ma zgody na: CREATE SCHEMA IF NOT EXISTS AI_med;\n",
      "permission denied for database ZSBD_p1_restore\n",
      " \n",
      "\n"
     ]
    }
   ],
   "source": [
    "user_test(query_list, \"lekarz123\", \"lekarz123\")"
   ]
  },
  {
   "cell_type": "code",
   "execution_count": 12,
   "metadata": {},
   "outputs": [
    {
     "name": "stdout",
     "output_type": "stream",
     "text": [
      "pacjent123 test\n",
      "Nie ma zgody na: SELECT * FROM view_holder.wyniki_morfologii_dla_brak_objawow;\n",
      "permission denied for schema view_holder\n",
      "LINE 1: SELECT * FROM view_holder.wyniki_morfologii_dla_brak_objawow...\n",
      "                      ^\n",
      " \n",
      "\n",
      "Nie ma zgody na: SELECT * FROM view_holder.leki;\n",
      "permission denied for schema view_holder\n",
      "LINE 1: SELECT * FROM view_holder.leki;\n",
      "                      ^\n",
      " \n",
      "\n",
      "Nie ma zgody na: SELECT * from ai_med.pacjent\n",
      "permission denied for schema ai_med\n",
      "LINE 1: SELECT * from ai_med.pacjent\n",
      "                      ^\n",
      " \n",
      "\n",
      "Nie ma zgody na: INSERT INTO ai_med.Pacjent(imie, nazwisko, data_urodzenia) VALUES ('Rob', 'Gonzales', '1952-07-03');\n",
      "permission denied for schema ai_med\n",
      "LINE 1: INSERT INTO ai_med.Pacjent(imie, nazwisko, data_urodzenia) V...\n",
      "                    ^\n",
      " \n",
      "\n",
      "Nie ma zgody na: CREATE SCHEMA IF NOT EXISTS AI_med;\n",
      "permission denied for database ZSBD_p1_restore\n",
      " \n",
      "\n"
     ]
    }
   ],
   "source": [
    "user_test(query_list, \"pacjent123\", \"pacjent123\")"
   ]
  },
  {
   "cell_type": "code",
   "execution_count": 13,
   "metadata": {},
   "outputs": [
    {
     "name": "stdout",
     "output_type": "stream",
     "text": [
      "lekarz_perspektywa test\n",
      "Jest zgoda na: SELECT * FROM view_holder.wyniki_morfologii_dla_brak_objawow; \n",
      "\n",
      "Jest zgoda na: SELECT * FROM view_holder.leki; \n",
      "\n",
      "Nie ma zgody na: SELECT * from ai_med.pacjent\n",
      "permission denied for schema ai_med\n",
      "LINE 1: SELECT * from ai_med.pacjent\n",
      "                      ^\n",
      " \n",
      "\n",
      "Nie ma zgody na: INSERT INTO ai_med.Pacjent(imie, nazwisko, data_urodzenia) VALUES ('Rob', 'Gonzales', '1952-07-03');\n",
      "permission denied for schema ai_med\n",
      "LINE 1: INSERT INTO ai_med.Pacjent(imie, nazwisko, data_urodzenia) V...\n",
      "                    ^\n",
      " \n",
      "\n",
      "Nie ma zgody na: CREATE SCHEMA IF NOT EXISTS AI_med;\n",
      "permission denied for database ZSBD_p1_restore\n",
      " \n",
      "\n"
     ]
    }
   ],
   "source": [
    "user_test(query_list, \"lekarz_perspektywa\", \"lekarz_perspektywa\")"
   ]
  }
 ],
 "metadata": {
  "kernelspec": {
   "display_name": "Python 3.9.13 ('ZSBD')",
   "language": "python",
   "name": "python3"
  },
  "language_info": {
   "codemirror_mode": {
    "name": "ipython",
    "version": 3
   },
   "file_extension": ".py",
   "mimetype": "text/x-python",
   "name": "python",
   "nbconvert_exporter": "python",
   "pygments_lexer": "ipython3",
   "version": "3.9.13"
  },
  "orig_nbformat": 4,
  "vscode": {
   "interpreter": {
    "hash": "8357cfc344e27cdb3246fb42594e9ac9d5e7fb52400a68e0573ac62de3ff6ef8"
   }
  }
 },
 "nbformat": 4,
 "nbformat_minor": 2
}
