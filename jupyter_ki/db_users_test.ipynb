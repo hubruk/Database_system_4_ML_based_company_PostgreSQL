{
 "cells": [
  {
   "cell_type": "code",
   "execution_count": 17,
   "metadata": {},
   "outputs": [],
   "source": [
    "import psycopg2\n",
    "import names"
   ]
  },
  {
   "cell_type": "code",
   "execution_count": 18,
   "metadata": {},
   "outputs": [],
   "source": [
    "%run functions.ipynb"
   ]
  },
  {
   "cell_type": "code",
   "execution_count": 19,
   "metadata": {},
   "outputs": [],
   "source": [
    "query_list = ['SELECT * FROM view_holder.wyniki_morfologii_dla_brak_objawow;',\n",
    "'SELECT * FROM view_holder.leki;', \n",
    "'SELECT * from ai_med.pacjent',\n",
    "\"INSERT INTO ai_med.Pacjent(ID, imie, nazwisko, data_urodzenia) VALUES (%d, '%s', '%s', '%s');\" %(random.randint(200,500), names.get_first_name(), names.get_last_name(), random_date(datetime.date(1920, 1, 1), datetime.date(2004, 2, 1))),\n",
    "'CREATE SCHEMA IF NOT EXISTS AI_med;']"
   ]
  },
  {
   "cell_type": "code",
   "execution_count": 27,
   "metadata": {},
   "outputs": [],
   "source": [
    "def user_test(query_list, user = \"inzdanych123\", password = \"inzdanych123\", host = \"127.0.0.11\", database=\"ZSBD_p1\", port = \"5432\"):\n",
    "    print(user + \" test\")\n",
    "    con = psycopg2.connect(\n",
    "                host = host,\n",
    "                database=database,\n",
    "                user = user,\n",
    "                password = password,\n",
    "                port = port)\n",
    "\n",
    "    cur = con.cursor()\n",
    "\n",
    "    for query in query_list:\n",
    "        try:\n",
    "            cur.execute(query)\n",
    "            print(\"Jest zgoda na: \" + query, \"\\n\") \n",
    "        except psycopg2.Error as e:\n",
    "            print(\"Nie ma zgody na: \" + query)\n",
    "            print(e, \"\\n\")\n",
    "\n",
    "    cur.close()\n",
    "    con.close()"
   ]
  },
  {
   "cell_type": "code",
   "execution_count": 29,
   "metadata": {},
   "outputs": [
    {
     "name": "stdout",
     "output_type": "stream",
     "text": [
      "inzdanych123 test\n",
      "Jest zgoda na: SELECT * FROM view_holder.wyniki_morfologii_dla_brak_objawow; \n",
      "\n",
      "Jest zgoda na: SELECT * FROM view_holder.leki; \n",
      "\n",
      "Jest zgoda na: SELECT * from ai_med.pacjent \n",
      "\n",
      "Nie ma zgody na: INSERT INTO ai_med.Pacjent(ID, imie, nazwisko, data_urodzenia) VALUES (271, 'Steve', 'Fajardo', '1962-11-30');\n",
      "duplicate key value violates unique constraint \"pacjent_pkey\"\n",
      "DETAIL:  Key (id)=(271) already exists.\n",
      " \n",
      "\n",
      "Nie ma zgody na: CREATE SCHEMA IF NOT EXISTS AI_med;\n",
      "current transaction is aborted, commands ignored until end of transaction block\n",
      " \n",
      "\n"
     ]
    }
   ],
   "source": [
    "user_test(query_list, \"inzdanych123\", \"inzdanych123\")"
   ]
  },
  {
   "cell_type": "code",
   "execution_count": 30,
   "metadata": {},
   "outputs": [
    {
     "name": "stdout",
     "output_type": "stream",
     "text": [
      "inzml123 test\n",
      "Nie ma zgody na: SELECT * FROM view_holder.wyniki_morfologii_dla_brak_objawow;\n",
      "permission denied for schema view_holder\n",
      "LINE 1: SELECT * FROM view_holder.wyniki_morfologii_dla_brak_objawow...\n",
      "                      ^\n",
      " \n",
      "\n",
      "Nie ma zgody na: SELECT * FROM view_holder.leki;\n",
      "current transaction is aborted, commands ignored until end of transaction block\n",
      " \n",
      "\n",
      "Nie ma zgody na: SELECT * from ai_med.pacjent\n",
      "current transaction is aborted, commands ignored until end of transaction block\n",
      " \n",
      "\n",
      "Nie ma zgody na: INSERT INTO ai_med.Pacjent(ID, imie, nazwisko, data_urodzenia) VALUES (271, 'Steve', 'Fajardo', '1962-11-30');\n",
      "current transaction is aborted, commands ignored until end of transaction block\n",
      " \n",
      "\n",
      "Nie ma zgody na: CREATE SCHEMA IF NOT EXISTS AI_med;\n",
      "current transaction is aborted, commands ignored until end of transaction block\n",
      " \n",
      "\n"
     ]
    }
   ],
   "source": [
    "user_test(query_list, \"inzml123\", \"inzml123\")"
   ]
  },
  {
   "cell_type": "code",
   "execution_count": 31,
   "metadata": {},
   "outputs": [
    {
     "name": "stdout",
     "output_type": "stream",
     "text": [
      "lekarz123 test\n",
      "Nie ma zgody na: SELECT * FROM view_holder.wyniki_morfologii_dla_brak_objawow;\n",
      "permission denied for schema view_holder\n",
      "LINE 1: SELECT * FROM view_holder.wyniki_morfologii_dla_brak_objawow...\n",
      "                      ^\n",
      " \n",
      "\n",
      "Nie ma zgody na: SELECT * FROM view_holder.leki;\n",
      "current transaction is aborted, commands ignored until end of transaction block\n",
      " \n",
      "\n",
      "Nie ma zgody na: SELECT * from ai_med.pacjent\n",
      "current transaction is aborted, commands ignored until end of transaction block\n",
      " \n",
      "\n",
      "Nie ma zgody na: INSERT INTO ai_med.Pacjent(ID, imie, nazwisko, data_urodzenia) VALUES (271, 'Steve', 'Fajardo', '1962-11-30');\n",
      "current transaction is aborted, commands ignored until end of transaction block\n",
      " \n",
      "\n",
      "Nie ma zgody na: CREATE SCHEMA IF NOT EXISTS AI_med;\n",
      "current transaction is aborted, commands ignored until end of transaction block\n",
      " \n",
      "\n"
     ]
    }
   ],
   "source": [
    "user_test(query_list, \"lekarz123\", \"lekarz123\")"
   ]
  },
  {
   "cell_type": "code",
   "execution_count": 32,
   "metadata": {},
   "outputs": [
    {
     "name": "stdout",
     "output_type": "stream",
     "text": [
      "pacjent123 test\n",
      "Nie ma zgody na: SELECT * FROM view_holder.wyniki_morfologii_dla_brak_objawow;\n",
      "permission denied for schema view_holder\n",
      "LINE 1: SELECT * FROM view_holder.wyniki_morfologii_dla_brak_objawow...\n",
      "                      ^\n",
      " \n",
      "\n",
      "Nie ma zgody na: SELECT * FROM view_holder.leki;\n",
      "current transaction is aborted, commands ignored until end of transaction block\n",
      " \n",
      "\n",
      "Nie ma zgody na: SELECT * from ai_med.pacjent\n",
      "current transaction is aborted, commands ignored until end of transaction block\n",
      " \n",
      "\n",
      "Nie ma zgody na: INSERT INTO ai_med.Pacjent(ID, imie, nazwisko, data_urodzenia) VALUES (271, 'Steve', 'Fajardo', '1962-11-30');\n",
      "current transaction is aborted, commands ignored until end of transaction block\n",
      " \n",
      "\n",
      "Nie ma zgody na: CREATE SCHEMA IF NOT EXISTS AI_med;\n",
      "current transaction is aborted, commands ignored until end of transaction block\n",
      " \n",
      "\n"
     ]
    }
   ],
   "source": [
    "user_test(query_list, \"pacjent123\", \"pacjent123\")"
   ]
  },
  {
   "cell_type": "code",
   "execution_count": 33,
   "metadata": {},
   "outputs": [
    {
     "name": "stdout",
     "output_type": "stream",
     "text": [
      "lekarz_perspektywa test\n",
      "Jest zgoda na: SELECT * FROM view_holder.wyniki_morfologii_dla_brak_objawow; \n",
      "\n",
      "Jest zgoda na: SELECT * FROM view_holder.leki; \n",
      "\n",
      "Nie ma zgody na: SELECT * from ai_med.pacjent\n",
      "permission denied for schema ai_med\n",
      "LINE 1: SELECT * from ai_med.pacjent\n",
      "                      ^\n",
      " \n",
      "\n",
      "Nie ma zgody na: INSERT INTO ai_med.Pacjent(ID, imie, nazwisko, data_urodzenia) VALUES (271, 'Steve', 'Fajardo', '1962-11-30');\n",
      "current transaction is aborted, commands ignored until end of transaction block\n",
      " \n",
      "\n",
      "Nie ma zgody na: CREATE SCHEMA IF NOT EXISTS AI_med;\n",
      "current transaction is aborted, commands ignored until end of transaction block\n",
      " \n",
      "\n"
     ]
    }
   ],
   "source": [
    "user_test(query_list, \"lekarz_perspektywa\", \"lekarz_perspektywa\")"
   ]
  }
 ],
 "metadata": {
  "kernelspec": {
   "display_name": "Python 3.9.13 ('ZSBD')",
   "language": "python",
   "name": "python3"
  },
  "language_info": {
   "codemirror_mode": {
    "name": "ipython",
    "version": 3
   },
   "file_extension": ".py",
   "mimetype": "text/x-python",
   "name": "python",
   "nbconvert_exporter": "python",
   "pygments_lexer": "ipython3",
   "version": "3.9.13"
  },
  "orig_nbformat": 4,
  "vscode": {
   "interpreter": {
    "hash": "8357cfc344e27cdb3246fb42594e9ac9d5e7fb52400a68e0573ac62de3ff6ef8"
   }
  }
 },
 "nbformat": 4,
 "nbformat_minor": 2
}
