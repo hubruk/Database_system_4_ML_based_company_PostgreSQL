{
 "cells": [
  {
   "cell_type": "code",
   "execution_count": 461,
   "metadata": {},
   "outputs": [],
   "source": [
    "import psycopg2\n",
    "import random\n",
    "import names\n",
    "import uuid\n",
    "import datetime\n",
    "import re\n",
    "import matplotlib.pyplot as plt"
   ]
  },
  {
   "cell_type": "code",
   "execution_count": 462,
   "metadata": {},
   "outputs": [],
   "source": [
    "def index_tester(what_index, Query, Drop):\n",
    "    try:\n",
    "        con = psycopg2.connect(\n",
    "                host = \"127.0.0.11\",\n",
    "                database=\"ZSBD_p1\",\n",
    "                user = \"inzdanych123\",\n",
    "                password = \"inzdanych123\")\n",
    "\n",
    "        cur = con.cursor()\n",
    "\n",
    "        cur.execute(Drop)\n",
    "\n",
    "        if what_index != None:\n",
    "            cur.execute(what_index)\n",
    "\n",
    "        cur.execute(Query)\n",
    "        query_output = cur.fetchall()\n",
    "        \n",
    "        if query_output != None:\n",
    "            return query_output\n",
    "\n",
    "    except (Exception, psycopg2.Error) as error:\n",
    "        return error\n",
    "        # print(\"Error while fetching data from PostgreSQL\", error)\n",
    "\n",
    "    finally:\n",
    "        # closing database connection.\n",
    "        if con:\n",
    "            cur.close()\n",
    "            con.close()"
   ]
  },
  {
   "cell_type": "code",
   "execution_count": 463,
   "metadata": {},
   "outputs": [],
   "source": [
    "Q = 'EXPLAIN ANALYSE SELECT * FROM ai_med.objawy WHERE bol_glowy is TRUE;'\n",
    "D = 'DROP INDEX IF EXISTS ai_med.data_bol;'\n",
    "index_query = 'CREATE INDEX data_bol on ai_med.objawy using %s (bol_glowy);'"
   ]
  },
  {
   "cell_type": "code",
   "execution_count": 464,
   "metadata": {},
   "outputs": [],
   "source": [
    "Q = 'EXPLAIN ANALYSE SELECT * FROM ai_med.\"leczenie_w_kierunku_kod_ICD_10\"' + \" WHERE data_zakonczenia_leczenia_i10 >= '2021-02-01' AND data_zakonczenia_leczenia_i10 <= '2021-02-28';\"\n",
    "index_name_query = 'data_icd_10'\n",
    "\n",
    "D = 'DROP INDEX IF EXISTS ai_med.%s;' %(index_name_query)\n",
    "index_query = 'CREATE INDEX '\n",
    "index_query += index_name_query\n",
    "index_query += ' on ai_med.\"leczenie_w_kierunku_kod_ICD_10\" using %s (data_zakonczenia_leczenia_i10);' "
   ]
  },
  {
   "cell_type": "code",
   "execution_count": 465,
   "metadata": {},
   "outputs": [
    {
     "name": "stdout",
     "output_type": "stream",
     "text": [
      "gist  zwrocil blad: \n",
      " data type date has no default operator class for access method \"gist\"\n",
      "HINT:  You must specify an operator class for the index or define a default operator class for the data type.\n",
      "\n",
      "spgist  zwrocil blad: \n",
      " data type date has no default operator class for access method \"spgist\"\n",
      "HINT:  You must specify an operator class for the index or define a default operator class for the data type.\n",
      "\n",
      "gin  zwrocil blad: \n",
      " data type date has no default operator class for access method \"gin\"\n",
      "HINT:  You must specify an operator class for the index or define a default operator class for the data type.\n",
      "\n"
     ]
    }
   ],
   "source": [
    "index_list = [None, 'btree', 'HASH', 'gist', 'spgist', 'gin', 'BRIN']\n",
    "seq_scan_list = []\n",
    "other__list = {}\n",
    "\n",
    "\n",
    "seq_scan_dict_floats_planning = {}\n",
    "seq_scan_dict_floats_executing = {}\n",
    "planning_time = []\n",
    "execution_time = []\n",
    "planning_time_non_seq = []\n",
    "execution_time_non_seq = []\n",
    "\n",
    "for index in index_list:\n",
    "    if index == None:\n",
    "        mes = index_tester(None, Q, D)\n",
    "    else:\n",
    "        mes = index_tester(index_query %(index), Q, D)\n",
    "\n",
    "    if type(mes) == list:\n",
    "        if str(mes[0]).split('on')[0] == \"('Seq Scan \":\n",
    "            \n",
    "            planning_time.append(float(re.findall(r'[\\d]*[.][\\d]+', str(mes[-2:][0]))[0]))\n",
    "            execution_time.append(float(re.findall(r'[\\d]*[.][\\d]+', str(mes[-2:][1]))[0]))\n",
    "\n",
    "            seq_scan_dict_floats_planning['seq scan'] = planning_time\n",
    "            seq_scan_dict_floats_executing['seq scan'] = execution_time \n",
    "        else:\n",
    "            planning_time_non_seq.append(float(re.findall(r'[\\d]*[.][\\d]+', str(mes[-2:][0]))[0]))\n",
    "            execution_time_non_seq.append(float(re.findall(r'[\\d]*[.][\\d]+', str(mes[-2:][1]))[0]))\n",
    "\n",
    "            seq_scan_dict_floats_planning[str(mes[0]).split('on')[0].strip('(')] = planning_time_non_seq[0]\n",
    "            seq_scan_dict_floats_executing[str(mes[0]).split('on')[0].strip('(')] = execution_time_non_seq[0]\n",
    "    else:\n",
    "        print(index, ' zwrocil blad:', '\\n', mes)"
   ]
  },
  {
   "cell_type": "code",
   "execution_count": 466,
   "metadata": {},
   "outputs": [
    {
     "data": {
      "image/png": "[encoded data removed]",
      "text/plain": [
       "<Figure size 432x288 with 1 Axes>"
      ]
     },
     "metadata": {
      "needs_background": "light"
     },
     "output_type": "display_data"
    },
    {
     "data": {
      "image/png": "[encoded data removed]",
      "text/plain": [
       "<Figure size 432x288 with 1 Axes>"
      ]
     },
     "metadata": {
      "needs_background": "light"
     },
     "output_type": "display_data"
    }
   ],
   "source": [
    "try:\n",
    "    seq_scan_dict_floats_executing['seq scan'] = seq_scan_dict_floats_executing['seq scan'][0]\n",
    "    seq_scan_dict_floats_planning['seq scan'] = seq_scan_dict_floats_planning['seq scan'][0]\n",
    "except(TypeError):\n",
    "    pass\n",
    "\n",
    "names = list(seq_scan_dict_floats_planning.keys())\n",
    "values = list(seq_scan_dict_floats_planning.values())\n",
    "plt.bar(range(len(seq_scan_dict_floats_planning)), values, tick_label=names)\n",
    "plt.title('planning time')\n",
    "plt.show()\n",
    "\n",
    "names = list(seq_scan_dict_floats_executing.keys())\n",
    "values = list(seq_scan_dict_floats_executing.values())\n",
    "plt.bar(range(len(seq_scan_dict_floats_executing)), values, tick_label=names)\n",
    "plt.title('executing time')\n",
    "plt.show()"
   ]
  },
  {
   "cell_type": "code",
   "execution_count": 467,
   "metadata": {},
   "outputs": [],
   "source": [
    "Q = 'EXPLAIN ANALYSE SELECT * FROM ai_med.\"leczenie_w_kierunku_kod_ICD_10\"' + \" WHERE data_zakonczenia_leczenia_i10 >= '2021-02-01' AND data_zakonczenia_leczenia_i10 <= '2021-02-28';\"\n",
    "D = 'DROP INDEX IF EXISTS ai_med.data_icd_10;'"
   ]
  },
  {
   "cell_type": "code",
   "execution_count": 468,
   "metadata": {},
   "outputs": [
    {
     "data": {
      "text/plain": [
       "[('Seq Scan on \"leczenie_w_kierunku_kod_ICD_10\"  (cost=0.00..1118.00 rows=1888 width=28) (actual time=0.056..14.167 rows=1889 loops=1)',),\n",
       " (\"  Filter: ((data_zakonczenia_leczenia_i10 >= '2021-02-01'::date) AND (data_zakonczenia_leczenia_i10 <= '2021-02-28'::date))\",),\n",
       " ('  Rows Removed by Filter: 48111',),\n",
       " ('Planning Time: 4.342 ms',),\n",
       " ('Execution Time: 14.368 ms',)]"
      ]
     },
     "execution_count": 468,
     "metadata": {},
     "output_type": "execute_result"
    }
   ],
   "source": [
    "index_tester(None, Q, D)"
   ]
  },
  {
   "cell_type": "code",
   "execution_count": 469,
   "metadata": {},
   "outputs": [
    {
     "data": {
      "text/plain": [
       "[('Bitmap Heap Scan on \"leczenie_w_kierunku_kod_ICD_10\"  (cost=27.64..423.96 rows=1888 width=28) (actual time=0.567..1.723 rows=1889 loops=1)',),\n",
       " (\"  Recheck Cond: ((data_zakonczenia_leczenia_i10 >= '2021-02-01'::date) AND (data_zakonczenia_leczenia_i10 <= '2021-02-28'::date))\",),\n",
       " ('  Heap Blocks: exact=364',),\n",
       " ('  ->  Bitmap Index Scan on data_icd_10  (cost=0.00..27.17 rows=1888 width=0) (actual time=0.479..0.480 rows=1889 loops=1)',),\n",
       " (\"        Index Cond: ((data_zakonczenia_leczenia_i10 >= '2021-02-01'::date) AND (data_zakonczenia_leczenia_i10 <= '2021-02-28'::date))\",),\n",
       " ('Planning Time: 6.524 ms',),\n",
       " ('Execution Time: 1.966 ms',)]"
      ]
     },
     "execution_count": 469,
     "metadata": {},
     "output_type": "execute_result"
    }
   ],
   "source": [
    "index_tester('CREATE INDEX data_icd_10 on ai_med.\"leczenie_w_kierunku_kod_ICD_10\"(data_zakonczenia_leczenia_i10)', Q, D)"
   ]
  },
  {
   "cell_type": "code",
   "execution_count": 470,
   "metadata": {},
   "outputs": [
    {
     "data": {
      "text/plain": [
       "[('Seq Scan on \"leczenie_w_kierunku_kod_ICD_10\"  (cost=0.00..1118.00 rows=1888 width=28) (actual time=0.037..10.945 rows=1889 loops=1)',),\n",
       " (\"  Filter: ((data_zakonczenia_leczenia_i10 >= '2021-02-01'::date) AND (data_zakonczenia_leczenia_i10 <= '2021-02-28'::date))\",),\n",
       " ('  Rows Removed by Filter: 48111',),\n",
       " ('Planning Time: 5.969 ms',),\n",
       " ('Execution Time: 11.130 ms',)]"
      ]
     },
     "execution_count": 470,
     "metadata": {},
     "output_type": "execute_result"
    }
   ],
   "source": [
    "index_tester('CREATE INDEX data_icd_10 on ai_med.\"leczenie_w_kierunku_kod_ICD_10\" using brin (data_zakonczenia_leczenia_i10)', Q, D)"
   ]
  },
  {
   "cell_type": "code",
   "execution_count": 471,
   "metadata": {},
   "outputs": [],
   "source": [
    "#Q = 'EXPLAIN ANALYSE SELECT * FROM ai_med.objawy WHERE bol_glowy = TRUE;'\n",
    "Q = 'EXPLAIN ANALYSE SELECT * FROM ai_med.objawy WHERE bol_glowy is TRUE;'\n",
    "D = 'DROP INDEX IF EXISTS ai_med.data_bol;'"
   ]
  },
  {
   "cell_type": "code",
   "execution_count": 472,
   "metadata": {},
   "outputs": [
    {
     "data": {
      "text/plain": [
       "[('Seq Scan on objawy  (cost=0.00..771.00 rows=25175 width=10) (actual time=0.056..50.751 rows=25045 loops=1)',),\n",
       " ('  Filter: (bol_glowy IS TRUE)',),\n",
       " ('  Rows Removed by Filter: 24955',),\n",
       " ('Planning Time: 12.088 ms',),\n",
       " ('Execution Time: 52.881 ms',)]"
      ]
     },
     "execution_count": 472,
     "metadata": {},
     "output_type": "execute_result"
    }
   ],
   "source": [
    "index_tester(None, Q, D)"
   ]
  },
  {
   "cell_type": "code",
   "execution_count": 473,
   "metadata": {},
   "outputs": [
    {
     "data": {
      "text/plain": [
       "[('Seq Scan on objawy  (cost=0.00..771.00 rows=25175 width=10) (actual time=0.031..10.615 rows=25045 loops=1)',),\n",
       " ('  Filter: (bol_glowy IS TRUE)',),\n",
       " ('  Rows Removed by Filter: 24955',),\n",
       " ('Planning Time: 6.442 ms',),\n",
       " ('Execution Time: 12.355 ms',)]"
      ]
     },
     "execution_count": 473,
     "metadata": {},
     "output_type": "execute_result"
    }
   ],
   "source": [
    "index_tester('CREATE INDEX data_bol on ai_med.objawy(bol_glowy);', Q, D)"
   ]
  },
  {
   "cell_type": "code",
   "execution_count": 474,
   "metadata": {},
   "outputs": [
    {
     "data": {
      "text/plain": [
       "[('Seq Scan on objawy  (cost=0.00..771.00 rows=25175 width=10) (actual time=0.047..9.159 rows=25045 loops=1)',),\n",
       " ('  Filter: (bol_glowy IS TRUE)',),\n",
       " ('  Rows Removed by Filter: 24955',),\n",
       " ('Planning Time: 5.109 ms',),\n",
       " ('Execution Time: 10.891 ms',)]"
      ]
     },
     "execution_count": 474,
     "metadata": {},
     "output_type": "execute_result"
    }
   ],
   "source": [
    "index_tester('CREATE INDEX data_bol on ai_med.objawy using hash (bol_glowy);', Q, D)"
   ]
  }
 ],
 "metadata": {
  "kernelspec": {
   "display_name": "Python 3.9.13 ('ZSBD')",
   "language": "python",
   "name": "python3"
  },
  "language_info": {
   "codemirror_mode": {
    "name": "ipython",
    "version": 3
   },
   "file_extension": ".py",
   "mimetype": "text/x-python",
   "name": "python",
   "nbconvert_exporter": "python",
   "pygments_lexer": "ipython3",
   "version": "3.9.13"
  },
  "orig_nbformat": 4,
  "vscode": {
   "interpreter": {
    "hash": "8357cfc344e27cdb3246fb42594e9ac9d5e7fb52400a68e0573ac62de3ff6ef8"
   }
  }
 },
 "nbformat": 4,
 "nbformat_minor": 2
}
