{
 "cells": [
  {
   "cell_type": "code",
   "execution_count": 2,
   "metadata": {},
   "outputs": [],
   "source": [
    "import psycopg2\n",
    "import names\n",
    "import uuid\n",
    "import datetime"
   ]
  },
  {
   "cell_type": "code",
   "execution_count": 1,
   "metadata": {},
   "outputs": [],
   "source": [
    "%run functions.ipynb"
   ]
  },
  {
   "cell_type": "code",
   "execution_count": 3,
   "metadata": {},
   "outputs": [],
   "source": [
    "con = psycopg2.connect(\n",
    "            host = \"127.0.0.11\",\n",
    "            database=\"ZSBD_p1\",\n",
    "            user = \"inzdanych123\",\n",
    "            password = \"inzdanych123\")\n"
   ]
  },
  {
   "cell_type": "code",
   "execution_count": 4,
   "metadata": {},
   "outputs": [],
   "source": [
    "cur = con.cursor()"
   ]
  },
  {
   "cell_type": "code",
   "execution_count": 5,
   "metadata": {},
   "outputs": [
    {
     "data": {
      "text/plain": [
       "datetime.date(2019, 8, 5)"
      ]
     },
     "execution_count": 5,
     "metadata": {},
     "output_type": "execute_result"
    }
   ],
   "source": [
    "random_date(datetime.date(2018, 1, 1), datetime.date(2020, 2, 1))"
   ]
  },
  {
   "cell_type": "code",
   "execution_count": 6,
   "metadata": {},
   "outputs": [],
   "source": [
    "start = 1\n",
    "stop = 50000"
   ]
  },
  {
   "cell_type": "code",
   "execution_count": 197,
   "metadata": {},
   "outputs": [],
   "source": [
    "# cur.execute('TRUNCATE TABLE ai_med.pacjent, ai_med.\"Aktualnie przyjmowane leki\", ai_med.\"leczenie_w_kierunku_kod_ICD_10\", ai_med.morfologia, ai_med.\"Nazwa pliku z notatkami lekarskimi\", ai_med.objawy, ai_med.obrazy, ai_med.operacje RESTART IDENTITY CASCADE')\n",
    "# con.commit()"
   ]
  },
  {
   "cell_type": "code",
   "execution_count": 7,
   "metadata": {},
   "outputs": [
    {
     "ename": "KeyboardInterrupt",
     "evalue": "",
     "output_type": "error",
     "traceback": [
      "\u001b[1;31m---------------------------------------------------------------------------\u001b[0m",
      "\u001b[1;31mKeyboardInterrupt\u001b[0m                         Traceback (most recent call last)",
      "\u001b[1;32m~\\AppData\\Local\\Temp/ipykernel_14576/186429155.py\u001b[0m in \u001b[0;36m<module>\u001b[1;34m\u001b[0m\n\u001b[0;32m      1\u001b[0m \u001b[1;32mfor\u001b[0m \u001b[0mrow\u001b[0m \u001b[1;32min\u001b[0m \u001b[0mrange\u001b[0m\u001b[1;33m(\u001b[0m\u001b[0mstart\u001b[0m\u001b[1;33m,\u001b[0m \u001b[0mstop\u001b[0m\u001b[1;33m+\u001b[0m\u001b[1;36m1\u001b[0m\u001b[1;33m)\u001b[0m\u001b[1;33m:\u001b[0m\u001b[1;33m\u001b[0m\u001b[1;33m\u001b[0m\u001b[0m\n\u001b[1;32m----> 2\u001b[1;33m     \u001b[0mcur\u001b[0m\u001b[1;33m.\u001b[0m\u001b[0mexecute\u001b[0m\u001b[1;33m(\u001b[0m\u001b[1;34m\"INSERT INTO ai_med.Pacjent(imie, nazwisko, data_urodzenia) VALUES ('%s', '%s', '%s');\"\u001b[0m \u001b[1;33m%\u001b[0m\u001b[1;33m(\u001b[0m\u001b[0mnames\u001b[0m\u001b[1;33m.\u001b[0m\u001b[0mget_first_name\u001b[0m\u001b[1;33m(\u001b[0m\u001b[1;33m)\u001b[0m\u001b[1;33m,\u001b[0m \u001b[0mnames\u001b[0m\u001b[1;33m.\u001b[0m\u001b[0mget_last_name\u001b[0m\u001b[1;33m(\u001b[0m\u001b[1;33m)\u001b[0m\u001b[1;33m,\u001b[0m \u001b[0mrandom_date\u001b[0m\u001b[1;33m(\u001b[0m\u001b[0mdatetime\u001b[0m\u001b[1;33m.\u001b[0m\u001b[0mdate\u001b[0m\u001b[1;33m(\u001b[0m\u001b[1;36m1920\u001b[0m\u001b[1;33m,\u001b[0m \u001b[1;36m1\u001b[0m\u001b[1;33m,\u001b[0m \u001b[1;36m1\u001b[0m\u001b[1;33m)\u001b[0m\u001b[1;33m,\u001b[0m \u001b[0mdatetime\u001b[0m\u001b[1;33m.\u001b[0m\u001b[0mdate\u001b[0m\u001b[1;33m(\u001b[0m\u001b[1;36m2004\u001b[0m\u001b[1;33m,\u001b[0m \u001b[1;36m2\u001b[0m\u001b[1;33m,\u001b[0m \u001b[1;36m1\u001b[0m\u001b[1;33m)\u001b[0m\u001b[1;33m)\u001b[0m\u001b[1;33m)\u001b[0m\u001b[1;33m)\u001b[0m\u001b[1;33m\u001b[0m\u001b[1;33m\u001b[0m\u001b[0m\n\u001b[0m\u001b[0;32m      3\u001b[0m \u001b[0mcon\u001b[0m\u001b[1;33m.\u001b[0m\u001b[0mcancel\u001b[0m\u001b[1;33m(\u001b[0m\u001b[1;33m)\u001b[0m\u001b[1;33m\u001b[0m\u001b[1;33m\u001b[0m\u001b[0m\n\u001b[0;32m      4\u001b[0m \u001b[1;31m#con.commit()\u001b[0m\u001b[1;33m\u001b[0m\u001b[1;33m\u001b[0m\u001b[0m\n",
      "\u001b[1;32mc:\\Users\\krukd\\.conda\\envs\\ZSBD\\lib\\site-packages\\names\\__init__.py\u001b[0m in \u001b[0;36mget_last_name\u001b[1;34m()\u001b[0m\n\u001b[0;32m     37\u001b[0m \u001b[1;33m\u001b[0m\u001b[0m\n\u001b[0;32m     38\u001b[0m \u001b[1;32mdef\u001b[0m \u001b[0mget_last_name\u001b[0m\u001b[1;33m(\u001b[0m\u001b[1;33m)\u001b[0m\u001b[1;33m:\u001b[0m\u001b[1;33m\u001b[0m\u001b[1;33m\u001b[0m\u001b[0m\n\u001b[1;32m---> 39\u001b[1;33m     \u001b[1;32mreturn\u001b[0m \u001b[0mget_name\u001b[0m\u001b[1;33m(\u001b[0m\u001b[0mFILES\u001b[0m\u001b[1;33m[\u001b[0m\u001b[1;34m'last'\u001b[0m\u001b[1;33m]\u001b[0m\u001b[1;33m)\u001b[0m\u001b[1;33m.\u001b[0m\u001b[0mcapitalize\u001b[0m\u001b[1;33m(\u001b[0m\u001b[1;33m)\u001b[0m\u001b[1;33m\u001b[0m\u001b[1;33m\u001b[0m\u001b[0m\n\u001b[0m\u001b[0;32m     40\u001b[0m \u001b[1;33m\u001b[0m\u001b[0m\n\u001b[0;32m     41\u001b[0m \u001b[1;33m\u001b[0m\u001b[0m\n",
      "\u001b[1;32mc:\\Users\\krukd\\.conda\\envs\\ZSBD\\lib\\site-packages\\names\\__init__.py\u001b[0m in \u001b[0;36mget_name\u001b[1;34m(filename)\u001b[0m\n\u001b[0;32m     23\u001b[0m     \u001b[0mselected\u001b[0m \u001b[1;33m=\u001b[0m \u001b[0mrandom\u001b[0m\u001b[1;33m.\u001b[0m\u001b[0mrandom\u001b[0m\u001b[1;33m(\u001b[0m\u001b[1;33m)\u001b[0m \u001b[1;33m*\u001b[0m \u001b[1;36m90\u001b[0m\u001b[1;33m\u001b[0m\u001b[1;33m\u001b[0m\u001b[0m\n\u001b[0;32m     24\u001b[0m     \u001b[1;32mwith\u001b[0m \u001b[0mopen\u001b[0m\u001b[1;33m(\u001b[0m\u001b[0mfilename\u001b[0m\u001b[1;33m)\u001b[0m \u001b[1;32mas\u001b[0m \u001b[0mname_file\u001b[0m\u001b[1;33m:\u001b[0m\u001b[1;33m\u001b[0m\u001b[1;33m\u001b[0m\u001b[0m\n\u001b[1;32m---> 25\u001b[1;33m         \u001b[1;32mfor\u001b[0m \u001b[0mline\u001b[0m \u001b[1;32min\u001b[0m \u001b[0mname_file\u001b[0m\u001b[1;33m:\u001b[0m\u001b[1;33m\u001b[0m\u001b[1;33m\u001b[0m\u001b[0m\n\u001b[0m\u001b[0;32m     26\u001b[0m             \u001b[0mname\u001b[0m\u001b[1;33m,\u001b[0m \u001b[0m_\u001b[0m\u001b[1;33m,\u001b[0m \u001b[0mcummulative\u001b[0m\u001b[1;33m,\u001b[0m \u001b[0m_\u001b[0m \u001b[1;33m=\u001b[0m \u001b[0mline\u001b[0m\u001b[1;33m.\u001b[0m\u001b[0msplit\u001b[0m\u001b[1;33m(\u001b[0m\u001b[1;33m)\u001b[0m\u001b[1;33m\u001b[0m\u001b[1;33m\u001b[0m\u001b[0m\n\u001b[0;32m     27\u001b[0m             \u001b[1;32mif\u001b[0m \u001b[0mfloat\u001b[0m\u001b[1;33m(\u001b[0m\u001b[0mcummulative\u001b[0m\u001b[1;33m)\u001b[0m \u001b[1;33m>\u001b[0m \u001b[0mselected\u001b[0m\u001b[1;33m:\u001b[0m\u001b[1;33m\u001b[0m\u001b[1;33m\u001b[0m\u001b[0m\n",
      "\u001b[1;32mc:\\Users\\krukd\\.conda\\envs\\ZSBD\\lib\\encodings\\cp1252.py\u001b[0m in \u001b[0;36mdecode\u001b[1;34m(self, input, final)\u001b[0m\n\u001b[0;32m     20\u001b[0m \u001b[1;33m\u001b[0m\u001b[0m\n\u001b[0;32m     21\u001b[0m \u001b[1;32mclass\u001b[0m \u001b[0mIncrementalDecoder\u001b[0m\u001b[1;33m(\u001b[0m\u001b[0mcodecs\u001b[0m\u001b[1;33m.\u001b[0m\u001b[0mIncrementalDecoder\u001b[0m\u001b[1;33m)\u001b[0m\u001b[1;33m:\u001b[0m\u001b[1;33m\u001b[0m\u001b[1;33m\u001b[0m\u001b[0m\n\u001b[1;32m---> 22\u001b[1;33m     \u001b[1;32mdef\u001b[0m \u001b[0mdecode\u001b[0m\u001b[1;33m(\u001b[0m\u001b[0mself\u001b[0m\u001b[1;33m,\u001b[0m \u001b[0minput\u001b[0m\u001b[1;33m,\u001b[0m \u001b[0mfinal\u001b[0m\u001b[1;33m=\u001b[0m\u001b[1;32mFalse\u001b[0m\u001b[1;33m)\u001b[0m\u001b[1;33m:\u001b[0m\u001b[1;33m\u001b[0m\u001b[1;33m\u001b[0m\u001b[0m\n\u001b[0m\u001b[0;32m     23\u001b[0m         \u001b[1;32mreturn\u001b[0m \u001b[0mcodecs\u001b[0m\u001b[1;33m.\u001b[0m\u001b[0mcharmap_decode\u001b[0m\u001b[1;33m(\u001b[0m\u001b[0minput\u001b[0m\u001b[1;33m,\u001b[0m\u001b[0mself\u001b[0m\u001b[1;33m.\u001b[0m\u001b[0merrors\u001b[0m\u001b[1;33m,\u001b[0m\u001b[0mdecoding_table\u001b[0m\u001b[1;33m)\u001b[0m\u001b[1;33m[\u001b[0m\u001b[1;36m0\u001b[0m\u001b[1;33m]\u001b[0m\u001b[1;33m\u001b[0m\u001b[1;33m\u001b[0m\u001b[0m\n\u001b[0;32m     24\u001b[0m \u001b[1;33m\u001b[0m\u001b[0m\n",
      "\u001b[1;31mKeyboardInterrupt\u001b[0m: "
     ]
    }
   ],
   "source": [
    "for row in range(start, stop+1):\n",
    "    cur.execute(\"INSERT INTO ai_med.Pacjent(imie, nazwisko, data_urodzenia) VALUES ('%s', '%s', '%s');\" %(names.get_first_name(), names.get_last_name(), random_date(datetime.date(1920, 1, 1), datetime.date(2004, 2, 1))))\n",
    "#con.cancel()\n",
    "con.commit()"
   ]
  },
  {
   "cell_type": "markdown",
   "metadata": {},
   "source": [
    "# tutaj moznaby odczytywac wszystkie id pacjentow i je zapisywac, żeby później z nich losować przy wpisywaniu danych z uzyciem klucza obcego z tej wlasnie tabeli pacjenci (bo to autoinkrementowanie czasem płata figle)"
   ]
  },
  {
   "cell_type": "code",
   "execution_count": 179,
   "metadata": {},
   "outputs": [],
   "source": [
    "for row in range(start, stop+1):\n",
    "    cur.execute('INSERT INTO ai_med.\"Aktualnie przyjmowane leki\"' + \"(data_rozpoczecia_atorvastatin_calcium__cholesterol, data_rozpoczecia_ventolin__asthma, data_rozpoczecia_hydrochlorothiazide__wysokie_cisnienie_krwi, data_zakonczenia_atorvastatin_calcium__cholesterol, data_zakonczenia_ventolin__asthma, data_zakonczenia_hydrochlorothiazide__wysokie_cisnienie_krwi) VALUES ('%s', '%s', '%s', '%s', '%s', '%s');\" %(random_date(datetime.date(2018, 1, 1), datetime.date(2020, 2, 1)), random_date(datetime.date(2018, 1, 1), datetime.date(2020, 2, 1)), random_date(datetime.date(2018, 1, 1), datetime.date(2020, 2, 1)), random_date(datetime.date(2020, 2, 1), datetime.date(2022, 2, 1)), random_date(datetime.date(2020, 2, 1), datetime.date(2022, 2, 1)), random_date(datetime.date(2020, 2, 1), datetime.date(2022, 2, 1))))\n",
    "con.commit()"
   ]
  },
  {
   "cell_type": "code",
   "execution_count": 180,
   "metadata": {},
   "outputs": [],
   "source": [
    "for row in range(start, stop+1):\n",
    "    cur.execute('INSERT INTO ai_med.\"leczenie_w_kierunku_kod_ICD_10\"' + \"(data_rozpoczecia_leczenia_u07, data_rozpoczecia_leczenia_i10, data_rozpoczecia_leczenia_j45, data_zakonczenia_leczenia_u07, data_zakonczenia_leczenia_i10, data_zakonczenia_leczenia_j45) VALUES ('%s', '%s', '%s', '%s', '%s', '%s');\" %(random_date(datetime.date(2018, 1, 1), datetime.date(2020, 2, 1)), random_date(datetime.date(2018, 1, 1), datetime.date(2020, 2, 1)), random_date(datetime.date(2018, 1, 1), datetime.date(2020, 2, 1)), random_date(datetime.date(2020, 2, 1), datetime.date(2022, 2, 1)), random_date(datetime.date(2020, 2, 1), datetime.date(2022, 2, 1)), random_date(datetime.date(2020, 2, 1), datetime.date(2022, 2, 1))))\n",
    "con.commit()"
   ]
  },
  {
   "cell_type": "code",
   "execution_count": 181,
   "metadata": {},
   "outputs": [],
   "source": [
    "for row in range(start, stop+1):\n",
    "    cur.execute(\"INSERT INTO ai_med.morfologia(ilosc_erytrocytow, stezenie_hemoglobiny, mcv, mch, mchc, rdw, pacjentid, data_wykonanej_morfologii) VALUES (%f, %f, %f, %f, %f, %f, %d, '%s');\" %(random.uniform(20.0, 60.6), random.uniform(20.0, 60.6), random.uniform(20.0, 60.6), random.uniform(20.0, 60.6), random.uniform(20.0, 60.6), random.uniform(20.0, 60.6), random.randint(start+1, stop-1) , random_date(datetime.date(2020, 2, 1), datetime.date(2022, 2, 1))))\n",
    "con.commit()"
   ]
  },
  {
   "cell_type": "code",
   "execution_count": 182,
   "metadata": {},
   "outputs": [],
   "source": [
    "for row in range(start, stop+1):\n",
    "    cur.execute('INSERT INTO ai_med.\"Nazwa pliku z notatkami lekarskimi\"' + \"(lekarz_rodzinny, radiolog, pacjentid) VALUES ('%s', '%s', %d);\" %('lekarz_rodzinny_' + str(uuid.uuid1()), 'radiolog_' + str(uuid.uuid1()), random.randint(start+1, stop-1)))\n",
    "con.commit()"
   ]
  },
  {
   "cell_type": "code",
   "execution_count": 183,
   "metadata": {},
   "outputs": [],
   "source": [
    "for row in range(start, stop+1):\n",
    "    cur.execute(\"INSERT INTO ai_med.Objawy(bol_glowy, zmeczenie, data_obserwowanych_objawow) VALUES ('%s', '%s', '%s');\" %(bool(random.getrandbits(1)), bool(random.getrandbits(1)), random_date(datetime.date(2010, 2, 1), datetime.date(2022, 2, 1))))\n",
    "con.commit()"
   ]
  },
  {
   "cell_type": "code",
   "execution_count": 184,
   "metadata": {},
   "outputs": [],
   "source": [
    "for row in range(start, stop+1):\n",
    "    cur.execute(\"INSERT INTO ai_med.Obrazy(radiologiczne, histopatologiczne, pacjentid) VALUES ('%s', '%s', %d);\" %('obraz_radiologiczny_' + str(uuid.uuid1()), 'obraz_histopatologiczny_' + str(uuid.uuid1()), random.randint(start+1, stop-1)))\n",
    "con.commit()"
   ]
  },
  {
   "cell_type": "code",
   "execution_count": 185,
   "metadata": {},
   "outputs": [],
   "source": [
    "for row in range(start, stop+1):\n",
    "    cur.execute(\"INSERT INTO ai_med.Operacje(data_przeszczepu_serca, data_wyciecia_migdalkow) VALUES ('%s', '%s');\" %(random_date(datetime.date(2018, 1, 1), datetime.date(2020, 2, 1)), random_date(datetime.date(2018, 1, 1), datetime.date(2020, 2, 1))))\n",
    "con.commit()"
   ]
  },
  {
   "cell_type": "code",
   "execution_count": 186,
   "metadata": {},
   "outputs": [],
   "source": [
    "cur.close()\n",
    "con.close()"
   ]
  }
 ],
 "metadata": {
  "kernelspec": {
   "display_name": "Python 3.9.13 ('ZSBD')",
   "language": "python",
   "name": "python3"
  },
  "language_info": {
   "codemirror_mode": {
    "name": "ipython",
    "version": 3
   },
   "file_extension": ".py",
   "mimetype": "text/x-python",
   "name": "python",
   "nbconvert_exporter": "python",
   "pygments_lexer": "ipython3",
   "version": "3.9.13"
  },
  "orig_nbformat": 4,
  "vscode": {
   "interpreter": {
    "hash": "8357cfc344e27cdb3246fb42594e9ac9d5e7fb52400a68e0573ac62de3ff6ef8"
   }
  }
 },
 "nbformat": 4,
 "nbformat_minor": 2
}
