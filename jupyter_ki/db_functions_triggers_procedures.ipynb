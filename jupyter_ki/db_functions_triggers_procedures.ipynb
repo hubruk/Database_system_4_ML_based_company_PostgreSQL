{
 "cells": [
  {
   "cell_type": "code",
   "execution_count": 837,
   "metadata": {},
   "outputs": [],
   "source": [
    "import psycopg2\n",
    "import pandas as pd\n",
    "import names\n",
    "import uuid\n",
    "import datetime"
   ]
  },
  {
   "cell_type": "code",
   "execution_count": 838,
   "metadata": {},
   "outputs": [],
   "source": [
    "#%run functions.ipynb"
   ]
  },
  {
   "cell_type": "code",
   "execution_count": 839,
   "metadata": {},
   "outputs": [],
   "source": [
    "database_setup = {\n",
    "    'host' : '127.0.0.11'\n",
    "    ,'database': 'ZSBD_p1'\n",
    "    ,'user' : 'inzdanych123'\n",
    "    ,'password' : 'inzdanych123'\n",
    "    ,'port' : '5432'\n",
    "}"
   ]
  },
  {
   "cell_type": "code",
   "execution_count": 840,
   "metadata": {},
   "outputs": [
    {
     "data": {
      "text/plain": [
       "{'host': '127.0.0.11',\n",
       " 'database': 'ZSBD_p1',\n",
       " 'user': 'inzdanych123',\n",
       " 'password': 'inzdanych123',\n",
       " 'port': '5432'}"
      ]
     },
     "execution_count": 840,
     "metadata": {},
     "output_type": "execute_result"
    }
   ],
   "source": [
    "database_setup"
   ]
  },
  {
   "cell_type": "code",
   "execution_count": 841,
   "metadata": {},
   "outputs": [],
   "source": [
    "def do_query(query, print_out = False, commit = False):\n",
    "    try:\n",
    "        con = psycopg2.connect(\n",
    "                    host = database_setup['host'],\n",
    "                    database = database_setup['database'],\n",
    "                    user = database_setup['user'],\n",
    "                    password = database_setup['password'],\n",
    "                    port = database_setup['port'])\n",
    "\n",
    "        cur = con.cursor()\n",
    "\n",
    "        cur.execute(query)\n",
    "        \n",
    "        for notice in con.notices:\n",
    "            print(notice)\n",
    "\n",
    "        if commit:\n",
    "            con.commit()\n",
    "\n",
    "        if print_out:\n",
    "            column_names = [desc[0] for desc in cur.description]\n",
    "            row_list = []\n",
    "            row = cur.fetchone()\n",
    "            while row is not None:\n",
    "                row_list.append(row)\n",
    "                #print(row)\n",
    "                row = cur.fetchone()\n",
    "            df = pd.DataFrame(row_list, columns=column_names)\n",
    "            print(df)\n",
    "        \n",
    "        cur.close()\n",
    "        con.close()\n",
    "        print('\\n')\n",
    "    except (Exception, psycopg2.DatabaseError) as error:\n",
    "            print(error)\n",
    "\n",
    "    finally:\n",
    "        if con is not None:\n",
    "            con.close()"
   ]
  },
  {
   "cell_type": "markdown",
   "metadata": {},
   "source": [
    "# FUNCTIONS"
   ]
  },
  {
   "cell_type": "code",
   "execution_count": 842,
   "metadata": {},
   "outputs": [],
   "source": [
    "def function_def(func, commit = False):\n",
    "    try:\n",
    "        con = psycopg2.connect(\n",
    "                    host = database_setup['host'],\n",
    "                    database = database_setup['database'],\n",
    "                    user = database_setup['user'],\n",
    "                    password = database_setup['password'],\n",
    "                    port = database_setup['port'])\n",
    "\n",
    "        cur = con.cursor()\n",
    "\n",
    "        cur.execute(func)\n",
    "        if commit:\n",
    "            con.commit()\n",
    "\n",
    "        cur.close()\n",
    "        con.close()\n",
    "\n",
    "    except (Exception, psycopg2.DatabaseError) as error:\n",
    "            print(error)\n",
    "\n",
    "    finally:\n",
    "        if con is not None:\n",
    "            con.close()"
   ]
  },
  {
   "cell_type": "code",
   "execution_count": 843,
   "metadata": {},
   "outputs": [],
   "source": [
    "def function_tester(function, *arguments_of_it):\n",
    "    try:\n",
    "        con = psycopg2.connect(\n",
    "                    host = database_setup['host'],\n",
    "                    database = database_setup['database'],\n",
    "                    user = database_setup['user'],\n",
    "                    password = database_setup['password'],\n",
    "                    port = database_setup['port'])\n",
    "\n",
    "        cur = con.cursor()\n",
    "        \n",
    "        if len(arguments_of_it) == 1:\n",
    "            cur.execute(function + \"('\" +str(arguments_of_it[0]) + \"')\")\n",
    "        else:\n",
    "            cur.execute(function + str(arguments_of_it))\n",
    "\n",
    "        column_names = [desc[0] for desc in cur.description]\n",
    "        row_list = []\n",
    "        row = cur.fetchone()\n",
    "        while row is not None:\n",
    "            row_list.append(row)\n",
    "            #print(row)\n",
    "            row = cur.fetchone()\n",
    "        df = pd.DataFrame(row_list, columns=column_names)\n",
    "        print(df)\n",
    "        \n",
    "        for notice in con.notices:\n",
    "            print(notice)\n",
    "\n",
    "        cur.close()\n",
    "        con.close()\n",
    "\n",
    "    except (Exception, psycopg2.DatabaseError) as error:\n",
    "            print(\"FUNTION TESTER ERROR\")\n",
    "            print(error)\n",
    "\n",
    "    finally:\n",
    "        if con is not None:\n",
    "            con.close()"
   ]
  },
  {
   "cell_type": "code",
   "execution_count": 844,
   "metadata": {},
   "outputs": [
    {
     "name": "stdout",
     "output_type": "stream",
     "text": [
      "\n",
      "\n"
     ]
    }
   ],
   "source": [
    "do_query(\"\"\"\n",
    "drop function if exists ai_med.ilosc_dni_lek_pacjent_(character, character, character);\n",
    "\"\"\", \n",
    "commit=True)\n",
    "\n",
    "function_def(\"\"\"\n",
    "create or replace function ai_med.ilosc_dni_lek_pacjent_(imieee char, nazwiskooo char, lek char)\n",
    "\n",
    "returns table(\n",
    "   id int,\n",
    "   imie varchar,\n",
    "   nazwisko varchar,\n",
    "   data_rozpoczecie_brania_leku date,\n",
    "   data_zakonczenia_brania_leku date,\n",
    "   dni_brania_leku int\n",
    ")\n",
    "\n",
    "language plpgsql\n",
    "as\n",
    "$$\n",
    "\n",
    "declare\n",
    "   ilosc_pacjentow integer;\n",
    "\n",
    "begin\n",
    "\n",
    "   IF lek = 'ventolin'\n",
    "      THEN\n",
    "      return query\n",
    "      SELECT \n",
    "      pacjent.id\n",
    "      ,pacjent.imie\n",
    "      ,pacjent.nazwisko\n",
    "      ,\"Aktualnie przyjmowane leki\".data_rozpoczecia_ventolin__asthma\n",
    "      ,\"Aktualnie przyjmowane leki\".data_zakonczenia_ventolin__asthma \n",
    "      ,coalesce(\"Aktualnie przyjmowane leki\".data_zakonczenia_ventolin__asthma, cast(now() as date)) -\n",
    "      \"Aktualnie przyjmowane leki\".data_rozpoczecia_ventolin__asthma as \"dni_brania_ventolin\"\n",
    "      FROM ai_med.pacjent INNER JOIN ai_med.\"Aktualnie przyjmowane leki\" \n",
    "      ON \"Aktualnie przyjmowane leki\".id = pacjent.id \n",
    "      WHERE pacjent.imie = imieee and pacjent.nazwisko = nazwiskooo;\n",
    "   \n",
    "   elsif lek = 'atorvastatin' \n",
    "      THEN\n",
    "      return query\n",
    "      SELECT \n",
    "      pacjent.id\n",
    "      ,pacjent.imie\n",
    "      ,pacjent.nazwisko\n",
    "      ,\"Aktualnie przyjmowane leki\".data_rozpoczecia_atorvastatin_calcium__cholesterol\n",
    "      ,\"Aktualnie przyjmowane leki\".data_zakonczenia_atorvastatin_calcium__cholesterol \n",
    "      ,coalesce(\"Aktualnie przyjmowane leki\".data_zakonczenia_atorvastatin_calcium__cholesterol, cast(now() as date)) -\n",
    "      \"Aktualnie przyjmowane leki\".data_rozpoczecia_atorvastatin_calcium__cholesterol as \"dni_brania_ventolin\"\n",
    "      FROM ai_med.pacjent INNER JOIN ai_med.\"Aktualnie przyjmowane leki\" \n",
    "      ON \"Aktualnie przyjmowane leki\".id = pacjent.id \n",
    "      WHERE pacjent.imie = imieee and pacjent.nazwisko = nazwiskooo;\n",
    "   \n",
    "   elsif lek = 'hydrochlorothiazide' \n",
    "      THEN\n",
    "      return query\n",
    "      SELECT\n",
    "      pacjent.id\n",
    "      ,pacjent.imie\n",
    "      ,pacjent.nazwisko\n",
    "      ,\"Aktualnie przyjmowane leki\".data_rozpoczecia_hydrochlorothiazide__wysokie_cisnienie_krwi\n",
    "      ,\"Aktualnie przyjmowane leki\".data_zakonczenia_hydrochlorothiazide__wysokie_cisnienie_krwi \n",
    "      ,coalesce(\"Aktualnie przyjmowane leki\".data_zakonczenia_hydrochlorothiazide__wysokie_cisnienie_krwi, cast(now() as date)) -\n",
    "      \"Aktualnie przyjmowane leki\".data_rozpoczecia_hydrochlorothiazide__wysokie_cisnienie_krwi as \"dni_brania_ventolin\"\n",
    "      FROM ai_med.pacjent INNER JOIN ai_med.\"Aktualnie przyjmowane leki\" \n",
    "      ON \"Aktualnie przyjmowane leki\".id = pacjent.id \n",
    "      WHERE pacjent.imie = imieee and pacjent.nazwisko = nazwiskooo;\n",
    "   \n",
    "   ELSE \n",
    "      RAISE EXCEPTION 'Nie ma takiego leku';\n",
    "   END IF;\n",
    "\n",
    "end;\n",
    "$$;\n",
    "\"\"\",\n",
    "commit = True)"
   ]
  },
  {
   "cell_type": "code",
   "execution_count": 845,
   "metadata": {},
   "outputs": [
    {
     "name": "stdout",
     "output_type": "stream",
     "text": [
      "   id      imie nazwisko data_rozpoczecie_brania_leku  \\\n",
      "0   3  Rachelle  Wheeler                   2018-05-07   \n",
      "\n",
      "  data_zakonczenia_brania_leku  dni_brania_leku  \n",
      "0                   2020-08-04              820  \n"
     ]
    }
   ],
   "source": [
    "function_tester(\"select * FROM ai_med.ilosc_dni_lek_pacjent_\", \"Rachelle\", \"Wheeler\", \"ventolin\")"
   ]
  },
  {
   "cell_type": "code",
   "execution_count": 846,
   "metadata": {},
   "outputs": [
    {
     "name": "stdout",
     "output_type": "stream",
     "text": [
      "   id      imie nazwisko data_rozpoczecie_brania_leku  \\\n",
      "0   3  Rachelle  Wheeler                   2018-02-16   \n",
      "\n",
      "  data_zakonczenia_brania_leku  dni_brania_leku  \n",
      "0                   2020-09-14              941  \n"
     ]
    }
   ],
   "source": [
    "function_tester(\"select * FROM ai_med.ilosc_dni_lek_pacjent_\", \"Rachelle\", \"Wheeler\", \"atorvastatin\")"
   ]
  },
  {
   "cell_type": "code",
   "execution_count": 847,
   "metadata": {},
   "outputs": [
    {
     "name": "stdout",
     "output_type": "stream",
     "text": [
      "   id      imie nazwisko data_rozpoczecie_brania_leku  \\\n",
      "0   3  Rachelle  Wheeler                   2018-12-30   \n",
      "\n",
      "  data_zakonczenia_brania_leku  dni_brania_leku  \n",
      "0                   2021-02-27              790  \n"
     ]
    }
   ],
   "source": [
    "function_tester(\"select * FROM ai_med.ilosc_dni_lek_pacjent_\", \"Rachelle\", \"Wheeler\", \"hydrochlorothiazide\")"
   ]
  },
  {
   "cell_type": "code",
   "execution_count": 848,
   "metadata": {},
   "outputs": [
    {
     "name": "stdout",
     "output_type": "stream",
     "text": [
      "FUNTION TESTER ERROR\n",
      "Nie ma takiego leku\n",
      "CONTEXT:  PL/pgSQL function ai_med.ilosc_dni_lek_pacjent_(character,character,character) line 54 at RAISE\n",
      "\n"
     ]
    }
   ],
   "source": [
    "function_tester(\"select * FROM ai_med.ilosc_dni_lek_pacjent_\", \"Rachelle\", \"Wheler\", \"jakislek\")"
   ]
  },
  {
   "cell_type": "code",
   "execution_count": 849,
   "metadata": {},
   "outputs": [
    {
     "name": "stdout",
     "output_type": "stream",
     "text": [
      "\n",
      "\n"
     ]
    }
   ],
   "source": [
    "do_query(\"\"\"\n",
    "drop function if exists ai_med.insert_nowego_pacjenta(varchar(57), varchar(57), date);\n",
    "\"\"\", \n",
    "commit=True)\n",
    "\n",
    "function_def(\"\"\"\n",
    "create or replace function ai_med.insert_nowego_pacjenta(p_imie varchar(57), p_nazwisko varchar(57), p_data_urodzenia date)\n",
    "\n",
    "returns table(\n",
    "   imie varchar(57),\n",
    "   nazwisko varchar(57),\n",
    "   data_urodzenia date\n",
    "   )\n",
    "\n",
    "language plpgsql\n",
    "as\n",
    "$$\n",
    "\n",
    "begin\n",
    "\n",
    "   INSERT INTO ai_med.pacjent\n",
    "      (imie, nazwisko, data_urodzenia)\n",
    "   SELECT p_imie, p_nazwisko, p_data_urodzenia\n",
    "   WHERE\n",
    "      NOT EXISTS (\n",
    "         SELECT pacjent.imie, pacjent.nazwisko, pacjent.data_urodzenia FROM ai_med.pacjent \n",
    "         WHERE pacjent.imie = p_imie AND pacjent.nazwisko = p_nazwisko AND pacjent.data_urodzenia = p_data_urodzenia\n",
    "    );\n",
    "    \n",
    "\n",
    "   RAISE NOTICE 'Dane dla pacjenta % %, zostaly wprowadzone.', p_imie, p_nazwisko;\n",
    "   \n",
    "   return query\n",
    "   SELECT pacjent.imie, pacjent.nazwisko, pacjent.data_urodzenia FROM ai_med.pacjent \n",
    "   WHERE pacjent.imie = p_imie AND pacjent.nazwisko = p_nazwisko AND pacjent.data_urodzenia = p_data_urodzenia;\n",
    "\n",
    "end;\n",
    "$$;\n",
    "\"\"\",\n",
    "commit = True)"
   ]
  },
  {
   "cell_type": "code",
   "execution_count": 850,
   "metadata": {},
   "outputs": [],
   "source": [
    "imie = 'Jan'\n",
    "nazwisko = 'Nowak'\n",
    "data_urodzenia = '1998-11-22'"
   ]
  },
  {
   "cell_type": "code",
   "execution_count": 851,
   "metadata": {},
   "outputs": [
    {
     "name": "stdout",
     "output_type": "stream",
     "text": [
      "  imie nazwisko data_urodzenia\n",
      "0  Jan    Nowak     1998-11-22\n",
      "\n",
      "\n"
     ]
    }
   ],
   "source": [
    "do_query((\"\"\"\n",
    "SELECT pacjent.imie, pacjent.nazwisko, pacjent.data_urodzenia FROM ai_med.pacjent \n",
    "WHERE pacjent.imie = '%s' AND pacjent.nazwisko = '%s' AND pacjent.data_urodzenia = '%s'\n",
    "\"\"\") % (imie, nazwisko, data_urodzenia),\n",
    "commit=True,\n",
    "print_out=True)"
   ]
  },
  {
   "cell_type": "code",
   "execution_count": 852,
   "metadata": {},
   "outputs": [
    {
     "name": "stdout",
     "output_type": "stream",
     "text": [
      "NOTICE:  Dane dla pacjenta Jan Nowak, zostaly wprowadzone.\n",
      "\n",
      "  imie nazwisko data_urodzenia\n",
      "0  Jan    Nowak     1998-11-22\n",
      "\n",
      "\n",
      "NOTICE:  Dane dla pacjenta Jan Nowak, zostaly wprowadzone.\n",
      "\n",
      "  imie nazwisko data_urodzenia\n",
      "0  Jan    Nowak     1998-11-22\n",
      "\n",
      "\n",
      "NOTICE:  Dane dla pacjenta Jan Nowak, zostaly wprowadzone.\n",
      "\n",
      "  imie nazwisko data_urodzenia\n",
      "0  Jan    Nowak     1998-11-22\n",
      "\n",
      "\n"
     ]
    }
   ],
   "source": [
    "for i in range(0,3):\n",
    "    do_query(\"SELECT * FROM ai_med.insert_nowego_pacjenta('%s','%s','%s')\" % (imie, nazwisko, data_urodzenia),\n",
    "    commit=True,\n",
    "    print_out=True)"
   ]
  },
  {
   "cell_type": "code",
   "execution_count": 853,
   "metadata": {},
   "outputs": [
    {
     "name": "stdout",
     "output_type": "stream",
     "text": [
      "  imie nazwisko data_urodzenia\n",
      "0  Jan    Nowak     1998-11-22\n",
      "\n",
      "\n"
     ]
    }
   ],
   "source": [
    "do_query((\"\"\"\n",
    "SELECT pacjent.imie, pacjent.nazwisko, pacjent.data_urodzenia FROM ai_med.pacjent \n",
    "WHERE pacjent.imie = '%s' AND pacjent.nazwisko = '%s' AND pacjent.data_urodzenia = '%s'\n",
    "\"\"\") % (imie, nazwisko, data_urodzenia),\n",
    "commit=True,\n",
    "print_out=True)"
   ]
  },
  {
   "cell_type": "markdown",
   "metadata": {},
   "source": [
    "# TRIGGERS"
   ]
  },
  {
   "cell_type": "code",
   "execution_count": 854,
   "metadata": {},
   "outputs": [],
   "source": [
    "def trigger_def(func, commit = False):\n",
    "    try:\n",
    "        con = psycopg2.connect(\n",
    "                    host = database_setup['host'],\n",
    "                    database = database_setup['database'],\n",
    "                    user = database_setup['user'],\n",
    "                    password = database_setup['password'],\n",
    "                    port = database_setup['port'])\n",
    "\n",
    "        cur = con.cursor()\n",
    "\n",
    "        for notice in con.notices:\n",
    "            print(notice)\n",
    "\n",
    "        cur.execute(func)\n",
    "        if commit:\n",
    "            con.commit()\n",
    "\n",
    "        cur.close()\n",
    "        con.close()\n",
    "\n",
    "    except (Exception, psycopg2.DatabaseError) as error:\n",
    "            print(error)\n",
    "\n",
    "    finally:\n",
    "        if con is not None:\n",
    "            con.close()"
   ]
  },
  {
   "cell_type": "code",
   "execution_count": 855,
   "metadata": {},
   "outputs": [
    {
     "name": "stdout",
     "output_type": "stream",
     "text": [
      "trigger \"pacjent_insert_timestamp\" for relation \"pacjent\" already exists\n",
      "\n"
     ]
    }
   ],
   "source": [
    "trigger_def(\"\"\"\n",
    "CREATE TRIGGER pacjent_insert_timestamp \n",
    "    AFTER\n",
    "    INSERT \n",
    "    ON ai_med.pacjent\n",
    "    FOR EACH ROW EXECUTE PROCEDURE ai_med.pacjent_insert_timestamp_func();\n",
    "\"\"\",\n",
    "commit=True)"
   ]
  },
  {
   "cell_type": "code",
   "execution_count": 856,
   "metadata": {},
   "outputs": [],
   "source": [
    "function_def(\"\"\"\n",
    "CREATE OR REPLACE FUNCTION ai_med.pacjent_insert_timestamp_func() RETURNS TRIGGER AS $pacjent_table$\n",
    "   BEGIN\n",
    "      INSERT INTO ai_med.pacjent_insert_timestamp_table(id, ostatni_insert_danych) VALUES (NEW.id ,date_trunc('day', current_timestamp));\n",
    "      RETURN NEW;\n",
    "   END;\n",
    "$pacjent_table$ LANGUAGE plpgsql;\n",
    "\"\"\",\n",
    "commit=True)"
   ]
  },
  {
   "cell_type": "code",
   "execution_count": 857,
   "metadata": {},
   "outputs": [
    {
     "name": "stdout",
     "output_type": "stream",
     "text": [
      "\n",
      "\n",
      "\n",
      "\n"
     ]
    }
   ],
   "source": [
    "do_query(\"\"\"\n",
    "DROP TABLE IF EXISTS ai_med.pacjent_insert_timestamp_table\n",
    "\"\"\", \n",
    "commit=True)\n",
    "do_query(\"\"\"\n",
    "CREATE TABLE IF NOT EXISTS ai_med.pacjent_insert_timestamp_table\n",
    "(\n",
    "    id serial NOT NULL,\n",
    "    ostatni_insert_danych date NOT NULL,\n",
    "    ostatnie_powiadomienie_dla_MLE date\n",
    ");\n",
    "\"\"\", \n",
    "commit=True)"
   ]
  },
  {
   "cell_type": "code",
   "execution_count": 858,
   "metadata": {},
   "outputs": [
    {
     "name": "stdout",
     "output_type": "stream",
     "text": [
      "\n",
      "\n"
     ]
    }
   ],
   "source": [
    "do_query(\"\"\"\n",
    "ALTER TABLE IF EXISTS ai_med.pacjent_insert_timestamp_table\n",
    "    ADD FOREIGN KEY (id)\n",
    "    REFERENCES ai_med.pacjent (id) MATCH SIMPLE\n",
    "    ON UPDATE NO ACTION\n",
    "    ON DELETE NO ACTION\n",
    "    NOT VALID;\n",
    "\"\"\", \n",
    "commit=True)"
   ]
  },
  {
   "cell_type": "code",
   "execution_count": 859,
   "metadata": {},
   "outputs": [
    {
     "name": "stdout",
     "output_type": "stream",
     "text": [
      "'NoneType' object is not iterable\n",
      "       id    imie nazwisko data_urodzenia                       created_at\n",
      "0  110853  Dwight  Schrute     1962-11-23 2022-11-24 17:06:58.924089+01:00\n",
      "1  110854  Dwight  Schrute     1962-11-23 2022-11-24 17:21:18.163307+01:00\n",
      "2  110855  Dwight  Schrute     1962-11-23 2022-11-24 17:21:22.065947+01:00\n",
      "3  110892  Dwight  Schrute     1962-11-23 2022-11-25 19:22:01.986472+01:00\n",
      "4  110953  Dwight  Schrute     1962-11-23 2022-11-26 19:53:33.357679+01:00\n",
      "5  110957  Dwight  Schrute     1962-11-23 2022-11-26 19:58:57.996987+01:00\n",
      "\n",
      "\n",
      "       id ostatni_insert_danych ostatnie_powiadomienie_dla_mle\n",
      "0  110957            2022-11-26                           None\n",
      "\n",
      "\n"
     ]
    }
   ],
   "source": [
    "do_query(\"\"\"\n",
    "INSERT INTO ai_med.pacjent (imie, nazwisko, data_urodzenia) VALUES ('Dwight', 'Schrute', '1962-11-23');\n",
    "\"\"\", \n",
    "commit=True,\n",
    "print_out=True)\n",
    "do_query(\"\"\"\n",
    "SELECT * FROM ai_med.pacjent where imie ='Dwight' and nazwisko = 'Schrute';\n",
    "\"\"\", \n",
    "commit=True,\n",
    "print_out=True)\n",
    "do_query(\"\"\"\n",
    "SELECT * FROM ai_med.pacjent_insert_timestamp_table;\n",
    "\"\"\", \n",
    "commit=True,\n",
    "print_out=True)"
   ]
  },
  {
   "cell_type": "code",
   "execution_count": 860,
   "metadata": {},
   "outputs": [],
   "source": [
    "trigger_def(\"\"\"\n",
    "CREATE OR REPLACE TRIGGER message_to_ML_E\n",
    "    BEFORE\n",
    "    INSERT \n",
    "    ON ai_med.pacjent\n",
    "    FOR EACH ROW EXECUTE PROCEDURE ai_med.message_to_ML_E_func();\n",
    "\"\"\",\n",
    "commit=True)"
   ]
  },
  {
   "cell_type": "code",
   "execution_count": 861,
   "metadata": {},
   "outputs": [],
   "source": [
    "#TO W SUMIE POWINNO BYc NA KONIEC JAKIEJŚ TRANZAKCJI\n",
    "#W SENSIE ŻEBY ZROBIĆ TRANZAKCJĘ, KTÓRA ZAJMIE SIĘ DAILY INSERTEM DO TABEL\n",
    "function_def(\"\"\"\n",
    "CREATE OR REPLACE FUNCTION ai_med.message_to_ML_E_func() RETURNS TRIGGER AS $pacjent_table$\n",
    "\tdeclare\n",
    "\t\tliczba_wprowadzonych int;\n",
    "\tBEGIN\n",
    "\t\tSELECT count(*) into liczba_wprowadzonych from ai_med.pacjent_insert_timestamp_table \n",
    "\t\twhere ostatni_insert_danych = date_trunc('day', current_timestamp);\n",
    "\t\t\n",
    "\t\tIF liczba_wprowadzonych = 5\n",
    "\t\tTHEN\n",
    "\t\tUPDATE ai_med.pacjent_insert_timestamp_table\n",
    "\t\tSET ostatnie_powiadomienie_dla_mle=date_trunc('minute', current_timestamp);\n",
    "\t\traise notice 'Dzis zostalo wprowadzonych przynajmniej % nowych pacjentow, moze chcecie zrobic douczanie modelu?', \n",
    "\t\t\n",
    "\t\tliczba_wprowadzonych + 1;\n",
    "\t\t\n",
    "\t\tEND IF;\n",
    "\t\tRETURN NEW;\n",
    "   \tEND;\n",
    "$pacjent_table$ LANGUAGE plpgsql;\n",
    "\"\"\",\n",
    "commit=True)\n",
    "\n",
    "#może jakoś że jak jest mniej insertów danego dnia niż x (5 powiedzmy) to rollback?"
   ]
  },
  {
   "cell_type": "code",
   "execution_count": 862,
   "metadata": {},
   "outputs": [
    {
     "name": "stdout",
     "output_type": "stream",
     "text": [
      "'NoneType' object is not iterable\n",
      "       id ostatni_insert_danych ostatnie_powiadomienie_dla_mle\n",
      "0  110957            2022-11-26                           None\n",
      "1  110958            2022-11-26                           None\n",
      "\n",
      "\n"
     ]
    }
   ],
   "source": [
    "do_query(\"\"\"\n",
    "INSERT INTO ai_med.pacjent (imie, nazwisko, data_urodzenia) VALUES ('Paul', 'California', '2002-11-23');\n",
    "\"\"\", \n",
    "commit=True,\n",
    "print_out=True)\n",
    "\n",
    "do_query(\"\"\"\n",
    "SELECT * FROM ai_med.pacjent_insert_timestamp_table;\n",
    "\"\"\", \n",
    "commit=True,\n",
    "print_out=True)"
   ]
  },
  {
   "cell_type": "markdown",
   "metadata": {},
   "source": [
    "# PROCEDURES"
   ]
  },
  {
   "cell_type": "code",
   "execution_count": 863,
   "metadata": {},
   "outputs": [],
   "source": [
    "def procedure_def(func, commit = False):\n",
    "    try:\n",
    "        con = psycopg2.connect(\n",
    "                    host = database_setup['host'],\n",
    "                    database = database_setup['database'],\n",
    "                    user = database_setup['user'],\n",
    "                    password = database_setup['password'],\n",
    "                    port = database_setup['port'])\n",
    "\n",
    "        cur = con.cursor()\n",
    "\n",
    "        for notice in con.notices:\n",
    "            print(notice)\n",
    "\n",
    "        cur.execute(func)\n",
    "        if commit:\n",
    "            con.commit()\n",
    "\n",
    "        cur.close()\n",
    "        con.close()\n",
    "\n",
    "    except (Exception, psycopg2.DatabaseError) as error:\n",
    "            print(error)\n",
    "\n",
    "    finally:\n",
    "        if con is not None:\n",
    "            con.close()"
   ]
  },
  {
   "cell_type": "markdown",
   "metadata": {},
   "source": [
    "# 1. Inserting data using a procedure GENEROWANIE danych za pomocą procedur?"
   ]
  },
  {
   "cell_type": "markdown",
   "metadata": {},
   "source": [
    "# WYMAGANIA DO PROJEKTU NOTATKA TWOJA I TE PUNKTY CO SĄ POD SPODEM"
   ]
  },
  {
   "cell_type": "code",
   "execution_count": 864,
   "metadata": {},
   "outputs": [
    {
     "name": "stdout",
     "output_type": "stream",
     "text": [
      "\n",
      "\n"
     ]
    }
   ],
   "source": [
    "do_query(\"\"\"\n",
    "drop function if exists ai_med.id_pacjenta(varchar(57), varchar(57), date);\n",
    "\"\"\", \n",
    "commit=True)\n",
    "\n",
    "function_def(\"\"\"\n",
    "create or replace function ai_med.id_pacjenta(\n",
    "   p_imie varchar(57), p_nazwisko varchar(57), p_data_urodzenia date\n",
    "   , OUT pacjent_id int\n",
    "   )\n",
    "\n",
    "language plpgsql\n",
    "as\n",
    "$$\n",
    "\n",
    "begin\n",
    "\n",
    "   SELECT id into pacjent_id from ai_med.pacjent WHERE pacjent.imie = p_imie AND pacjent.nazwisko = p_nazwisko AND pacjent.data_urodzenia = p_data_urodzenia;\n",
    "\n",
    "   RAISE NOTICE 'ID pacjenta to %.', pacjent_id;\n",
    "\n",
    "end;\n",
    "$$;\n",
    "\"\"\",\n",
    "commit = True)"
   ]
  },
  {
   "cell_type": "code",
   "execution_count": 865,
   "metadata": {},
   "outputs": [
    {
     "name": "stdout",
     "output_type": "stream",
     "text": [
      "NOTICE:  ID pacjenta to 110894.\n",
      "\n",
      "   pacjent_id\n",
      "0      110894\n",
      "\n",
      "\n"
     ]
    }
   ],
   "source": [
    "do_query(\"SELECT * FROM ai_med.id_pacjenta('%s','%s','%s')\" % (imie, nazwisko, data_urodzenia),\n",
    "    commit=True,\n",
    "    print_out=True)"
   ]
  },
  {
   "cell_type": "code",
   "execution_count": null,
   "metadata": {},
   "outputs": [],
   "source": []
  },
  {
   "cell_type": "code",
   "execution_count": 866,
   "metadata": {},
   "outputs": [
    {
     "name": "stdout",
     "output_type": "stream",
     "text": [
      "NOTICE:  procedure ai_med.database_insert_procedure(pg_catalog.varchar,pg_catalog.varchar,date) does not exist, skipping\n",
      "\n",
      "\n",
      "\n"
     ]
    }
   ],
   "source": [
    "#########bez problemu z kluczem (sama tabela morfologia)\n",
    "\n",
    "do_query(\"\"\"\n",
    "DROP PROCEDURE IF EXISTS ai_med.database_insert_procedure(varchar(57), varchar(57), date)\n",
    "\"\"\", \n",
    "commit=True)\n",
    "\n",
    "procedure_def(\n",
    "\"\"\"\n",
    "create or replace procedure ai_med.database_insert_procedure(\n",
    "    \n",
    "    --dane pacjent \n",
    "    p_imie varchar(57), p_nazwisko varchar(57), p_data_urodzenia date\n",
    "    \n",
    "    --dane leki\n",
    "    ,data_r_atorvastatin_calcium date, data_r_ventolin date, data_r_hydrochlorothiazide date\n",
    "    ,data_z_atorvastatin_calcium date, data_z_ventolin date, data_z_hydrochlorothiazide date\n",
    "\n",
    "    --dane choroby\n",
    "    ,data_r_leczenia_u07 date, data_r_leczenia_i10 date, data_r_leczenia_j45 date\n",
    "    ,data_z_leczenia_u07 date, data_z_leczenia_i10 date, data_z_leczenia_j45 date\n",
    "    \n",
    "    ------------------\n",
    "    --dane morfologia\n",
    "    ,il_erytrocytow real, st_hemoglobiny real, V_mcv real, V_mch real, V_mchc real, V_rdw real \n",
    "    ,data_wyk_morfologii date\n",
    "\n",
    "    --dane notatki lekarskie\n",
    "    ,lek_rodzinny varchar(100), radiol varchar(100)\n",
    "\n",
    "    --dane objawy\n",
    "    ,bol_glow boolean, zmecz boolean, data_obs_objawow date\n",
    "\n",
    "    --dane obrazy\n",
    "    ,radio varchar(100), histop varchar(100)\n",
    "\n",
    "    --dane operacje\n",
    "    ,d_przeszczepu_serca date, d_wyciecia_migdalkow date\n",
    "\n",
    "    )\n",
    "language plpgsql    \n",
    "as $$\n",
    "\n",
    "declare\n",
    "    id_pacjenta_do_innych_tabel int = 1;\n",
    "\n",
    "begin\n",
    "    --dane pacjent\n",
    "    INSERT INTO ai_med.pacjent\n",
    "      (imie, nazwisko, data_urodzenia)\n",
    "    SELECT p_imie, p_nazwisko, p_data_urodzenia\n",
    "    WHERE\n",
    "      NOT EXISTS (\n",
    "         SELECT pacjent.imie, pacjent.nazwisko, pacjent.data_urodzenia FROM ai_med.pacjent \n",
    "         WHERE pacjent.imie = p_imie AND pacjent.nazwisko = p_nazwisko AND pacjent.data_urodzenia = p_data_urodzenia\n",
    "    );\n",
    "\n",
    "    --SELECT * into id_pacjenta_do_innych_tabel FROM ai_med.id_pacjenta(p_imie, p_nazwisko, p_data_urodzenia);\n",
    "    \n",
    "    \n",
    "\n",
    "    ----------------\n",
    "    --dane morfologia\n",
    "    INSERT INTO ai_med.morfologia(\n",
    "    ilosc_erytrocytow, stezenie_hemoglobiny, mcv, mch, mchc, rdw \n",
    "    ,pacjentid\n",
    "    ,data_wykonanej_morfologii\n",
    "    )\n",
    "    VALUES \n",
    "    (\n",
    "    il_erytrocytow, st_hemoglobiny, V_mcv, V_mch, V_mchc, V_rdw \n",
    "    ,id_pacjenta_do_innych_tabel\n",
    "    ,data_wyk_morfologii\n",
    "    );\n",
    "\n",
    "    \n",
    "    \n",
    "\n",
    "end;\n",
    "$$\n",
    "\"\"\",\n",
    "commit=True)"
   ]
  },
  {
   "cell_type": "code",
   "execution_count": 867,
   "metadata": {},
   "outputs": [
    {
     "name": "stdout",
     "output_type": "stream",
     "text": [
      "NOTICE:  procedure ai_med.database_insert_procedure(pg_catalog.varchar,pg_catalog.varchar,date) does not exist, skipping\n",
      "\n",
      "\n",
      "\n"
     ]
    }
   ],
   "source": [
    "##############to sprawdz czy działa po ogarnięciu KLUCZY\n",
    "\n",
    "do_query(\"\"\"\n",
    "DROP PROCEDURE IF EXISTS ai_med.database_insert_procedure(varchar(57), varchar(57), date)\n",
    "\"\"\", \n",
    "commit=True)\n",
    "\n",
    "procedure_def(\n",
    "\"\"\"\n",
    "create or replace procedure ai_med.database_insert_procedure(\n",
    "    \n",
    "    --dane pacjent \n",
    "    p_imie varchar(57), p_nazwisko varchar(57), p_data_urodzenia date\n",
    "    \n",
    "    --dane leki\n",
    "    ,data_r_atorvastatin_calcium date, data_r_ventolin date, data_r_hydrochlorothiazide date\n",
    "    ,data_z_atorvastatin_calcium date, data_z_ventolin date, data_z_hydrochlorothiazide date\n",
    "\n",
    "    --dane choroby\n",
    "    ,data_r_leczenia_u07 date, data_r_leczenia_i10 date, data_r_leczenia_j45 date\n",
    "    ,data_z_leczenia_u07 date, data_z_leczenia_i10 date, data_z_leczenia_j45 date\n",
    "    \n",
    "    ------------------\n",
    "    --dane morfologia\n",
    "    ,il_erytrocytow real, st_hemoglobiny real, V_mcv real, V_mch real, V_mchc real, V_rdw real \n",
    "    ,data_wyk_morfologii date\n",
    "\n",
    "    --dane notatki lekarskie\n",
    "    ,lek_rodzinny varchar(100), radiol varchar(100)\n",
    "\n",
    "    --dane objawy\n",
    "    ,bol_glow boolean, zmecz boolean, data_obs_objawow date\n",
    "\n",
    "    --dane obrazy\n",
    "    ,radio varchar(100), histop varchar(100)\n",
    "\n",
    "    --dane operacje\n",
    "    ,d_przeszczepu_serca date, d_wyciecia_migdalkow date\n",
    "\n",
    "    )\n",
    "language plpgsql    \n",
    "as $$\n",
    "\n",
    "declare\n",
    "    id_pacjenta_do_innych_tabel int = 1;\n",
    "\n",
    "begin\n",
    "    --dane pacjent\n",
    "    INSERT INTO ai_med.pacjent\n",
    "      (imie, nazwisko, data_urodzenia)\n",
    "    SELECT p_imie, p_nazwisko, p_data_urodzenia\n",
    "    WHERE\n",
    "      NOT EXISTS (\n",
    "         SELECT pacjent.imie, pacjent.nazwisko, pacjent.data_urodzenia FROM ai_med.pacjent \n",
    "         WHERE pacjent.imie = p_imie AND pacjent.nazwisko = p_nazwisko AND pacjent.data_urodzenia = p_data_urodzenia\n",
    "    );\n",
    "\n",
    "    --SELECT * into id_pacjenta_do_innych_tabel FROM ai_med.id_pacjenta(p_imie, p_nazwisko, p_data_urodzenia);\n",
    "    \n",
    "    --dane leki\n",
    "    INSERT INTO ai_med.\"Aktualnie przyjmowane leki\"(\n",
    "    id\n",
    "    ,data_rozpoczecia_atorvastatin_calcium__cholesterol, data_rozpoczecia_ventolin__asthma, data_rozpoczecia_hydrochlorothiazide__wysokie_cisnienie_krwi\n",
    "    ,data_zakonczenia_atorvastatin_calcium__cholesterol, data_zakonczenia_ventolin__asthma, data_zakonczenia_hydrochlorothiazide__wysokie_cisnienie_krwi)\n",
    "    VALUES \n",
    "    (id_pacjenta_do_innych_tabel\n",
    "    ,data_r_atorvastatin_calcium, data_r_ventolin, data_r_hydrochlorothiazide\n",
    "    ,data_z_atorvastatin_calcium, data_z_ventolin, data_z_hydrochlorothiazide);\n",
    "    \n",
    "    --dane choroby\n",
    "    INSERT INTO ai_med.\"leczenie_w_kierunku_kod_ICD_10\"(\n",
    "    id\n",
    "    ,data_rozpoczecia_leczenia_u07, data_rozpoczecia_leczenia_i10, data_rozpoczecia_leczenia_j45\n",
    "    ,data_zakonczenia_leczenia_u07, data_zakonczenia_leczenia_i10, data_zakonczenia_leczenia_j45\n",
    "    )\n",
    "    VALUES \n",
    "    (id_pacjenta_do_innych_tabel\n",
    "    ,data_r_leczenia_u07, data_r_leczenia_i10, data_r_leczenia_j45\n",
    "    ,data_z_leczenia_u07, data_z_leczenia_i10, data_z_leczenia_j45);\n",
    "\n",
    "    ----------------\n",
    "    --dane morfologia\n",
    "    INSERT INTO ai_med.morfologia(\n",
    "    ilosc_erytrocytow, stezenie_hemoglobiny, mcv, mch, mchc, rdw \n",
    "    ,pacjentid\n",
    "    ,data_wykonanej_morfologii\n",
    "    )\n",
    "    VALUES \n",
    "    (\n",
    "    il_erytrocytow, st_hemoglobiny, V_mcv, V_mch, V_mchc, V_rdw \n",
    "    ,id_pacjenta_do_innych_tabel\n",
    "    ,data_wyk_morfologii\n",
    "    );\n",
    "\n",
    "    --dane notatki lekarskie\n",
    "    INSERT INTO ai_med.\"Nazwa pliku z notatkami lekarskimi\"(\n",
    "    lekarz_rodzinny, radiolog\n",
    "    , pacjentid\n",
    "    )\n",
    "    VALUES \n",
    "    (\n",
    "    lek_rodzinny, radiol\n",
    "    ,id_pacjenta_do_innych_tabel\n",
    "    );\n",
    "\n",
    "    --dane objawy\n",
    "    INSERT INTO ai_med.Objawy(\n",
    "    id\n",
    "    ,bol_glowy, zmeczenie, data_obserwowanych_objawow\n",
    "    )\n",
    "    VALUES \n",
    "    (\n",
    "    id_pacjenta_do_innych_tabel\n",
    "    ,bol_glow, zmecz, data_obs_objawow\n",
    "    );\n",
    "\n",
    "    --dane obrazy\n",
    "    INSERT INTO ai_med.Obrazy(\n",
    "    radiologiczne, histopatologiczne\n",
    "    ,pacjentid\n",
    "    )\n",
    "    VALUES \n",
    "    (\n",
    "    radio, histop\n",
    "    ,id_pacjenta_do_innych_tabel\n",
    "    );\n",
    "\n",
    "    --dane operacje\n",
    "    INSERT INTO ai_med.Operacje(\n",
    "    id\n",
    "    ,data_przeszczepu_serca, data_wyciecia_migdalkow\n",
    "    )\n",
    "    VALUES \n",
    "    (\n",
    "    id_pacjenta_do_innych_tabel\n",
    "    ,d_przeszczepu_serca, d_wyciecia_migdalkow\n",
    "    );\n",
    "    \n",
    "\n",
    "end;\n",
    "$$\n",
    "\"\"\",\n",
    "commit=True)"
   ]
  },
  {
   "cell_type": "code",
   "execution_count": null,
   "metadata": {},
   "outputs": [],
   "source": []
  },
  {
   "cell_type": "code",
   "execution_count": 868,
   "metadata": {},
   "outputs": [
    {
     "name": "stdout",
     "output_type": "stream",
     "text": [
      "NOTICE:  procedure ai_med.database_insert_procedure(pg_catalog.varchar,pg_catalog.varchar,date) does not exist, skipping\n",
      "\n",
      "\n",
      "\n"
     ]
    }
   ],
   "source": [
    "do_query(\"\"\"\n",
    "DROP PROCEDURE IF EXISTS ai_med.database_insert_procedure(varchar(57), varchar(57), date)\n",
    "\"\"\", \n",
    "commit=True)\n",
    "\n",
    "procedure_def(\n",
    "\"\"\"\n",
    "create or replace procedure ai_med.database_insert_procedure(\n",
    "    \n",
    "    --dane pacjent \n",
    "    p_imie varchar(57), p_nazwisko varchar(57), p_data_urodzenia date\n",
    "    \n",
    "    --dane leki\n",
    "    ,data_r_atorvastatin_calcium date, data_r_ventolin date, data_r_hydrochlorothiazide date\n",
    "    ,data_z_atorvastatin_calcium date, data_z_ventolin date, data_z_hydrochlorothiazide date\n",
    "\n",
    "    --dane choroby\n",
    "    ,data_r_leczenia_u07 date, data_r_leczenia_i10 date, data_r_leczenia_j45 date\n",
    "    ,data_z_leczenia_u07 date, data_z_leczenia_i10 date, data_z_leczenia_j45 date\n",
    "    \n",
    "    ------------------\n",
    "    --dane morfologia\n",
    "    ,il_erytrocytow real, st_hemoglobiny real, V_mcv real, V_mch real, V_mchc real, V_rdw real \n",
    "    ,data_wyk_morfologii date\n",
    "\n",
    "    --dane notatki lekarskie\n",
    "    ,lek_rodzinny varchar(100), radiol varchar(100)\n",
    "\n",
    "    --dane objawy\n",
    "    ,bol_glow boolean, zmecz boolean, data_obs_objawow date\n",
    "\n",
    "    --dane obrazy\n",
    "    ,radio varchar(100), histop varchar(100)\n",
    "\n",
    "    --dane operacje\n",
    "    ,d_przeszczepu_serca date, d_wyciecia_migdalkow date\n",
    "\n",
    "    )\n",
    "language plpgsql    \n",
    "as $$\n",
    "\n",
    "declare\n",
    "    id_pacjenta_do_innych_tabel int;\n",
    "\n",
    "begin\n",
    "    --dane pacjent\n",
    "    PERFORM FROM ai_med.insert_nowego_pacjenta(p_imie, p_nazwisko, p_data_urodzenia);\n",
    "    SELECT * into id_pacjenta_do_innych_tabel FROM ai_med.id_pacjenta(p_imie, p_nazwisko, p_data_urodzenia);\n",
    "    \n",
    "    --dane leki\n",
    "    INSERT INTO ai_med.\"Aktualnie przyjmowane leki\"(\n",
    "    id\n",
    "    ,data_rozpoczecia_atorvastatin_calcium__cholesterol, data_rozpoczecia_ventolin__asthma, data_rozpoczecia_hydrochlorothiazide__wysokie_cisnienie_krwi\n",
    "    ,data_zakonczenia_atorvastatin_calcium__cholesterol, data_zakonczenia_ventolin__asthma, data_zakonczenia_hydrochlorothiazide__wysokie_cisnienie_krwi)\n",
    "    VALUES \n",
    "    (id_pacjenta_do_innych_tabel\n",
    "    ,data_r_atorvastatin_calcium, data_r_ventolin, data_r_hydrochlorothiazide\n",
    "    ,data_z_atorvastatin_calcium, data_z_ventolin, data_z_hydrochlorothiazide);\n",
    "    \n",
    "    --dane choroby\n",
    "    INSERT INTO ai_med.\"leczenie_w_kierunku_kod_ICD_10\"(\n",
    "    id\n",
    "    ,data_rozpoczecia_leczenia_u07, data_rozpoczecia_leczenia_i10, data_rozpoczecia_leczenia_j45\n",
    "    ,data_zakonczenia_leczenia_u07, data_zakonczenia_leczenia_i10, data_zakonczenia_leczenia_j45\n",
    "    )\n",
    "    VALUES \n",
    "    (id_pacjenta_do_innych_tabel\n",
    "    ,data_r_leczenia_u07, data_r_leczenia_i10, data_r_leczenia_j45\n",
    "    ,data_z_leczenia_u07, data_z_leczenia_i10, data_z_leczenia_j45);\n",
    "\n",
    "    ----------------\n",
    "    --dane morfologia\n",
    "    INSERT INTO ai_med.morfologia(\n",
    "    ilosc_erytrocytow, stezenie_hemoglobiny, mcv, mch, mchc, rdw \n",
    "    ,pacjentid\n",
    "    ,data_wykonanej_morfologii\n",
    "    )\n",
    "    VALUES \n",
    "    (\n",
    "    il_erytrocytow, st_hemoglobiny, V_mcv, V_mch, V_mchc, V_rdw \n",
    "    ,id_pacjenta_do_innych_tabel\n",
    "    ,data_wyk_morfologii\n",
    "    );\n",
    "\n",
    "    --dane notatki lekarskie\n",
    "    INSERT INTO ai_med.\"Nazwa pliku z notatkami lekarskimi\"(\n",
    "    lekarz_rodzinny, radiolog\n",
    "    , pacjentid\n",
    "    )\n",
    "    VALUES \n",
    "    (\n",
    "    lek_rodzinny, radiol\n",
    "    ,id_pacjenta_do_innych_tabel\n",
    "    );\n",
    "\n",
    "    --dane objawy\n",
    "    INSERT INTO ai_med.Objawy(\n",
    "    id\n",
    "    ,bol_glowy, zmeczenie, data_obserwowanych_objawow\n",
    "    )\n",
    "    VALUES \n",
    "    (\n",
    "    id_pacjenta_do_innych_tabel\n",
    "    ,bol_glow, zmecz, data_obs_objawow\n",
    "    );\n",
    "\n",
    "    --dane obrazy\n",
    "    INSERT INTO ai_med.Obrazy(\n",
    "    radiologiczne, histopatologiczne\n",
    "    ,pacjentid\n",
    "    )\n",
    "    VALUES \n",
    "    (\n",
    "    radio, histop\n",
    "    ,id_pacjenta_do_innych_tabel\n",
    "    );\n",
    "\n",
    "    --dane operacje\n",
    "    INSERT INTO ai_med.Operacje(\n",
    "    id\n",
    "    ,data_przeszczepu_serca, data_wyciecia_migdalkow\n",
    "    )\n",
    "    VALUES \n",
    "    (\n",
    "    id_pacjenta_do_innych_tabel\n",
    "    ,d_przeszczepu_serca, d_wyciecia_migdalkow\n",
    "    );\n",
    "    \n",
    "\n",
    "end;\n",
    "$$\n",
    "\"\"\",\n",
    "commit=True)"
   ]
  },
  {
   "cell_type": "code",
   "execution_count": 869,
   "metadata": {},
   "outputs": [],
   "source": [
    "%run functions.ipynb"
   ]
  },
  {
   "cell_type": "code",
   "execution_count": 870,
   "metadata": {},
   "outputs": [],
   "source": [
    "imie = names.get_first_name()\n",
    "nazwisko = names.get_last_name()\n",
    "data_urodzenia = random_date(datetime.date(1920, 1, 1), datetime.date(2004, 2, 1))\n",
    "data_r_atorvastatin_calcium, data_r_ventolin, data_r_hydrochlorothiazide, data_z_atorvastatin_calcium, data_z_ventolin, data_z_hydrochlorothiazide = random_date(datetime.date(2018, 1, 1), datetime.date(2020, 2, 1)), random_date(datetime.date(2018, 1, 1), datetime.date(2020, 2, 1)), random_date(datetime.date(2018, 1, 1), datetime.date(2020, 2, 1)), random_date(datetime.date(2020, 2, 1), datetime.date(2022, 2, 1)), random_date(datetime.date(2020, 2, 1), datetime.date(2022, 2, 1)), random_date(datetime.date(2020, 2, 1), datetime.date(2022, 2, 1))\n",
    "data_r_leczenia_u07, data_r_leczenia_i10, data_r_leczenia_j45, data_z_leczenia_u07, data_z_leczenia_i10, data_z_leczenia_j45 = random_date(datetime.date(2018, 1, 1), datetime.date(2020, 2, 1)), random_date(datetime.date(2018, 1, 1), datetime.date(2020, 2, 1)), random_date(datetime.date(2018, 1, 1), datetime.date(2020, 2, 1)), random_date(datetime.date(2020, 2, 1), datetime.date(2022, 2, 1)), random_date(datetime.date(2020, 2, 1), datetime.date(2022, 2, 1)), random_date(datetime.date(2020, 2, 1), datetime.date(2022, 2, 1))\n",
    "il_erytrocytow, st_hemoglobiny, V_mcv, V_mch, V_mchc, V_rdw, data_wyk_morfologii = random.uniform(20.0, 60.6), random.uniform(20.0, 60.6), random.uniform(20.0, 60.6), random.uniform(20.0, 60.6), random.uniform(20.0, 60.6), random.uniform(20.0, 60.6), random_date(datetime.date(2020, 2, 1), datetime.date(2022, 2, 1))\n",
    "lek_rodzinny, radiol = 'lekarz_rodzinny_' + str(uuid.uuid1()), 'radiolog_' + str(uuid.uuid1())\n",
    "bol_glow, zmecz, data_obs_objawow = bool(random.getrandbits(1)), bool(random.getrandbits(1)), random_date(datetime.date(2010, 2, 1), datetime.date(2022, 2, 1))\n",
    "radio, histop = 'obraz_radiologiczny_' + str(uuid.uuid1()), 'obraz_histopatologiczny_' + str(uuid.uuid1())\n",
    "d_przeszczepu_serca, d_wyciecia_migdalkow = random_date(datetime.date(2018, 1, 1), datetime.date(2020, 2, 1)), random_date(datetime.date(2018, 1, 1), datetime.date(2020, 2, 1))\n"
   ]
  },
  {
   "cell_type": "markdown",
   "metadata": {},
   "source": [
    "# MOZNA DODAC ZEBY DLA TEGO SAME GO PACJENTA DAWAC 2/3 iles danych ekstra (bo jest to teraz - przez funkcje wewnatrze tej procedury ze pacjent jest unikalny)"
   ]
  },
  {
   "cell_type": "code",
   "execution_count": 871,
   "metadata": {},
   "outputs": [
    {
     "name": "stdout",
     "output_type": "stream",
     "text": [
      "NOTICE:  Dane dla pacjenta Mark Rivera, zostaly wprowadzone.\n",
      "\n",
      "NOTICE:  ID pacjenta to 110959.\n",
      "\n",
      "'NoneType' object is not iterable\n",
      "NOTICE:  Dane dla pacjenta Robert Hernandez, zostaly wprowadzone.\n",
      "\n",
      "NOTICE:  ID pacjenta to 110960.\n",
      "\n",
      "'NoneType' object is not iterable\n"
     ]
    }
   ],
   "source": [
    "ilosc = 2\n",
    "for i in range(0, ilosc):\n",
    "    imie = names.get_first_name()\n",
    "    nazwisko = names.get_last_name()\n",
    "    data_urodzenia = random_date(datetime.date(1920, 1, 1), datetime.date(2004, 2, 1))\n",
    "    data_r_atorvastatin_calcium, data_r_ventolin, data_r_hydrochlorothiazide, data_z_atorvastatin_calcium, data_z_ventolin, data_z_hydrochlorothiazide = random_date(datetime.date(2018, 1, 1), datetime.date(2020, 2, 1)), random_date(datetime.date(2018, 1, 1), datetime.date(2020, 2, 1)), random_date(datetime.date(2018, 1, 1), datetime.date(2020, 2, 1)), random_date(datetime.date(2020, 2, 1), datetime.date(2022, 2, 1)), random_date(datetime.date(2020, 2, 1), datetime.date(2022, 2, 1)), random_date(datetime.date(2020, 2, 1), datetime.date(2022, 2, 1))\n",
    "    data_r_leczenia_u07, data_r_leczenia_i10, data_r_leczenia_j45, data_z_leczenia_u07, data_z_leczenia_i10, data_z_leczenia_j45 = random_date(datetime.date(2018, 1, 1), datetime.date(2020, 2, 1)), random_date(datetime.date(2018, 1, 1), datetime.date(2020, 2, 1)), random_date(datetime.date(2018, 1, 1), datetime.date(2020, 2, 1)), random_date(datetime.date(2020, 2, 1), datetime.date(2022, 2, 1)), random_date(datetime.date(2020, 2, 1), datetime.date(2022, 2, 1)), random_date(datetime.date(2020, 2, 1), datetime.date(2022, 2, 1))\n",
    "    il_erytrocytow, st_hemoglobiny, V_mcv, V_mch, V_mchc, V_rdw, data_wyk_morfologii = random.uniform(20.0, 60.6), random.uniform(20.0, 60.6), random.uniform(20.0, 60.6), random.uniform(20.0, 60.6), random.uniform(20.0, 60.6), random.uniform(20.0, 60.6), random_date(datetime.date(2020, 2, 1), datetime.date(2022, 2, 1))\n",
    "    lek_rodzinny, radiol = 'lekarz_rodzinny_' + str(uuid.uuid1()), 'radiolog_' + str(uuid.uuid1())\n",
    "    bol_glow, zmecz, data_obs_objawow = bool(random.getrandbits(1)), bool(random.getrandbits(1)), random_date(datetime.date(2010, 2, 1), datetime.date(2022, 2, 1))\n",
    "    radio, histop = 'obraz_radiologiczny_' + str(uuid.uuid1()), 'obraz_histopatologiczny_' + str(uuid.uuid1())\n",
    "    d_przeszczepu_serca, d_wyciecia_migdalkow = random_date(datetime.date(2018, 1, 1), datetime.date(2020, 2, 1)), random_date(datetime.date(2018, 1, 1), datetime.date(2020, 2, 1))\n",
    "\n",
    "    do_query(\"\"\"call ai_med.database_insert_procedure(\n",
    "            --dane pacjent\n",
    "            '%s','%s','%s'\n",
    "\n",
    "            --dane leki\n",
    "            ,'%s', '%s', '%s', '%s', '%s', '%s'\n",
    "\n",
    "            --dane choroby\n",
    "            ,'%s', '%s', '%s', '%s', '%s', '%s'\n",
    "            \n",
    "            ---------------\n",
    "            --dane morfologia\n",
    "            ,%f, %f, %f, %f, %f, %f, '%s'\n",
    "            --dane notatki lekarskie\n",
    "            ,'%s', '%s'\n",
    "            --dane objawy\n",
    "            ,'%s', '%s', '%s'\n",
    "            --dane obrazy\n",
    "            ,'%s', '%s'\n",
    "            --dane operacje \n",
    "            ,'%s', '%s'\n",
    "            \n",
    "        )\"\"\" % \n",
    "        (\n",
    "            #dane pacjent\n",
    "            imie, nazwisko, data_urodzenia\n",
    "\n",
    "            #dane leki\n",
    "            ,data_r_atorvastatin_calcium, data_r_ventolin, data_r_hydrochlorothiazide \n",
    "            ,data_z_atorvastatin_calcium, data_z_ventolin, data_z_hydrochlorothiazide\n",
    "\n",
    "            # dane choroby\n",
    "            ,data_r_leczenia_u07, data_r_leczenia_i10, data_r_leczenia_j45\n",
    "            ,data_z_leczenia_u07, data_z_leczenia_i10, data_z_leczenia_j45\n",
    "            \n",
    "            #############\n",
    "            # dane morfologia\n",
    "            ,il_erytrocytow, st_hemoglobiny, V_mcv, V_mch, V_mchc, V_rdw, data_wyk_morfologii\n",
    "            \n",
    "            # dane notatki lekarskie\n",
    "            ,lek_rodzinny, radiol\n",
    "\n",
    "            # dane objawy\n",
    "            ,bol_glow, zmecz, data_obs_objawow\n",
    "\n",
    "            # dane obrazy\n",
    "            ,radio, histop\n",
    "            \n",
    "            # dane operacje  \n",
    "            ,d_przeszczepu_serca, d_wyciecia_migdalkow\n",
    "\n",
    "        ),\n",
    "        commit=True,\n",
    "        print_out=True)"
   ]
  },
  {
   "cell_type": "code",
   "execution_count": 872,
   "metadata": {},
   "outputs": [
    {
     "name": "stdout",
     "output_type": "stream",
     "text": [
      "      id  ilosc_erytrocytow  stezenie_hemoglobiny        mcv        mch  \\\n",
      "0  50030          50.327534             39.911705  59.013668  60.392310   \n",
      "1  50031          26.661276             46.611324  36.906116  35.261890   \n",
      "2  50032          50.817620             22.929173  50.425710  48.381664   \n",
      "3  50033          54.572052             28.771875  24.529812  49.856440   \n",
      "\n",
      "        mchc        rdw  pacjentid data_wykonanej_morfologii  \n",
      "0  35.258484  26.867819          1                2020-12-15  \n",
      "1  52.256860  42.771503          1                2021-07-15  \n",
      "2  24.200033  26.473310          1                2021-02-03  \n",
      "3  43.010880  44.695000          1                2020-02-07  \n",
      "\n",
      "\n"
     ]
    }
   ],
   "source": [
    "do_query(\n",
    "\"\"\"\n",
    "SELECT * FROM ai_med.morfologia where pacjentid =1;  \n",
    "\"\"\",\n",
    "    print_out=True\n",
    ")"
   ]
  },
  {
   "cell_type": "code",
   "execution_count": null,
   "metadata": {},
   "outputs": [],
   "source": []
  },
  {
   "cell_type": "code",
   "execution_count": 873,
   "metadata": {},
   "outputs": [],
   "source": [
    "procedure_def(\n",
    "\"\"\"\n",
    "create or replace procedure ai_med.select_all_pacjenty()\n",
    "language plpgsql    \n",
    "as $$\n",
    "declare\n",
    "    liczba_pacjentow numeric;\n",
    "\n",
    "    liczba_danych_o_lekach numeric;\n",
    "    liczba_danych_o_morfologii numeric;\n",
    "    liczba_danych_o_objawach numeric;\n",
    "    liczba_danych_o_obrazach numeric;\n",
    "    liczba_danych_o_operacjach numeric;\n",
    "    liczba_danych_o_notatkach numeric;\n",
    "    liczba_danych_o_leczeniu numeric;\n",
    "    --srednia_liczba_danych_per_pacjent numeric;\n",
    "begin\n",
    "\n",
    "    select ai_med.test1() into liczba_pacjentow;\n",
    "\n",
    "    select count(*) into liczba_danych_o_lekach from ai_med.\"Aktualnie przyjmowane leki\";\n",
    "    select count(*) into liczba_danych_o_morfologii from ai_med.morfologia;\n",
    "    select count(*) into liczba_danych_o_objawach from ai_med.objawy;\n",
    "    select count(*) into liczba_danych_o_obrazach from ai_med.obrazy;\n",
    "    select count(*) into liczba_danych_o_operacjach from ai_med.operacje;\n",
    "    select count(*) into liczba_danych_o_notatkach from ai_med.\"Nazwa pliku z notatkami lekarskimi\";\n",
    "    select count(*) into liczba_danych_o_leczeniu from ai_med.\"leczenie_w_kierunku_kod_ICD_10\";\n",
    "\n",
    "    RAISE NOTICE 'W bazie jest juz: % pacjentow!! Kazdy pacjent ma o sobie % infomacji.', liczba_pacjentow , ((liczba_danych_o_lekach + liczba_danych_o_morfologii + liczba_danych_o_objawach + liczba_danych_o_obrazach + liczba_danych_o_operacjach + liczba_danych_o_notatkach + liczba_danych_o_leczeniu)/liczba_pacjentow)/7;\n",
    "\n",
    "end;$$\n",
    "\"\"\",\n",
    "commit=True)\n",
    "\n",
    "#MOŻE JAKIŚ RETURN TU (PAMIETAJ ŻE MA BYĆ 1 WIERSZ) I TO JAKO JAKIŚ WIDO DLA LEKARZA? CHODZI MI ŻEBY DOSTĘP DO TEGO DLA JAKIEGOŚ LEKARZA "
   ]
  },
  {
   "cell_type": "code",
   "execution_count": 874,
   "metadata": {},
   "outputs": [
    {
     "name": "stdout",
     "output_type": "stream",
     "text": [
      "NOTICE:  W bazie jest juz: 50150 pacjentow!! Kazdy pacjent ma o sobie 0.99717134311351660000 infomacji.\n",
      "\n",
      "\n",
      "\n"
     ]
    }
   ],
   "source": [
    "do_query(\"\"\"\n",
    "call ai_med.select_all_pacjenty();\n",
    "\"\"\", \n",
    "commit=True)"
   ]
  },
  {
   "cell_type": "code",
   "execution_count": 875,
   "metadata": {},
   "outputs": [],
   "source": [
    "#?JEŻELI PROCEDURA MOŻE PRZYJMOWAĆ JAKIEŚ ARGUMENTY? TO MOŻE PROCEDURA DO SPRAWDZANIA ZAKRESÓW NORM DLA JAKICHŚ PARAMETRÓW\n",
    "#MOŻE TAKĄ FUNKCJE DODAĆ? "
   ]
  }
 ],
 "metadata": {
  "kernelspec": {
   "display_name": "Python 3.9.13 ('ZSBD')",
   "language": "python",
   "name": "python3"
  },
  "language_info": {
   "codemirror_mode": {
    "name": "ipython",
    "version": 3
   },
   "file_extension": ".py",
   "mimetype": "text/x-python",
   "name": "python",
   "nbconvert_exporter": "python",
   "pygments_lexer": "ipython3",
   "version": "3.9.13"
  },
  "orig_nbformat": 4,
  "vscode": {
   "interpreter": {
    "hash": "8357cfc344e27cdb3246fb42594e9ac9d5e7fb52400a68e0573ac62de3ff6ef8"
   }
  }
 },
 "nbformat": 4,
 "nbformat_minor": 2
}
