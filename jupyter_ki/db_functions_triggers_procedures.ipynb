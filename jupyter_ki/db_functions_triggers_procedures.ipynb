{
 "cells": [
  {
   "cell_type": "code",
   "execution_count": 199,
   "metadata": {},
   "outputs": [],
   "source": [
    "import psycopg2\n",
    "import pandas as pd"
   ]
  },
  {
   "cell_type": "code",
   "execution_count": 200,
   "metadata": {},
   "outputs": [],
   "source": [
    "#%run functions.ipynb"
   ]
  },
  {
   "cell_type": "code",
   "execution_count": 201,
   "metadata": {},
   "outputs": [],
   "source": [
    "def do_query(query, print_out = False, commit = False):\n",
    "    try:\n",
    "        con = psycopg2.connect(\n",
    "                    host = \"127.0.0.11\",\n",
    "                    database=\"ZSBD_p1\",\n",
    "                    user = \"inzdanych123\",\n",
    "                    password = \"inzdanych123\",\n",
    "                    port = \"5432\")\n",
    "\n",
    "        cur = con.cursor()\n",
    "\n",
    "        cur.execute(query)\n",
    "        \n",
    "        for notice in con.notices:\n",
    "            print(notice)\n",
    "\n",
    "        if commit:\n",
    "            con.commit()\n",
    "\n",
    "        if print_out:\n",
    "            column_names = [desc[0] for desc in cur.description]\n",
    "            row_list = []\n",
    "            row = cur.fetchone()\n",
    "            while row is not None:\n",
    "                row_list.append(row)\n",
    "                #print(row)\n",
    "                row = cur.fetchone()\n",
    "            df = pd.DataFrame(row_list, columns=column_names)\n",
    "            print(df)\n",
    "        \n",
    "        cur.close()\n",
    "        con.close()\n",
    "        print('\\n')\n",
    "    except (Exception, psycopg2.DatabaseError) as error:\n",
    "            print(error)\n",
    "\n",
    "    finally:\n",
    "        if con is not None:\n",
    "            con.close()"
   ]
  },
  {
   "cell_type": "markdown",
   "metadata": {},
   "source": [
    "# FUNCTIONS"
   ]
  },
  {
   "cell_type": "code",
   "execution_count": 202,
   "metadata": {},
   "outputs": [],
   "source": [
    "def function_def(func, commit = False):\n",
    "    try:\n",
    "        con = psycopg2.connect(\n",
    "                    host = \"127.0.0.11\",\n",
    "                    database=\"ZSBD_p1\",\n",
    "                    user = \"inzdanych123\",\n",
    "                    password = \"inzdanych123\",\n",
    "                    port = \"5432\")\n",
    "\n",
    "        cur = con.cursor()\n",
    "\n",
    "        cur.execute(func)\n",
    "        if commit:\n",
    "            con.commit()\n",
    "\n",
    "        cur.close()\n",
    "        con.close()\n",
    "\n",
    "    except (Exception, psycopg2.DatabaseError) as error:\n",
    "            print(error)\n",
    "\n",
    "    finally:\n",
    "        if con is not None:\n",
    "            con.close()"
   ]
  },
  {
   "cell_type": "code",
   "execution_count": 203,
   "metadata": {},
   "outputs": [],
   "source": [
    "def function_tester(function, *arguments_of_it):\n",
    "    try:\n",
    "        con = psycopg2.connect(\n",
    "                    host = \"127.0.0.11\",\n",
    "                    database=\"ZSBD_p1\",\n",
    "                    user = \"inzdanych123\",\n",
    "                    password = \"inzdanych123\",\n",
    "                    port = \"5432\")\n",
    "\n",
    "        cur = con.cursor()\n",
    "        \n",
    "        if len(arguments_of_it) == 1:\n",
    "            cur.execute(function + \"('\" +str(arguments_of_it[0]) + \"')\")\n",
    "        else:\n",
    "            cur.execute(function + str(arguments_of_it))\n",
    "\n",
    "        column_names = [desc[0] for desc in cur.description]\n",
    "        row_list = []\n",
    "        row = cur.fetchone()\n",
    "        while row is not None:\n",
    "            row_list.append(row)\n",
    "            #print(row)\n",
    "            row = cur.fetchone()\n",
    "        df = pd.DataFrame(row_list, columns=column_names)\n",
    "        print(df)\n",
    "        \n",
    "        for notice in con.notices:\n",
    "            print(notice)\n",
    "\n",
    "        cur.close()\n",
    "        con.close()\n",
    "\n",
    "    except (Exception, psycopg2.DatabaseError) as error:\n",
    "            print(error)\n",
    "\n",
    "    finally:\n",
    "        if con is not None:\n",
    "            con.close()"
   ]
  },
  {
   "cell_type": "code",
   "execution_count": 369,
   "metadata": {},
   "outputs": [
    {
     "name": "stdout",
     "output_type": "stream",
     "text": [
      "\n",
      "\n"
     ]
    }
   ],
   "source": [
    "do_query(\"\"\"\n",
    "drop function if exists ai_med.ilosc_dni_lek_pacjent_(character, character, character);\n",
    "\"\"\", \n",
    "commit=True)\n",
    "\n",
    "function_def(\"\"\"\n",
    "create or replace function ai_med.ilosc_dni_lek_pacjent_(imieee char, nazwiskooo char, lek char)\n",
    "\n",
    "returns table(\n",
    "   id int,\n",
    "   imie varchar,\n",
    "   nazwisko varchar,\n",
    "   data_rozpoczecie_brania_leku date,\n",
    "   data_zakonczenia_brania_leku date,\n",
    "   dni_brania_leku int\n",
    ")\n",
    "\n",
    "language plpgsql\n",
    "as\n",
    "$$\n",
    "\n",
    "declare\n",
    "   ilosc_pacjentow integer;\n",
    "\n",
    "begin\n",
    "\n",
    "   IF lek = 'ventolin'\n",
    "      THEN\n",
    "      return query\n",
    "      SELECT \n",
    "      pacjent.id\n",
    "      ,pacjent.imie\n",
    "      ,pacjent.nazwisko\n",
    "      ,\"Aktualnie przyjmowane leki\".data_rozpoczecia_ventolin__asthma\n",
    "      ,\"Aktualnie przyjmowane leki\".data_zakonczenia_ventolin__asthma \n",
    "      ,coalesce(\"Aktualnie przyjmowane leki\".data_zakonczenia_ventolin__asthma, cast(now() as date)) -\n",
    "      \"Aktualnie przyjmowane leki\".data_rozpoczecia_ventolin__asthma as \"dni_brania_ventolin\"\n",
    "      FROM ai_med.pacjent INNER JOIN ai_med.\"Aktualnie przyjmowane leki\" \n",
    "      ON \"Aktualnie przyjmowane leki\".id = pacjent.id \n",
    "      WHERE pacjent.imie = imieee and pacjent.nazwisko = nazwiskooo;\n",
    "   \n",
    "   elsif lek = 'atorvastatin' \n",
    "      THEN\n",
    "      return query\n",
    "      SELECT \n",
    "      pacjent.id\n",
    "      ,pacjent.imie\n",
    "      ,pacjent.nazwisko\n",
    "      ,\"Aktualnie przyjmowane leki\".data_rozpoczecia_atorvastatin_calcium__cholesterol\n",
    "      ,\"Aktualnie przyjmowane leki\".data_zakonczenia_atorvastatin_calcium__cholesterol \n",
    "      ,coalesce(\"Aktualnie przyjmowane leki\".data_zakonczenia_atorvastatin_calcium__cholesterol, cast(now() as date)) -\n",
    "      \"Aktualnie przyjmowane leki\".data_rozpoczecia_atorvastatin_calcium__cholesterol as \"dni_brania_ventolin\"\n",
    "      FROM ai_med.pacjent INNER JOIN ai_med.\"Aktualnie przyjmowane leki\" \n",
    "      ON \"Aktualnie przyjmowane leki\".id = pacjent.id \n",
    "      WHERE pacjent.imie = imieee and pacjent.nazwisko = nazwiskooo;\n",
    "   \n",
    "   elsif lek = 'hydrochlorothiazide' \n",
    "      THEN\n",
    "      return query\n",
    "      SELECT\n",
    "      pacjent.id\n",
    "      ,pacjent.imie\n",
    "      ,pacjent.nazwisko\n",
    "      ,\"Aktualnie przyjmowane leki\".data_rozpoczecia_hydrochlorothiazide__wysokie_cisnienie_krwi\n",
    "      ,\"Aktualnie przyjmowane leki\".data_zakonczenia_hydrochlorothiazide__wysokie_cisnienie_krwi \n",
    "      ,coalesce(\"Aktualnie przyjmowane leki\".data_zakonczenia_hydrochlorothiazide__wysokie_cisnienie_krwi, cast(now() as date)) -\n",
    "      \"Aktualnie przyjmowane leki\".data_rozpoczecia_hydrochlorothiazide__wysokie_cisnienie_krwi as \"dni_brania_ventolin\"\n",
    "      FROM ai_med.pacjent INNER JOIN ai_med.\"Aktualnie przyjmowane leki\" \n",
    "      ON \"Aktualnie przyjmowane leki\".id = pacjent.id \n",
    "      WHERE pacjent.imie = imieee and pacjent.nazwisko = nazwiskooo;\n",
    "   \n",
    "   ELSE \n",
    "      RAISE EXCEPTION 'Nie ma takiego leku';\n",
    "   END IF;\n",
    "\n",
    "end;\n",
    "$$;\n",
    "\"\"\",\n",
    "commit = True)"
   ]
  },
  {
   "cell_type": "code",
   "execution_count": 370,
   "metadata": {},
   "outputs": [
    {
     "name": "stdout",
     "output_type": "stream",
     "text": [
      "   id      imie nazwisko data_rozpoczecie_brania_leku  \\\n",
      "0   3  Rachelle  Wheeler                   2018-05-07   \n",
      "\n",
      "  data_zakonczenia_brania_leku  dni_brania_leku  \n",
      "0                   2020-08-04              820  \n"
     ]
    }
   ],
   "source": [
    "function_tester(\"select * FROM ai_med.ilosc_dni_lek_pacjent_\", \"Rachelle\", \"Wheeler\", \"ventolin\")"
   ]
  },
  {
   "cell_type": "code",
   "execution_count": 371,
   "metadata": {},
   "outputs": [
    {
     "name": "stdout",
     "output_type": "stream",
     "text": [
      "   id      imie nazwisko data_rozpoczecie_brania_leku  \\\n",
      "0   3  Rachelle  Wheeler                   2018-02-16   \n",
      "\n",
      "  data_zakonczenia_brania_leku  dni_brania_leku  \n",
      "0                   2020-09-14              941  \n"
     ]
    }
   ],
   "source": [
    "function_tester(\"select * FROM ai_med.ilosc_dni_lek_pacjent_\", \"Rachelle\", \"Wheeler\", \"atorvastatin\")"
   ]
  },
  {
   "cell_type": "code",
   "execution_count": 372,
   "metadata": {},
   "outputs": [
    {
     "name": "stdout",
     "output_type": "stream",
     "text": [
      "   id      imie nazwisko data_rozpoczecie_brania_leku  \\\n",
      "0   3  Rachelle  Wheeler                   2018-12-30   \n",
      "\n",
      "  data_zakonczenia_brania_leku  dni_brania_leku  \n",
      "0                   2021-02-27              790  \n"
     ]
    }
   ],
   "source": [
    "function_tester(\"select * FROM ai_med.ilosc_dni_lek_pacjent_\", \"Rachelle\", \"Wheeler\", \"hydrochlorothiazide\")"
   ]
  },
  {
   "cell_type": "code",
   "execution_count": 373,
   "metadata": {},
   "outputs": [
    {
     "name": "stdout",
     "output_type": "stream",
     "text": [
      "Nie ma takiego leku\n",
      "CONTEXT:  PL/pgSQL function ai_med.ilosc_dni_lek_pacjent_(character,character,character) line 54 at RAISE\n",
      "\n"
     ]
    }
   ],
   "source": [
    "function_tester(\"select * FROM ai_med.ilosc_dni_lek_pacjent_\", \"Rachelle\", \"Wheler\", \"jakislek\")"
   ]
  },
  {
   "cell_type": "markdown",
   "metadata": {},
   "source": [
    "# TRIGGERS"
   ]
  },
  {
   "cell_type": "code",
   "execution_count": 220,
   "metadata": {},
   "outputs": [],
   "source": [
    "def trigger_def(func, commit = False):\n",
    "    try:\n",
    "        con = psycopg2.connect(\n",
    "                    host = \"127.0.0.11\",\n",
    "                    database=\"ZSBD_p1\",\n",
    "                    user = \"inzdanych123\",\n",
    "                    password = \"inzdanych123\",\n",
    "                    port = \"5432\")\n",
    "\n",
    "        cur = con.cursor()\n",
    "\n",
    "        for notice in con.notices:\n",
    "            print(notice)\n",
    "\n",
    "        cur.execute(func)\n",
    "        if commit:\n",
    "            con.commit()\n",
    "\n",
    "        cur.close()\n",
    "        con.close()\n",
    "\n",
    "    except (Exception, psycopg2.DatabaseError) as error:\n",
    "            print(error)\n",
    "\n",
    "    finally:\n",
    "        if con is not None:\n",
    "            con.close()"
   ]
  },
  {
   "cell_type": "code",
   "execution_count": 221,
   "metadata": {},
   "outputs": [
    {
     "name": "stdout",
     "output_type": "stream",
     "text": [
      "trigger \"pacjent_insert_timestamp\" for relation \"pacjent\" already exists\n",
      "\n"
     ]
    }
   ],
   "source": [
    "trigger_def(\"\"\"\n",
    "CREATE TRIGGER pacjent_insert_timestamp \n",
    "    AFTER\n",
    "    INSERT \n",
    "    ON ai_med.pacjent\n",
    "    FOR EACH ROW EXECUTE PROCEDURE ai_med.pacjent_insert_timestamp_func();\n",
    "\"\"\",\n",
    "commit=True)"
   ]
  },
  {
   "cell_type": "code",
   "execution_count": 222,
   "metadata": {},
   "outputs": [],
   "source": [
    "function_def(\"\"\"\n",
    "CREATE OR REPLACE FUNCTION ai_med.pacjent_insert_timestamp_func() RETURNS TRIGGER AS $pacjent_table$\n",
    "   BEGIN\n",
    "      INSERT INTO ai_med.pacjent_insert_timestamp_table(id, ostatni_insert_danych) VALUES (NEW.id ,date_trunc('day', current_timestamp));\n",
    "      RETURN NEW;\n",
    "   END;\n",
    "$pacjent_table$ LANGUAGE plpgsql;\n",
    "\"\"\",\n",
    "commit=True)"
   ]
  },
  {
   "cell_type": "code",
   "execution_count": 400,
   "metadata": {},
   "outputs": [
    {
     "name": "stdout",
     "output_type": "stream",
     "text": [
      "\n",
      "\n",
      "\n",
      "\n"
     ]
    }
   ],
   "source": [
    "do_query(\"\"\"\n",
    "DROP TABLE IF EXISTS ai_med.pacjent_insert_timestamp_table\n",
    "\"\"\", \n",
    "commit=True)\n",
    "do_query(\"\"\"\n",
    "CREATE TABLE IF NOT EXISTS ai_med.pacjent_insert_timestamp_table\n",
    "(\n",
    "    id serial NOT NULL,\n",
    "    ostatni_insert_danych date NOT NULL,\n",
    "    ostatnie_powiadomienie_dla_MLE date\n",
    ");\n",
    "\"\"\", \n",
    "commit=True)"
   ]
  },
  {
   "cell_type": "code",
   "execution_count": 401,
   "metadata": {},
   "outputs": [
    {
     "name": "stdout",
     "output_type": "stream",
     "text": [
      "\n",
      "\n"
     ]
    }
   ],
   "source": [
    "do_query(\"\"\"\n",
    "ALTER TABLE IF EXISTS ai_med.pacjent_insert_timestamp_table\n",
    "    ADD FOREIGN KEY (id)\n",
    "    REFERENCES ai_med.pacjent (id) MATCH SIMPLE\n",
    "    ON UPDATE NO ACTION\n",
    "    ON DELETE NO ACTION\n",
    "    NOT VALID;\n",
    "\"\"\", \n",
    "commit=True)"
   ]
  },
  {
   "cell_type": "code",
   "execution_count": 403,
   "metadata": {},
   "outputs": [
    {
     "name": "stdout",
     "output_type": "stream",
     "text": [
      "'NoneType' object is not iterable\n",
      "       id    imie nazwisko data_urodzenia                       created_at\n",
      "0  110853  Dwight  Schrute     1962-11-23 2022-11-24 17:06:58.924089+01:00\n",
      "1  110854  Dwight  Schrute     1962-11-23 2022-11-24 17:21:18.163307+01:00\n",
      "2  110855  Dwight  Schrute     1962-11-23 2022-11-24 17:21:22.065947+01:00\n",
      "\n",
      "\n",
      "       id ostatni_insert_danych ostatnie_powiadomienie_dla_mle\n",
      "0  110854            2022-11-24                           None\n",
      "1  110855            2022-11-24                           None\n",
      "\n",
      "\n"
     ]
    }
   ],
   "source": [
    "do_query(\"\"\"\n",
    "INSERT INTO ai_med.pacjent (imie, nazwisko, data_urodzenia) VALUES ('Dwight', 'Schrute', '1962-11-23');\n",
    "\"\"\", \n",
    "commit=True,\n",
    "print_out=True)\n",
    "do_query(\"\"\"\n",
    "SELECT * FROM ai_med.pacjent where imie ='Dwight' and nazwisko = 'Schrute';\n",
    "\"\"\", \n",
    "commit=True,\n",
    "print_out=True)\n",
    "do_query(\"\"\"\n",
    "SELECT * FROM ai_med.pacjent_insert_timestamp_table;\n",
    "\"\"\", \n",
    "commit=True,\n",
    "print_out=True)"
   ]
  },
  {
   "cell_type": "code",
   "execution_count": null,
   "metadata": {},
   "outputs": [],
   "source": []
  },
  {
   "cell_type": "code",
   "execution_count": 225,
   "metadata": {},
   "outputs": [],
   "source": [
    "trigger_def(\"\"\"\n",
    "CREATE OR REPLACE TRIGGER message_to_ML_E\n",
    "    BEFORE\n",
    "    INSERT \n",
    "    ON ai_med.pacjent\n",
    "    FOR EACH ROW EXECUTE PROCEDURE ai_med.message_to_ML_E_func();\n",
    "\"\"\",\n",
    "commit=True)"
   ]
  },
  {
   "cell_type": "code",
   "execution_count": 226,
   "metadata": {},
   "outputs": [],
   "source": [
    "#TO W SUMIE POWINNO BYc NA KONIEC JAKIEJŚ TRANZAKCJI\n",
    "#W SENSIE ŻEBY ZROBIĆ TRANZAKCJĘ, KTÓRA ZAJMIE SIĘ DAILY INSERTEM DO TABEL\n",
    "function_def(\"\"\"\n",
    "CREATE OR REPLACE FUNCTION ai_med.message_to_ML_E_func() RETURNS TRIGGER AS $pacjent_table$\n",
    "\tdeclare\n",
    "\t\tliczba_wprowadzonych int;\n",
    "\tBEGIN\n",
    "\t\tSELECT count(*) into liczba_wprowadzonych from ai_med.pacjent_insert_timestamp_table \n",
    "\t\twhere ostatni_insert_danych = date_trunc('day', current_timestamp);\n",
    "\t\t\n",
    "\t\tIF liczba_wprowadzonych = 5\n",
    "\t\tTHEN\n",
    "\t\tUPDATE ai_med.pacjent_insert_timestamp_table\n",
    "\t\tSET ostatnie_powiadomienie_dla_mle=date_trunc('minute', current_timestamp);\n",
    "\t\traise notice 'Dzis zostalo wprowadzonych przynajmniej % nowych pacjentow, moze chcecie zrobic douczanie modelu?', \n",
    "\t\t\n",
    "\t\tliczba_wprowadzonych + 1;\n",
    "\t\t\n",
    "\t\tEND IF;\n",
    "\t\tRETURN NEW;\n",
    "   \tEND;\n",
    "$pacjent_table$ LANGUAGE plpgsql;\n",
    "\"\"\",\n",
    "commit=True)\n",
    "\n",
    "#może jakoś że jak jest mniej insertów danego dnia niż x (5 powiedzmy) to rollback?"
   ]
  },
  {
   "cell_type": "code",
   "execution_count": 227,
   "metadata": {},
   "outputs": [
    {
     "name": "stdout",
     "output_type": "stream",
     "text": [
      "'NoneType' object is not iterable\n",
      "       id ostatni_insert_danych ostatnie_powiadomienie_dla_mle\n",
      "0  110830            2022-11-24                           None\n",
      "1  110831            2022-11-24                           None\n",
      "2  110832            2022-11-24                           None\n",
      "3  110833            2022-11-24                           None\n",
      "\n",
      "\n"
     ]
    }
   ],
   "source": [
    "do_query(\"\"\"\n",
    "INSERT INTO ai_med.pacjent (imie, nazwisko, data_urodzenia) VALUES ('Paul', 'California', '2002-11-23');\n",
    "\"\"\", \n",
    "commit=True,\n",
    "print_out=True)\n",
    "\n",
    "do_query(\"\"\"\n",
    "SELECT * FROM ai_med.pacjent_insert_timestamp_table;\n",
    "\"\"\", \n",
    "commit=True,\n",
    "print_out=True)"
   ]
  },
  {
   "cell_type": "code",
   "execution_count": 228,
   "metadata": {},
   "outputs": [],
   "source": [
    "# do_query(\"\"\"\n",
    "# DROP TABLE IF EXISTS ai_med.pacjent_insert_timestamp_table\n",
    "# \"\"\", \n",
    "# commit=True,\n",
    "# print_out=True)\n",
    "\n",
    "# do_query(\"\"\"\n",
    "# CREATE TABLE IF NOT EXISTS ai_med.pacjent_insert_timestamp_table\n",
    "# (\n",
    "#     id serial NOT NULL,\n",
    "#     ostatni_insert_danych date NOT NULL,\n",
    "#     ostatnie_powiadomienie_dla_MLE date\n",
    "# );\n",
    "# \"\"\", \n",
    "# commit=True,\n",
    "# print_out=True)"
   ]
  },
  {
   "cell_type": "markdown",
   "metadata": {},
   "source": [
    "# PROCEDURES"
   ]
  },
  {
   "cell_type": "code",
   "execution_count": 229,
   "metadata": {},
   "outputs": [],
   "source": [
    "def procedure_def(func, commit = False):\n",
    "    try:\n",
    "        con = psycopg2.connect(\n",
    "                    host = \"127.0.0.11\",\n",
    "                    database=\"ZSBD_p1\",\n",
    "                    user = \"inzdanych123\",\n",
    "                    password = \"inzdanych123\",\n",
    "                    port = \"5432\")\n",
    "\n",
    "        cur = con.cursor()\n",
    "\n",
    "        for notice in con.notices:\n",
    "            print(notice)\n",
    "\n",
    "        cur.execute(func)\n",
    "        if commit:\n",
    "            con.commit()\n",
    "\n",
    "        cur.close()\n",
    "        con.close()\n",
    "\n",
    "    except (Exception, psycopg2.DatabaseError) as error:\n",
    "            print(error)\n",
    "\n",
    "    finally:\n",
    "        if con is not None:\n",
    "            con.close()"
   ]
  },
  {
   "cell_type": "markdown",
   "metadata": {},
   "source": [
    "# 1. Inserting data using a procedure GENEROWANIE danych za pomocą procedur?"
   ]
  },
  {
   "cell_type": "markdown",
   "metadata": {},
   "source": [
    "# WYMAGANIA DO PROJEKTU NOTATKA TWOJA I TE PUNKTY CO SĄ POD SPODEM"
   ]
  },
  {
   "cell_type": "code",
   "execution_count": 454,
   "metadata": {},
   "outputs": [],
   "source": [
    "procedure_def(\n",
    "\"\"\"\n",
    "create or replace procedure ai_med.select_all_pacjenty()\n",
    "language plpgsql    \n",
    "as $$\n",
    "declare\n",
    "    liczba_pacjentow numeric;\n",
    "\n",
    "    liczba_danych_o_lekach numeric;\n",
    "    liczba_danych_o_morfologii numeric;\n",
    "    liczba_danych_o_objawach numeric;\n",
    "    liczba_danych_o_obrazach numeric;\n",
    "    liczba_danych_o_operacjach numeric;\n",
    "    liczba_danych_o_notatkach numeric;\n",
    "    liczba_danych_o_leczeniu numeric;\n",
    "    --srednia_liczba_danych_per_pacjent numeric;\n",
    "begin\n",
    "\n",
    "    select ai_med.test1() into liczba_pacjentow;\n",
    "\n",
    "    select count(*) into liczba_danych_o_lekach from ai_med.\"Aktualnie przyjmowane leki\";\n",
    "    select count(*) into liczba_danych_o_morfologii from ai_med.morfologia;\n",
    "    select count(*) into liczba_danych_o_objawach from ai_med.objawy;\n",
    "    select count(*) into liczba_danych_o_obrazach from ai_med.obrazy;\n",
    "    select count(*) into liczba_danych_o_operacjach from ai_med.operacje;\n",
    "    select count(*) into liczba_danych_o_notatkach from ai_med.\"Nazwa pliku z notatkami lekarskimi\";\n",
    "    select count(*) into liczba_danych_o_leczeniu from ai_med.\"leczenie_w_kierunku_kod_ICD_10\";\n",
    "\n",
    "    RAISE NOTICE 'W bazie jest juz: % pacjentow!! Kazdy pacjent ma o sobie % infomacji.', liczba_pacjentow , ((liczba_danych_o_lekach + liczba_danych_o_morfologii + liczba_danych_o_objawach + liczba_danych_o_obrazach + liczba_danych_o_operacjach + liczba_danych_o_notatkach + liczba_danych_o_leczeniu)/liczba_pacjentow)/7;\n",
    "\n",
    "end;$$\n",
    "\"\"\",\n",
    "commit=True)\n",
    "\n",
    "#MOŻE JAKIŚ RETURN TU (PAMIETAJ ŻE MA BYĆ 1 WIERSZ) I TO JAKO JAKIŚ WIDO DLA LEKARZA? CHODZI MI ŻEBY DOSTĘP DO TEGO DLA JAKIEGOŚ LEKARZA "
   ]
  },
  {
   "cell_type": "code",
   "execution_count": 455,
   "metadata": {},
   "outputs": [
    {
     "name": "stdout",
     "output_type": "stream",
     "text": [
      "NOTICE:  W bazie jest juz: 50115 pacjentow!! Kazdy pacjent ma o sobie 0.99770527786091988571 infomacji.\n",
      "\n",
      "\n",
      "\n"
     ]
    }
   ],
   "source": [
    "do_query(\"\"\"\n",
    "call ai_med.select_all_pacjenty();\n",
    "\"\"\", \n",
    "commit=True)"
   ]
  },
  {
   "cell_type": "code",
   "execution_count": null,
   "metadata": {},
   "outputs": [],
   "source": [
    "#?JEŻELI PROCEDURA MOŻE PRZYJMOWAĆ JAKIEŚ ARGUMENTY? TO MOŻE PROCEDURA DO SPRAWDZANIA ZAKRESÓW NORM DLA JAKICHŚ PARAMETRÓW\n",
    "#MOŻE TAKĄ FUNKCJE DODAĆ? "
   ]
  }
 ],
 "metadata": {
  "kernelspec": {
   "display_name": "Python 3.9.13 ('ZSBD')",
   "language": "python",
   "name": "python3"
  },
  "language_info": {
   "codemirror_mode": {
    "name": "ipython",
    "version": 3
   },
   "file_extension": ".py",
   "mimetype": "text/x-python",
   "name": "python",
   "nbconvert_exporter": "python",
   "pygments_lexer": "ipython3",
   "version": "3.9.13"
  },
  "orig_nbformat": 4,
  "vscode": {
   "interpreter": {
    "hash": "8357cfc344e27cdb3246fb42594e9ac9d5e7fb52400a68e0573ac62de3ff6ef8"
   }
  }
 },
 "nbformat": 4,
 "nbformat_minor": 2
}
