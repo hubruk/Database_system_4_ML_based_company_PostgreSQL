{
 "cells": [
  {
   "cell_type": "code",
   "execution_count": 106,
   "metadata": {},
   "outputs": [],
   "source": [
    "import psycopg2\n",
    "import pandas as pd"
   ]
  },
  {
   "cell_type": "code",
   "execution_count": 56,
   "metadata": {},
   "outputs": [],
   "source": [
    "#%run functions.ipynb"
   ]
  },
  {
   "cell_type": "code",
   "execution_count": 119,
   "metadata": {},
   "outputs": [],
   "source": [
    "def do_query(query, print_out = False, commit = False):\n",
    "    try:\n",
    "        con = psycopg2.connect(\n",
    "                    host = \"127.0.0.11\",\n",
    "                    database=\"ZSBD_p1\",\n",
    "                    user = \"inzdanych123\",\n",
    "                    password = \"inzdanych123\",\n",
    "                    port = \"5432\")\n",
    "\n",
    "        cur = con.cursor()\n",
    "\n",
    "        cur.execute(query)\n",
    "        \n",
    "        for notice in con.notices:\n",
    "            print(notice)\n",
    "\n",
    "        if commit:\n",
    "            con.commit()\n",
    "\n",
    "        if print_out:\n",
    "            column_names = [desc[0] for desc in cur.description]\n",
    "            row_list = []\n",
    "            row = cur.fetchone()\n",
    "            while row is not None:\n",
    "                row_list.append(row)\n",
    "                #print(row)\n",
    "                row = cur.fetchone()\n",
    "            df = pd.DataFrame(row_list, columns=column_names)\n",
    "            print(df)\n",
    "        \n",
    "        \n",
    "        \n",
    "        cur.close()\n",
    "        con.close()\n",
    "        print('\\n')\n",
    "    except (Exception, psycopg2.DatabaseError) as error:\n",
    "            print(error)\n",
    "\n",
    "    finally:\n",
    "        if con is not None:\n",
    "            con.close()"
   ]
  },
  {
   "cell_type": "markdown",
   "metadata": {},
   "source": [
    "# FUNCTIONS"
   ]
  },
  {
   "cell_type": "code",
   "execution_count": 58,
   "metadata": {},
   "outputs": [],
   "source": [
    "def function_def(func, commit = False):\n",
    "    try:\n",
    "        con = psycopg2.connect(\n",
    "                    host = \"127.0.0.11\",\n",
    "                    database=\"ZSBD_p1\",\n",
    "                    user = \"inzdanych123\",\n",
    "                    password = \"inzdanych123\",\n",
    "                    port = \"5432\")\n",
    "\n",
    "        cur = con.cursor()\n",
    "\n",
    "        cur.execute(func)\n",
    "        if commit:\n",
    "            con.commit()\n",
    "\n",
    "        cur.close()\n",
    "        con.close()\n",
    "\n",
    "    except (Exception, psycopg2.DatabaseError) as error:\n",
    "            print(error)\n",
    "\n",
    "    finally:\n",
    "        if con is not None:\n",
    "            con.close()"
   ]
  },
  {
   "cell_type": "code",
   "execution_count": 118,
   "metadata": {},
   "outputs": [],
   "source": [
    "def function_tester(function, *arguments_of_it):\n",
    "    try:\n",
    "        con = psycopg2.connect(\n",
    "                    host = \"127.0.0.11\",\n",
    "                    database=\"ZSBD_p1\",\n",
    "                    user = \"inzdanych123\",\n",
    "                    password = \"inzdanych123\",\n",
    "                    port = \"5432\")\n",
    "\n",
    "        cur = con.cursor()\n",
    "        \n",
    "        if len(arguments_of_it) == 1:\n",
    "            cur.execute(function + \"('\" +str(arguments_of_it[0]) + \"')\")\n",
    "        else:\n",
    "            cur.execute(function + str(arguments_of_it))\n",
    "\n",
    "        column_names = [desc[0] for desc in cur.description]\n",
    "        row_list = []\n",
    "        row = cur.fetchone()\n",
    "        while row is not None:\n",
    "            row_list.append(row)\n",
    "            #print(row)\n",
    "            row = cur.fetchone()\n",
    "        df = pd.DataFrame(row_list, columns=column_names)\n",
    "        print(df)\n",
    "        \n",
    "        for notice in con.notices:\n",
    "            print(notice)\n",
    "\n",
    "        cur.close()\n",
    "        con.close()\n",
    "\n",
    "    except (Exception, psycopg2.DatabaseError) as error:\n",
    "            print(error)\n",
    "\n",
    "    finally:\n",
    "        if con is not None:\n",
    "            con.close()"
   ]
  },
  {
   "cell_type": "code",
   "execution_count": 60,
   "metadata": {},
   "outputs": [],
   "source": [
    "function_def(\"\"\"\n",
    "    CREATE OR REPLACE FUNCTION ai_med.get_sum(\n",
    "        a NUMERIC, \n",
    "        b NUMERIC) \n",
    "    RETURNS NUMERIC AS $$\n",
    "    BEGIN\n",
    "        RETURN a + b;\n",
    "    END; $$\n",
    "\n",
    "    LANGUAGE plpgsql;\n",
    "    \"\"\",\n",
    "    commit = True)"
   ]
  },
  {
   "cell_type": "code",
   "execution_count": 116,
   "metadata": {},
   "outputs": [
    {
     "name": "stdout",
     "output_type": "stream",
     "text": [
      "(Decimal('30'),)\n",
      "  get_sum\n",
      "0      30\n"
     ]
    }
   ],
   "source": [
    "function_tester(\"select ai_med.get_sum\", 10, 20)"
   ]
  },
  {
   "cell_type": "code",
   "execution_count": 62,
   "metadata": {},
   "outputs": [],
   "source": [
    "function_def(\"\"\"\n",
    "CREATE OR REPLACE FUNCTION ai_med.test1 ()\n",
    "RETURNS integer AS $total$\n",
    "declare\n",
    "\ttotal integer;\n",
    "BEGIN\n",
    "   select count(*) into total from ai_med.pacjent;\n",
    "   RETURN total;\n",
    "END;\n",
    "$total$ LANGUAGE plpgsql;\n",
    "\"\"\",\n",
    "commit = True)"
   ]
  },
  {
   "cell_type": "code",
   "execution_count": 63,
   "metadata": {},
   "outputs": [
    {
     "name": "stdout",
     "output_type": "stream",
     "text": [
      "(50089,)\n"
     ]
    }
   ],
   "source": [
    "function_tester(\"select ai_med.test1\")"
   ]
  },
  {
   "cell_type": "code",
   "execution_count": 120,
   "metadata": {},
   "outputs": [
    {
     "name": "stdout",
     "output_type": "stream",
     "text": [
      "   id  imie nazwisko data_urodzenia                       created_at\n",
      "0   1  Robo     Bobo     1934-08-31 2022-11-20 15:03:59.028075+01:00\n",
      "\n",
      "\n"
     ]
    }
   ],
   "source": [
    "do_query(\"\"\"\n",
    "SELECT * FROM ai_med.pacjent WHERE id = 1;\n",
    "\"\"\",\n",
    "print_out=True)"
   ]
  },
  {
   "cell_type": "code",
   "execution_count": null,
   "metadata": {},
   "outputs": [],
   "source": [
    "# do_query(\"\"\"\n",
    "# drop function if exists ai_med.pacjenci_z_id(character, character);;\n",
    "# \"\"\", \n",
    "# commit=True)\n",
    "\n",
    "# function_def(\"\"\"\n",
    "# create or replace function ai_med.pacjenci_z_id(imieee char, nazwiskooo char)\n",
    "\n",
    "# returns table(\n",
    "#    data date,\n",
    "#    data2 date,\n",
    "#    dni int\n",
    "# )\n",
    "\n",
    "# language plpgsql\n",
    "# as\n",
    "# $$\n",
    "\n",
    "# declare\n",
    "#    ilosc_pacjentow integer;\n",
    "\n",
    "# begin\n",
    "   \n",
    "#    return query\n",
    "#    SELECT \"Aktualnie przyjmowane leki\".data_rozpoczecia_ventolin__asthma\n",
    "#    ,\"Aktualnie przyjmowane leki\".data_zakonczenia_ventolin__asthma\n",
    "#    ,coalesce(\"Aktualnie przyjmowane leki\".data_zakonczenia_ventolin__asthma, cast(now() as date)) -\"Aktualnie przyjmowane leki\".data_rozpoczecia_ventolin__asthma as \"dni_brania_ventolin\"\n",
    "#    FROM ai_med.pacjent INNER JOIN ai_med.\"Aktualnie przyjmowane leki\" \n",
    "#    ON \"Aktualnie przyjmowane leki\".id = pacjent.id \n",
    "#    WHERE pacjent.imie = imieee or pacjent.nazwisko = nazwiskooo;\n",
    "\n",
    "# end;\n",
    "# $$;\n",
    "#     \"\"\",\n",
    "# commit = True)"
   ]
  },
  {
   "cell_type": "code",
   "execution_count": 113,
   "metadata": {},
   "outputs": [
    {
     "name": "stdout",
     "output_type": "stream",
     "text": [
      "NOTICE:  function ai_med.pacjenci_z_id(pg_catalog.bpchar,pg_catalog.bpchar) does not exist, skipping\n",
      "\n",
      "\n",
      "\n"
     ]
    }
   ],
   "source": [
    "do_query(\"\"\"\n",
    "drop function if exists ai_med.pacjenci_z_id(character, character);;\n",
    "\"\"\", \n",
    "commit=True)\n",
    "\n",
    "function_def(\"\"\"\n",
    "create or replace function ai_med.pacjenci_z_id(imieee char, nazwiskooo char)\n",
    "\n",
    "returns table(\n",
    "   data date,\n",
    "   data2 date,\n",
    "   dni int\n",
    ")\n",
    "\n",
    "language plpgsql\n",
    "as\n",
    "$$\n",
    "\n",
    "declare\n",
    "   ilosc_pacjentow integer;\n",
    "\n",
    "begin\n",
    "   \n",
    "   return query\n",
    "   SELECT \"Aktualnie przyjmowane leki\".data_rozpoczecia_ventolin__asthma\n",
    "   ,\"Aktualnie przyjmowane leki\".data_zakonczenia_ventolin__asthma\n",
    "   ,coalesce(\"Aktualnie przyjmowane leki\".data_zakonczenia_ventolin__asthma, cast(now() as date)) -\"Aktualnie przyjmowane leki\".data_rozpoczecia_ventolin__asthma as \"dni_brania_ventolin\"\n",
    "   FROM ai_med.pacjent INNER JOIN ai_med.\"Aktualnie przyjmowane leki\" \n",
    "   ON \"Aktualnie przyjmowane leki\".id = pacjent.id \n",
    "   WHERE pacjent.imie = imieee or pacjent.nazwisko = nazwiskooo;\n",
    "\n",
    "end;\n",
    "$$;\n",
    "    \"\"\",\n",
    "commit = True)"
   ]
  },
  {
   "cell_type": "code",
   "execution_count": 111,
   "metadata": {},
   "outputs": [
    {
     "name": "stdout",
     "output_type": "stream",
     "text": [
      "\n",
      "\n",
      "syntax error at or near \"if\"\n",
      "LINE 20:    if \n",
      "            ^\n",
      "\n"
     ]
    }
   ],
   "source": [
    "do_query(\"\"\"\n",
    "drop function if exists ai_med.pacjenci_z_id(character, character);;\n",
    "\"\"\", \n",
    "commit=True)\n",
    "\n",
    "function_def(\"\"\"\n",
    "create or replace function ai_med.pacjenci_z_id(imieee char, nazwiskooo char, lek char)\n",
    "\n",
    "returns table(\n",
    "   data date,\n",
    "   data2 date,\n",
    "   dni int\n",
    ")\n",
    "\n",
    "language plpgsql\n",
    "as\n",
    "$$\n",
    "\n",
    "declare\n",
    "   ilosc_pacjentow integer;\n",
    "\n",
    "begin\n",
    "   \n",
    "   return query\n",
    "   if \n",
    "   SELECT \"Aktualnie przyjmowane leki\".data_rozpoczecia_ventolin__asthma\n",
    "   ,\"Aktualnie przyjmowane leki\".data_zakonczenia_ventolin__asthma\n",
    "   ,coalesce(\"Aktualnie przyjmowane leki\".data_zakonczenia_ventolin__asthma, cast(now() as date)) -\"Aktualnie przyjmowane leki\".data_rozpoczecia_ventolin__asthma as \"dni_brania_ventolin\"\n",
    "   FROM ai_med.pacjent INNER JOIN ai_med.\"Aktualnie przyjmowane leki\" \n",
    "   ON \"Aktualnie przyjmowane leki\".id = pacjent.id \n",
    "   WHERE pacjent.imie = imieee or pacjent.nazwisko = nazwiskooo;\n",
    "\n",
    "end;\n",
    "$$;\n",
    "    \"\"\",\n",
    "commit = True)"
   ]
  },
  {
   "cell_type": "code",
   "execution_count": 121,
   "metadata": {},
   "outputs": [
    {
     "name": "stdout",
     "output_type": "stream",
     "text": [
      "         data       data2   dni\n",
      "0  2018-05-07  2020-08-04   820\n",
      "1  2018-07-30  2021-04-24   999\n",
      "2  2019-04-02  2021-02-08   678\n",
      "3  2018-10-13  2020-12-22   801\n",
      "4  2019-03-23  2021-08-16   877\n",
      "5  2018-05-25  2021-05-04  1075\n"
     ]
    }
   ],
   "source": [
    "function_tester(\"select * FROM ai_med.pacjenci_z_id\", \"Rachelle\", \"Wheler\")"
   ]
  },
  {
   "cell_type": "code",
   "execution_count": 67,
   "metadata": {},
   "outputs": [],
   "source": [
    "function_def(\"\"\"\n",
    "    CREATE OR REPLACE FUNCTION ai_med.przyjmowanie_leku(\n",
    "    \n",
    "    ) \n",
    "    \n",
    "    RETURNS numeric AS $$\n",
    "    \n",
    "    DECLARE total integer;\n",
    "\n",
    "    BEGIN\n",
    "        select count(*) into total from ai_med.pacjent;\n",
    "\n",
    "        RETURN total;\n",
    "    \n",
    "    END; $$\n",
    "    LANGUAGE plpgsql;\n",
    "    \"\"\",\n",
    "commit = True)"
   ]
  },
  {
   "cell_type": "code",
   "execution_count": 68,
   "metadata": {},
   "outputs": [
    {
     "name": "stdout",
     "output_type": "stream",
     "text": [
      "(Decimal('50089'),)\n"
     ]
    }
   ],
   "source": [
    "function_tester(\"select ai_med.przyjmowanie_leku\")"
   ]
  },
  {
   "cell_type": "code",
   "execution_count": 69,
   "metadata": {},
   "outputs": [],
   "source": [
    "function_def(\"\"\"\n",
    "    CREATE OR REPLACE FUNCTION ai_med.przyjmowanie_leku(\n",
    "    \n",
    "    ) \n",
    "    \n",
    "    RETURNS numeric AS $$\n",
    "    \n",
    "    DECLARE total integer;\n",
    "\n",
    "    BEGIN\n",
    "        select count(*) into total from ai_med.pacjent;\n",
    "\n",
    "        RETURN total;\n",
    "    \n",
    "    END; $$\n",
    "    LANGUAGE plpgsql;\n",
    "    \"\"\",\n",
    "commit = True)"
   ]
  },
  {
   "cell_type": "code",
   "execution_count": 70,
   "metadata": {},
   "outputs": [
    {
     "name": "stdout",
     "output_type": "stream",
     "text": [
      "(Decimal('50089'),)\n"
     ]
    }
   ],
   "source": [
    "function_tester(\"select ai_med.przyjmowanie_leku\")"
   ]
  },
  {
   "cell_type": "markdown",
   "metadata": {},
   "source": [
    "# TRIGGERS"
   ]
  },
  {
   "cell_type": "code",
   "execution_count": 71,
   "metadata": {},
   "outputs": [],
   "source": [
    "def trigger_def(func, commit = False):\n",
    "    try:\n",
    "        con = psycopg2.connect(\n",
    "                    host = \"127.0.0.11\",\n",
    "                    database=\"ZSBD_p1\",\n",
    "                    user = \"inzdanych123\",\n",
    "                    password = \"inzdanych123\",\n",
    "                    port = \"5432\")\n",
    "\n",
    "        cur = con.cursor()\n",
    "\n",
    "        for notice in con.notices:\n",
    "            print(notice)\n",
    "\n",
    "        cur.execute(func)\n",
    "        if commit:\n",
    "            con.commit()\n",
    "\n",
    "        cur.close()\n",
    "        con.close()\n",
    "\n",
    "    except (Exception, psycopg2.DatabaseError) as error:\n",
    "            print(error)\n",
    "\n",
    "    finally:\n",
    "        if con is not None:\n",
    "            con.close()"
   ]
  },
  {
   "cell_type": "code",
   "execution_count": 72,
   "metadata": {},
   "outputs": [
    {
     "name": "stdout",
     "output_type": "stream",
     "text": [
      "trigger \"pacjent_insert_timestamp\" for relation \"pacjent\" already exists\n",
      "\n"
     ]
    }
   ],
   "source": [
    "trigger_def(\"\"\"\n",
    "CREATE TRIGGER pacjent_insert_timestamp \n",
    "    AFTER\n",
    "    INSERT \n",
    "    ON ai_med.pacjent\n",
    "    FOR EACH ROW EXECUTE PROCEDURE ai_med.pacjent_insert_timestamp_func();\n",
    "\"\"\",\n",
    "commit=True)"
   ]
  },
  {
   "cell_type": "code",
   "execution_count": 73,
   "metadata": {},
   "outputs": [],
   "source": [
    "function_def(\"\"\"\n",
    "CREATE OR REPLACE FUNCTION ai_med.pacjent_insert_timestamp_func() RETURNS TRIGGER AS $pacjent_table$\n",
    "   BEGIN\n",
    "      INSERT INTO ai_med.pacjent_insert_timestamp_table(id, ostatni_insert_danych) VALUES (NEW.id ,date_trunc('day', current_timestamp));\n",
    "      RETURN NEW;\n",
    "   END;\n",
    "$pacjent_table$ LANGUAGE plpgsql;\n",
    "\"\"\",\n",
    "commit=True)"
   ]
  },
  {
   "cell_type": "code",
   "execution_count": 74,
   "metadata": {},
   "outputs": [
    {
     "name": "stdout",
     "output_type": "stream",
     "text": [
      "NOTICE:  relation \"pacjent_insert_timestamp_table\" already exists, skipping\n",
      "\n",
      "no results to fetch\n"
     ]
    }
   ],
   "source": [
    "do_query(\"\"\"\n",
    "CREATE TABLE IF NOT EXISTS ai_med.pacjent_insert_timestamp_table\n",
    "(\n",
    "    id serial NOT NULL,\n",
    "    ostatni_insert_danych date NOT NULL,\n",
    "    ostatnie_powiadomienie_dla_MLE date\n",
    ");\n",
    "\"\"\", \n",
    "commit=True,\n",
    "print_out=True)"
   ]
  },
  {
   "cell_type": "code",
   "execution_count": 75,
   "metadata": {},
   "outputs": [
    {
     "name": "stdout",
     "output_type": "stream",
     "text": [
      "no results to fetch\n",
      "(110732, 'Paul', 'California', datetime.date(2022, 11, 23), datetime.datetime(2022, 11, 23, 18, 55, 12, 167567, tzinfo=psycopg2.tz.FixedOffsetTimezone(offset=60, name=None)))\n",
      "(110736, 'Paul', 'California', datetime.date(2022, 11, 23), datetime.datetime(2022, 11, 23, 21, 24, 50, 528890, tzinfo=psycopg2.tz.FixedOffsetTimezone(offset=60, name=None)))\n",
      "(110737, 'Paul', 'California', datetime.date(2022, 11, 23), datetime.datetime(2022, 11, 23, 21, 25, 22, 232925, tzinfo=psycopg2.tz.FixedOffsetTimezone(offset=60, name=None)))\n",
      "(110745, 'Paul', 'California', datetime.date(2022, 11, 23), datetime.datetime(2022, 11, 23, 22, 19, 13, 968228, tzinfo=psycopg2.tz.FixedOffsetTimezone(offset=60, name=None)))\n",
      "(110747, 'Paul', 'California', datetime.date(2022, 11, 23), datetime.datetime(2022, 11, 23, 22, 21, 39, 707711, tzinfo=psycopg2.tz.FixedOffsetTimezone(offset=60, name=None)))\n",
      "(110749, 'Paul', 'California', datetime.date(2022, 11, 23), datetime.datetime(2022, 11, 23, 22, 24, 6, 471794, tzinfo=psycopg2.tz.FixedOffsetTimezone(offset=60, name=None)))\n",
      "(110751, 'Paul', 'California', datetime.date(2002, 11, 23), datetime.datetime(2022, 11, 23, 22, 29, 11, 785581, tzinfo=psycopg2.tz.FixedOffsetTimezone(offset=60, name=None)))\n",
      "(110755, 'Paul', 'California', datetime.date(2002, 11, 23), datetime.datetime(2022, 11, 23, 22, 32, 20, 33159, tzinfo=psycopg2.tz.FixedOffsetTimezone(offset=60, name=None)))\n",
      "(110756, 'Paul', 'California', datetime.date(2022, 11, 23), datetime.datetime(2022, 11, 23, 22, 33, 56, 588286, tzinfo=psycopg2.tz.FixedOffsetTimezone(offset=60, name=None)))\n",
      "(110758, 'Paul', 'California', datetime.date(2002, 11, 23), datetime.datetime(2022, 11, 23, 22, 36, 52, 171492, tzinfo=psycopg2.tz.FixedOffsetTimezone(offset=60, name=None)))\n",
      "(110760, 'Paul', 'California', datetime.date(2002, 11, 23), datetime.datetime(2022, 11, 23, 22, 36, 54, 421812, tzinfo=psycopg2.tz.FixedOffsetTimezone(offset=60, name=None)))\n",
      "(110762, 'Paul', 'California', datetime.date(2002, 11, 23), datetime.datetime(2022, 11, 23, 22, 38, 10, 502416, tzinfo=psycopg2.tz.FixedOffsetTimezone(offset=60, name=None)))\n",
      "(110764, 'Paul', 'California', datetime.date(2002, 11, 23), datetime.datetime(2022, 11, 23, 22, 38, 43, 336344, tzinfo=psycopg2.tz.FixedOffsetTimezone(offset=60, name=None)))\n",
      "(110766, 'Paul', 'California', datetime.date(2002, 11, 23), datetime.datetime(2022, 11, 23, 22, 40, 2, 108658, tzinfo=psycopg2.tz.FixedOffsetTimezone(offset=60, name=None)))\n",
      "(110768, 'Paul', 'California', datetime.date(2002, 11, 23), datetime.datetime(2022, 11, 23, 22, 40, 7, 265301, tzinfo=psycopg2.tz.FixedOffsetTimezone(offset=60, name=None)))\n",
      "(110770, 'Paul', 'California', datetime.date(2002, 11, 23), datetime.datetime(2022, 11, 23, 22, 40, 19, 143384, tzinfo=psycopg2.tz.FixedOffsetTimezone(offset=60, name=None)))\n",
      "(110772, 'Paul', 'California', datetime.date(2002, 11, 23), datetime.datetime(2022, 11, 23, 22, 43, 26, 321618, tzinfo=psycopg2.tz.FixedOffsetTimezone(offset=60, name=None)))\n",
      "(110774, 'Paul', 'California', datetime.date(2002, 11, 23), datetime.datetime(2022, 11, 23, 22, 43, 28, 27117, tzinfo=psycopg2.tz.FixedOffsetTimezone(offset=60, name=None)))\n",
      "(110738, 'Paul', 'California', datetime.date(2022, 11, 23), datetime.datetime(2022, 11, 23, 21, 26, 12, 98997, tzinfo=psycopg2.tz.FixedOffsetTimezone(offset=60, name=None)))\n",
      "(110744, 'Paul', 'California', datetime.date(2022, 11, 23), datetime.datetime(2022, 11, 23, 22, 18, 12, 67834, tzinfo=psycopg2.tz.FixedOffsetTimezone(offset=60, name=None)))\n",
      "(110746, 'Paul', 'California', datetime.date(2022, 11, 23), datetime.datetime(2022, 11, 23, 22, 21, 39, 250271, tzinfo=psycopg2.tz.FixedOffsetTimezone(offset=60, name=None)))\n",
      "(110748, 'Paul', 'California', datetime.date(2022, 11, 23), datetime.datetime(2022, 11, 23, 22, 24, 6, 71110, tzinfo=psycopg2.tz.FixedOffsetTimezone(offset=60, name=None)))\n",
      "(110750, 'Paul', 'California', datetime.date(2002, 11, 23), datetime.datetime(2022, 11, 23, 22, 25, 49, 548014, tzinfo=psycopg2.tz.FixedOffsetTimezone(offset=60, name=None)))\n",
      "(110752, 'Paul', 'California', datetime.date(2002, 11, 23), datetime.datetime(2022, 11, 23, 22, 29, 13, 378863, tzinfo=psycopg2.tz.FixedOffsetTimezone(offset=60, name=None)))\n",
      "(110754, 'Paul', 'California', datetime.date(2002, 11, 23), datetime.datetime(2022, 11, 23, 22, 32, 14, 55687, tzinfo=psycopg2.tz.FixedOffsetTimezone(offset=60, name=None)))\n",
      "(110757, 'Paul', 'California', datetime.date(2002, 11, 23), datetime.datetime(2022, 11, 23, 22, 36, 36, 205902, tzinfo=psycopg2.tz.FixedOffsetTimezone(offset=60, name=None)))\n",
      "(110759, 'Paul', 'California', datetime.date(2002, 11, 23), datetime.datetime(2022, 11, 23, 22, 36, 53, 564775, tzinfo=psycopg2.tz.FixedOffsetTimezone(offset=60, name=None)))\n",
      "(110761, 'Paul', 'California', datetime.date(2002, 11, 23), datetime.datetime(2022, 11, 23, 22, 37, 42, 874248, tzinfo=psycopg2.tz.FixedOffsetTimezone(offset=60, name=None)))\n",
      "(110763, 'Paul', 'California', datetime.date(2002, 11, 23), datetime.datetime(2022, 11, 23, 22, 38, 42, 63615, tzinfo=psycopg2.tz.FixedOffsetTimezone(offset=60, name=None)))\n",
      "(110765, 'Paul', 'California', datetime.date(2002, 11, 23), datetime.datetime(2022, 11, 23, 22, 39, 54, 508440, tzinfo=psycopg2.tz.FixedOffsetTimezone(offset=60, name=None)))\n",
      "(110767, 'Paul', 'California', datetime.date(2002, 11, 23), datetime.datetime(2022, 11, 23, 22, 40, 5, 197902, tzinfo=psycopg2.tz.FixedOffsetTimezone(offset=60, name=None)))\n",
      "(110769, 'Paul', 'California', datetime.date(2002, 11, 23), datetime.datetime(2022, 11, 23, 22, 40, 8, 825703, tzinfo=psycopg2.tz.FixedOffsetTimezone(offset=60, name=None)))\n",
      "(110771, 'Paul', 'California', datetime.date(2002, 11, 23), datetime.datetime(2022, 11, 23, 22, 43, 25, 312152, tzinfo=psycopg2.tz.FixedOffsetTimezone(offset=60, name=None)))\n",
      "(110773, 'Paul', 'California', datetime.date(2002, 11, 23), datetime.datetime(2022, 11, 23, 22, 43, 27, 155775, tzinfo=psycopg2.tz.FixedOffsetTimezone(offset=60, name=None)))\n",
      "(110775, 'Paul', 'California', datetime.date(2002, 11, 23), datetime.datetime(2022, 11, 23, 22, 43, 28, 803761, tzinfo=psycopg2.tz.FixedOffsetTimezone(offset=60, name=None)))\n",
      "(110776, 'Paul', 'California', datetime.date(2002, 11, 23), datetime.datetime(2022, 11, 23, 22, 43, 29, 983696, tzinfo=psycopg2.tz.FixedOffsetTimezone(offset=60, name=None)))\n",
      "(110777, 'Paul', 'California', datetime.date(2002, 11, 23), datetime.datetime(2022, 11, 23, 22, 52, 9, 804389, tzinfo=psycopg2.tz.FixedOffsetTimezone(offset=60, name=None)))\n",
      "(110778, 'Paul', 'California', datetime.date(2002, 11, 23), datetime.datetime(2022, 11, 23, 22, 52, 10, 926880, tzinfo=psycopg2.tz.FixedOffsetTimezone(offset=60, name=None)))\n",
      "(110779, 'Paul', 'California', datetime.date(2002, 11, 23), datetime.datetime(2022, 11, 23, 22, 52, 11, 810197, tzinfo=psycopg2.tz.FixedOffsetTimezone(offset=60, name=None)))\n",
      "(110780, 'Paul', 'California', datetime.date(2002, 11, 23), datetime.datetime(2022, 11, 23, 22, 52, 12, 393539, tzinfo=psycopg2.tz.FixedOffsetTimezone(offset=60, name=None)))\n",
      "(110781, 'Paul', 'California', datetime.date(2002, 11, 23), datetime.datetime(2022, 11, 23, 22, 52, 13, 450825, tzinfo=psycopg2.tz.FixedOffsetTimezone(offset=60, name=None)))\n",
      "(110782, 'Paul', 'California', datetime.date(2002, 11, 23), datetime.datetime(2022, 11, 23, 22, 52, 27, 221351, tzinfo=psycopg2.tz.FixedOffsetTimezone(offset=60, name=None)))\n",
      "(110783, 'Paul', 'California', datetime.date(2002, 11, 23), datetime.datetime(2022, 11, 23, 22, 53, 23, 119156, tzinfo=psycopg2.tz.FixedOffsetTimezone(offset=60, name=None)))\n",
      "(110784, 'Paul', 'California', datetime.date(2002, 11, 23), datetime.datetime(2022, 11, 23, 22, 53, 24, 20490, tzinfo=psycopg2.tz.FixedOffsetTimezone(offset=60, name=None)))\n",
      "(110785, 'Paul', 'California', datetime.date(2002, 11, 23), datetime.datetime(2022, 11, 23, 22, 53, 24, 568737, tzinfo=psycopg2.tz.FixedOffsetTimezone(offset=60, name=None)))\n",
      "(110786, 'Paul', 'California', datetime.date(2002, 11, 23), datetime.datetime(2022, 11, 23, 22, 53, 25, 110580, tzinfo=psycopg2.tz.FixedOffsetTimezone(offset=60, name=None)))\n",
      "(110787, 'Paul', 'California', datetime.date(2002, 11, 23), datetime.datetime(2022, 11, 23, 22, 53, 25, 652329, tzinfo=psycopg2.tz.FixedOffsetTimezone(offset=60, name=None)))\n",
      "(110788, 'Paul', 'California', datetime.date(2002, 11, 23), datetime.datetime(2022, 11, 23, 22, 53, 26, 876255, tzinfo=psycopg2.tz.FixedOffsetTimezone(offset=60, name=None)))\n",
      "(110789, 'Paul', 'California', datetime.date(2002, 11, 23), datetime.datetime(2022, 11, 23, 22, 53, 34, 745436, tzinfo=psycopg2.tz.FixedOffsetTimezone(offset=60, name=None)))\n",
      "(110790, 'Paul', 'California', datetime.date(2002, 11, 23), datetime.datetime(2022, 11, 23, 22, 54, 42, 92517, tzinfo=psycopg2.tz.FixedOffsetTimezone(offset=60, name=None)))\n",
      "(110791, 'Paul', 'California', datetime.date(2002, 11, 23), datetime.datetime(2022, 11, 23, 22, 54, 43, 698378, tzinfo=psycopg2.tz.FixedOffsetTimezone(offset=60, name=None)))\n",
      "(110792, 'Paul', 'California', datetime.date(2002, 11, 23), datetime.datetime(2022, 11, 23, 22, 54, 44, 254601, tzinfo=psycopg2.tz.FixedOffsetTimezone(offset=60, name=None)))\n",
      "(110793, 'Paul', 'California', datetime.date(2002, 11, 23), datetime.datetime(2022, 11, 23, 22, 54, 44, 745034, tzinfo=psycopg2.tz.FixedOffsetTimezone(offset=60, name=None)))\n",
      "(110794, 'Paul', 'California', datetime.date(2002, 11, 23), datetime.datetime(2022, 11, 23, 22, 54, 45, 340657, tzinfo=psycopg2.tz.FixedOffsetTimezone(offset=60, name=None)))\n",
      "(110795, 'Paul', 'California', datetime.date(2002, 11, 23), datetime.datetime(2022, 11, 23, 22, 54, 47, 33576, tzinfo=psycopg2.tz.FixedOffsetTimezone(offset=60, name=None)))\n",
      "(110796, 'Paul', 'California', datetime.date(2002, 11, 23), datetime.datetime(2022, 11, 23, 22, 56, 56, 221483, tzinfo=psycopg2.tz.FixedOffsetTimezone(offset=60, name=None)))\n",
      "(110797, 'Paul', 'California', datetime.date(2002, 11, 23), datetime.datetime(2022, 11, 23, 22, 57, 49, 515236, tzinfo=psycopg2.tz.FixedOffsetTimezone(offset=60, name=None)))\n",
      "(110798, 'Paul', 'California', datetime.date(2002, 11, 23), datetime.datetime(2022, 11, 23, 22, 57, 52, 409489, tzinfo=psycopg2.tz.FixedOffsetTimezone(offset=60, name=None)))\n",
      "(110799, 'Paul', 'California', datetime.date(2002, 11, 23), datetime.datetime(2022, 11, 23, 22, 57, 53, 354077, tzinfo=psycopg2.tz.FixedOffsetTimezone(offset=60, name=None)))\n",
      "(110800, 'Paul', 'California', datetime.date(2002, 11, 23), datetime.datetime(2022, 11, 23, 22, 57, 54, 159285, tzinfo=psycopg2.tz.FixedOffsetTimezone(offset=60, name=None)))\n",
      "(110801, 'Paul', 'California', datetime.date(2002, 11, 23), datetime.datetime(2022, 11, 23, 22, 57, 55, 38585, tzinfo=psycopg2.tz.FixedOffsetTimezone(offset=60, name=None)))\n",
      "(110802, 'Paul', 'California', datetime.date(2002, 11, 23), datetime.datetime(2022, 11, 23, 22, 59, 55, 983607, tzinfo=psycopg2.tz.FixedOffsetTimezone(offset=60, name=None)))\n",
      "(110803, 'Paul', 'California', datetime.date(2002, 11, 23), datetime.datetime(2022, 11, 23, 23, 0, 33, 658567, tzinfo=psycopg2.tz.FixedOffsetTimezone(offset=60, name=None)))\n",
      "(110804, 'Paul', 'California', datetime.date(2002, 11, 23), datetime.datetime(2022, 11, 23, 23, 0, 34, 367567, tzinfo=psycopg2.tz.FixedOffsetTimezone(offset=60, name=None)))\n",
      "(110805, 'Paul', 'California', datetime.date(2002, 11, 23), datetime.datetime(2022, 11, 23, 23, 0, 34, 910320, tzinfo=psycopg2.tz.FixedOffsetTimezone(offset=60, name=None)))\n",
      "(110806, 'Paul', 'California', datetime.date(2002, 11, 23), datetime.datetime(2022, 11, 23, 23, 0, 35, 188839, tzinfo=psycopg2.tz.FixedOffsetTimezone(offset=60, name=None)))\n",
      "(110807, 'Paul', 'California', datetime.date(2002, 11, 23), datetime.datetime(2022, 11, 23, 23, 0, 35, 398019, tzinfo=psycopg2.tz.FixedOffsetTimezone(offset=60, name=None)))\n",
      "(110808, 'Paul', 'California', datetime.date(2002, 11, 23), datetime.datetime(2022, 11, 23, 23, 0, 35, 695486, tzinfo=psycopg2.tz.FixedOffsetTimezone(offset=60, name=None)))\n",
      "(110809, 'Paul', 'California', datetime.date(2002, 11, 23), datetime.datetime(2022, 11, 23, 23, 0, 35, 887968, tzinfo=psycopg2.tz.FixedOffsetTimezone(offset=60, name=None)))\n",
      "(110810, 'Paul', 'California', datetime.date(2002, 11, 23), datetime.datetime(2022, 11, 23, 23, 0, 59, 28512, tzinfo=psycopg2.tz.FixedOffsetTimezone(offset=60, name=None)))\n",
      "(110811, 'Paul', 'California', datetime.date(2002, 11, 23), datetime.datetime(2022, 11, 23, 23, 1, 2, 752826, tzinfo=psycopg2.tz.FixedOffsetTimezone(offset=60, name=None)))\n",
      "(110812, 'Paul', 'California', datetime.date(2022, 11, 23), datetime.datetime(2022, 11, 23, 23, 1, 35, 638680, tzinfo=psycopg2.tz.FixedOffsetTimezone(offset=60, name=None)))\n",
      "(110813, 'Paul', 'California', datetime.date(2002, 11, 23), datetime.datetime(2022, 11, 23, 23, 1, 36, 257899, tzinfo=psycopg2.tz.FixedOffsetTimezone(offset=60, name=None)))\n",
      "(110814, 'Paul', 'California', datetime.date(2002, 11, 23), datetime.datetime(2022, 11, 23, 23, 1, 49, 187948, tzinfo=psycopg2.tz.FixedOffsetTimezone(offset=60, name=None)))\n",
      "(110815, 'Paul', 'California', datetime.date(2002, 11, 23), datetime.datetime(2022, 11, 23, 23, 1, 49, 849377, tzinfo=psycopg2.tz.FixedOffsetTimezone(offset=60, name=None)))\n",
      "(110816, 'Paul', 'California', datetime.date(2002, 11, 23), datetime.datetime(2022, 11, 23, 23, 1, 50, 322490, tzinfo=psycopg2.tz.FixedOffsetTimezone(offset=60, name=None)))\n",
      "(110817, 'Paul', 'California', datetime.date(2002, 11, 23), datetime.datetime(2022, 11, 23, 23, 1, 50, 824545, tzinfo=psycopg2.tz.FixedOffsetTimezone(offset=60, name=None)))\n",
      "(110818, 'Paul', 'California', datetime.date(2002, 11, 23), datetime.datetime(2022, 11, 23, 23, 2, 17, 893092, tzinfo=psycopg2.tz.FixedOffsetTimezone(offset=60, name=None)))\n",
      "(110819, 'Paul', 'California', datetime.date(2002, 11, 23), datetime.datetime(2022, 11, 23, 23, 2, 21, 291154, tzinfo=psycopg2.tz.FixedOffsetTimezone(offset=60, name=None)))\n",
      "(110820, 'Paul', 'California', datetime.date(2022, 11, 23), datetime.datetime(2022, 11, 23, 23, 4, 4, 503090, tzinfo=psycopg2.tz.FixedOffsetTimezone(offset=60, name=None)))\n",
      "(110821, 'Paul', 'California', datetime.date(2002, 11, 23), datetime.datetime(2022, 11, 23, 23, 4, 5, 117852, tzinfo=psycopg2.tz.FixedOffsetTimezone(offset=60, name=None)))\n",
      "(110822, 'Paul', 'California', datetime.date(2002, 11, 23), datetime.datetime(2022, 11, 23, 23, 4, 33, 815185, tzinfo=psycopg2.tz.FixedOffsetTimezone(offset=60, name=None)))\n",
      "(110823, 'Paul', 'California', datetime.date(2002, 11, 23), datetime.datetime(2022, 11, 23, 23, 4, 34, 577086, tzinfo=psycopg2.tz.FixedOffsetTimezone(offset=60, name=None)))\n",
      "(110824, 'Paul', 'California', datetime.date(2002, 11, 23), datetime.datetime(2022, 11, 23, 23, 4, 35, 266728, tzinfo=psycopg2.tz.FixedOffsetTimezone(offset=60, name=None)))\n",
      "(110825, 'Paul', 'California', datetime.date(2002, 11, 23), datetime.datetime(2022, 11, 23, 23, 4, 35, 931756, tzinfo=psycopg2.tz.FixedOffsetTimezone(offset=60, name=None)))\n",
      "(110826, 'Paul', 'California', datetime.date(2002, 11, 23), datetime.datetime(2022, 11, 23, 23, 4, 36, 535853, tzinfo=psycopg2.tz.FixedOffsetTimezone(offset=60, name=None)))\n",
      "(110827, 'Paul', 'California', datetime.date(2002, 11, 23), datetime.datetime(2022, 11, 23, 23, 4, 37, 927108, tzinfo=psycopg2.tz.FixedOffsetTimezone(offset=60, name=None)))\n",
      "(110828, 'Paul', 'California', datetime.date(2022, 11, 23), datetime.datetime(2022, 11, 23, 23, 20, 35, 745892, tzinfo=psycopg2.tz.FixedOffsetTimezone(offset=60, name=None)))\n",
      "(110829, 'Paul', 'California', datetime.date(2002, 11, 23), datetime.datetime(2022, 11, 23, 23, 20, 36, 137202, tzinfo=psycopg2.tz.FixedOffsetTimezone(offset=60, name=None)))\n",
      "(110830, 'Paul', 'California', datetime.date(2022, 11, 23), datetime.datetime(2022, 11, 24, 12, 41, 2, 877312, tzinfo=psycopg2.tz.FixedOffsetTimezone(offset=60, name=None)))\n",
      "\n",
      "\n",
      "(110830, datetime.date(2022, 11, 24), None)\n",
      "\n",
      "\n"
     ]
    }
   ],
   "source": [
    "do_query(\"\"\"\n",
    "INSERT INTO ai_med.pacjent (imie, nazwisko, data_urodzenia) VALUES ('Paul', 'California', '2022-11-23');\n",
    "\"\"\", \n",
    "commit=True,\n",
    "print_out=True)\n",
    "do_query(\"\"\"\n",
    "SELECT * FROM ai_med.pacjent where imie ='Paul' and nazwisko = 'California';\n",
    "\"\"\", \n",
    "commit=True,\n",
    "print_out=True)\n",
    "do_query(\"\"\"\n",
    "SELECT * FROM ai_med.pacjent_insert_timestamp_table;\n",
    "\"\"\", \n",
    "commit=True,\n",
    "print_out=True)\n"
   ]
  },
  {
   "cell_type": "code",
   "execution_count": 76,
   "metadata": {},
   "outputs": [],
   "source": [
    "trigger_def(\"\"\"\n",
    "CREATE OR REPLACE TRIGGER message_to_ML_E\n",
    "    BEFORE\n",
    "    INSERT \n",
    "    ON ai_med.pacjent\n",
    "    FOR EACH ROW EXECUTE PROCEDURE ai_med.message_to_ML_E_func();\n",
    "\"\"\",\n",
    "commit=True)"
   ]
  },
  {
   "cell_type": "code",
   "execution_count": 77,
   "metadata": {},
   "outputs": [],
   "source": [
    "#TO W SUMIE POWINNO BYc NA KONIEC JAKIEJŚ TRANZAKCJI\n",
    "#W SENSIE ŻEBY ZROBIĆ TRANZAKCJĘ, KTÓRA ZAJMIE SIĘ DAILY INSERTEM DO TABEL\n",
    "function_def(\"\"\"\n",
    "CREATE OR REPLACE FUNCTION ai_med.message_to_ML_E_func() RETURNS TRIGGER AS $pacjent_table$\n",
    "\tdeclare\n",
    "\t\tliczba_wprowadzonych int;\n",
    "\tBEGIN\n",
    "\t\tSELECT count(*) into liczba_wprowadzonych from ai_med.pacjent_insert_timestamp_table \n",
    "\t\twhere ostatni_insert_danych = date_trunc('day', current_timestamp);\n",
    "\t\tIF liczba_wprowadzonych = 5\n",
    "\t\tTHEN\n",
    "\t\tUPDATE ai_med.pacjent_insert_timestamp_table\n",
    "\t\tSET ostatnie_powiadomienie_dla_mle=date_trunc('minute', current_timestamp);\n",
    "\t\traise notice 'Dzis zostalo wprowadzonych przynajmniej % nowych pacjentow, moze chcecie zrobic douczanie modelu?', \n",
    "\t\t\n",
    "\t\tliczba_wprowadzonych + 1;\n",
    "\t\t\n",
    "\t\tEND IF;\n",
    "\t\tRETURN NEW;\n",
    "   \tEND;\n",
    "$pacjent_table$ LANGUAGE plpgsql;\n",
    "\"\"\",\n",
    "commit=True)\n",
    "\n"
   ]
  },
  {
   "cell_type": "code",
   "execution_count": 78,
   "metadata": {},
   "outputs": [
    {
     "name": "stdout",
     "output_type": "stream",
     "text": [
      "no results to fetch\n",
      "(110830, datetime.date(2022, 11, 24), None)\n",
      "(110831, datetime.date(2022, 11, 24), None)\n",
      "\n",
      "\n"
     ]
    }
   ],
   "source": [
    "do_query(\"\"\"\n",
    "INSERT INTO ai_med.pacjent (imie, nazwisko, data_urodzenia) VALUES ('Paul', 'California', '2002-11-23');\n",
    "\"\"\", \n",
    "commit=True,\n",
    "print_out=True)\n",
    "\n",
    "do_query(\"\"\"\n",
    "SELECT * FROM ai_med.pacjent_insert_timestamp_table;\n",
    "\"\"\", \n",
    "commit=True,\n",
    "print_out=True)"
   ]
  },
  {
   "cell_type": "code",
   "execution_count": 79,
   "metadata": {},
   "outputs": [],
   "source": [
    "# do_query(\"\"\"\n",
    "# DROP TABLE IF EXISTS ai_med.pacjent_insert_timestamp_table\n",
    "# \"\"\", \n",
    "# commit=True,\n",
    "# print_out=True)\n",
    "\n",
    "# do_query(\"\"\"\n",
    "# CREATE TABLE IF NOT EXISTS ai_med.pacjent_insert_timestamp_table\n",
    "# (\n",
    "#     id serial NOT NULL,\n",
    "#     ostatni_insert_danych date NOT NULL,\n",
    "#     ostatnie_powiadomienie_dla_MLE date\n",
    "# );\n",
    "# \"\"\", \n",
    "# commit=True,\n",
    "# print_out=True)"
   ]
  },
  {
   "cell_type": "markdown",
   "metadata": {},
   "source": [
    "# PROCEDURES"
   ]
  },
  {
   "cell_type": "code",
   "execution_count": 80,
   "metadata": {},
   "outputs": [],
   "source": [
    "def procedure_def(func, commit = False):\n",
    "    try:\n",
    "        con = psycopg2.connect(\n",
    "                    host = \"127.0.0.11\",\n",
    "                    database=\"ZSBD_p1\",\n",
    "                    user = \"inzdanych123\",\n",
    "                    password = \"inzdanych123\",\n",
    "                    port = \"5432\")\n",
    "\n",
    "        cur = con.cursor()\n",
    "\n",
    "        for notice in con.notices:\n",
    "            print(notice)\n",
    "\n",
    "        cur.execute(func)\n",
    "        if commit:\n",
    "            con.commit()\n",
    "\n",
    "        cur.close()\n",
    "        con.close()\n",
    "\n",
    "    except (Exception, psycopg2.DatabaseError) as error:\n",
    "            print(error)\n",
    "\n",
    "    finally:\n",
    "        if con is not None:\n",
    "            con.close()"
   ]
  },
  {
   "cell_type": "markdown",
   "metadata": {},
   "source": [
    "# 1. Inserting data using a procedure GENEROWANIE danych za pomocą procedur?"
   ]
  },
  {
   "cell_type": "code",
   "execution_count": 81,
   "metadata": {},
   "outputs": [],
   "source": [
    "procedure_def(\n",
    "\"\"\"\n",
    "create or replace procedure ai_med.select_all_pacjenty()\n",
    "language plpgsql    \n",
    "as $$\n",
    "declare\n",
    "    msg int;\n",
    "begin\n",
    "\n",
    "    select count(*) into msg from ai_med.pacjent;\n",
    "\n",
    "    RAISE NOTICE 'W bazie jest juz: % pacjentow!!', msg ;\n",
    "\n",
    "end;$$\n",
    "\"\"\",\n",
    "commit=True)"
   ]
  },
  {
   "cell_type": "code",
   "execution_count": 82,
   "metadata": {},
   "outputs": [
    {
     "name": "stdout",
     "output_type": "stream",
     "text": [
      "NOTICE:  W bazie jest juz: 50091 pacjentow!!\n",
      "\n",
      "no results to fetch\n"
     ]
    }
   ],
   "source": [
    "do_query(\"\"\"\n",
    "call ai_med.select_all_pacjenty();\n",
    "\"\"\", \n",
    "commit=True,\n",
    "print_out=True)"
   ]
  }
 ],
 "metadata": {
  "kernelspec": {
   "display_name": "Python 3.9.13 ('ZSBD')",
   "language": "python",
   "name": "python3"
  },
  "language_info": {
   "codemirror_mode": {
    "name": "ipython",
    "version": 3
   },
   "file_extension": ".py",
   "mimetype": "text/x-python",
   "name": "python",
   "nbconvert_exporter": "python",
   "pygments_lexer": "ipython3",
   "version": "3.9.13"
  },
  "orig_nbformat": 4,
  "vscode": {
   "interpreter": {
    "hash": "8357cfc344e27cdb3246fb42594e9ac9d5e7fb52400a68e0573ac62de3ff6ef8"
   }
  }
 },
 "nbformat": 4,
 "nbformat_minor": 2
}
