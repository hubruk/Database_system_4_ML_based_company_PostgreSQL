{
 "cells": [
  {
   "cell_type": "code",
   "execution_count": 199,
   "metadata": {},
   "outputs": [],
   "source": [
    "import psycopg2\n",
    "import pandas as pd"
   ]
  },
  {
   "cell_type": "code",
   "execution_count": 200,
   "metadata": {},
   "outputs": [],
   "source": [
    "#%run functions.ipynb"
   ]
  },
  {
   "cell_type": "code",
   "execution_count": 201,
   "metadata": {},
   "outputs": [],
   "source": [
    "def do_query(query, print_out = False, commit = False):\n",
    "    try:\n",
    "        con = psycopg2.connect(\n",
    "                    host = \"127.0.0.11\",\n",
    "                    database=\"ZSBD_p1\",\n",
    "                    user = \"inzdanych123\",\n",
    "                    password = \"inzdanych123\",\n",
    "                    port = \"5432\")\n",
    "\n",
    "        cur = con.cursor()\n",
    "\n",
    "        cur.execute(query)\n",
    "        \n",
    "        for notice in con.notices:\n",
    "            print(notice)\n",
    "\n",
    "        if commit:\n",
    "            con.commit()\n",
    "\n",
    "        if print_out:\n",
    "            column_names = [desc[0] for desc in cur.description]\n",
    "            row_list = []\n",
    "            row = cur.fetchone()\n",
    "            while row is not None:\n",
    "                row_list.append(row)\n",
    "                #print(row)\n",
    "                row = cur.fetchone()\n",
    "            df = pd.DataFrame(row_list, columns=column_names)\n",
    "            print(df)\n",
    "        \n",
    "        \n",
    "        \n",
    "        cur.close()\n",
    "        con.close()\n",
    "        print('\\n')\n",
    "    except (Exception, psycopg2.DatabaseError) as error:\n",
    "            print(error)\n",
    "\n",
    "    finally:\n",
    "        if con is not None:\n",
    "            con.close()"
   ]
  },
  {
   "cell_type": "markdown",
   "metadata": {},
   "source": [
    "# FUNCTIONS"
   ]
  },
  {
   "cell_type": "code",
   "execution_count": 202,
   "metadata": {},
   "outputs": [],
   "source": [
    "def function_def(func, commit = False):\n",
    "    try:\n",
    "        con = psycopg2.connect(\n",
    "                    host = \"127.0.0.11\",\n",
    "                    database=\"ZSBD_p1\",\n",
    "                    user = \"inzdanych123\",\n",
    "                    password = \"inzdanych123\",\n",
    "                    port = \"5432\")\n",
    "\n",
    "        cur = con.cursor()\n",
    "\n",
    "        cur.execute(func)\n",
    "        if commit:\n",
    "            con.commit()\n",
    "\n",
    "        cur.close()\n",
    "        con.close()\n",
    "\n",
    "    except (Exception, psycopg2.DatabaseError) as error:\n",
    "            print(error)\n",
    "\n",
    "    finally:\n",
    "        if con is not None:\n",
    "            con.close()"
   ]
  },
  {
   "cell_type": "code",
   "execution_count": 203,
   "metadata": {},
   "outputs": [],
   "source": [
    "def function_tester(function, *arguments_of_it):\n",
    "    try:\n",
    "        con = psycopg2.connect(\n",
    "                    host = \"127.0.0.11\",\n",
    "                    database=\"ZSBD_p1\",\n",
    "                    user = \"inzdanych123\",\n",
    "                    password = \"inzdanych123\",\n",
    "                    port = \"5432\")\n",
    "\n",
    "        cur = con.cursor()\n",
    "        \n",
    "        if len(arguments_of_it) == 1:\n",
    "            cur.execute(function + \"('\" +str(arguments_of_it[0]) + \"')\")\n",
    "        else:\n",
    "            cur.execute(function + str(arguments_of_it))\n",
    "\n",
    "        column_names = [desc[0] for desc in cur.description]\n",
    "        row_list = []\n",
    "        row = cur.fetchone()\n",
    "        while row is not None:\n",
    "            row_list.append(row)\n",
    "            #print(row)\n",
    "            row = cur.fetchone()\n",
    "        df = pd.DataFrame(row_list, columns=column_names)\n",
    "        print(df)\n",
    "        \n",
    "        for notice in con.notices:\n",
    "            print(notice)\n",
    "\n",
    "        cur.close()\n",
    "        con.close()\n",
    "\n",
    "    except (Exception, psycopg2.DatabaseError) as error:\n",
    "            print(error)\n",
    "\n",
    "    finally:\n",
    "        if con is not None:\n",
    "            con.close()"
   ]
  },
  {
   "cell_type": "code",
   "execution_count": 204,
   "metadata": {},
   "outputs": [],
   "source": [
    "function_def(\"\"\"\n",
    "    CREATE OR REPLACE FUNCTION ai_med.get_sum(\n",
    "        a NUMERIC, \n",
    "        b NUMERIC) \n",
    "    RETURNS NUMERIC AS $$\n",
    "    BEGIN\n",
    "        RETURN a + b;\n",
    "    END; $$\n",
    "\n",
    "    LANGUAGE plpgsql;\n",
    "    \"\"\",\n",
    "    commit = True)"
   ]
  },
  {
   "cell_type": "code",
   "execution_count": 205,
   "metadata": {},
   "outputs": [
    {
     "name": "stdout",
     "output_type": "stream",
     "text": [
      "  get_sum\n",
      "0      30\n"
     ]
    }
   ],
   "source": [
    "function_tester(\"select ai_med.get_sum\", 10, 20)"
   ]
  },
  {
   "cell_type": "code",
   "execution_count": 206,
   "metadata": {},
   "outputs": [],
   "source": [
    "function_def(\"\"\"\n",
    "CREATE OR REPLACE FUNCTION ai_med.test1 ()\n",
    "RETURNS integer AS $total$\n",
    "declare\n",
    "\ttotal integer;\n",
    "BEGIN\n",
    "   select count(*) into total from ai_med.pacjent;\n",
    "   RETURN total;\n",
    "END;\n",
    "$total$ LANGUAGE plpgsql;\n",
    "\"\"\",\n",
    "commit = True)"
   ]
  },
  {
   "cell_type": "code",
   "execution_count": 207,
   "metadata": {},
   "outputs": [
    {
     "name": "stdout",
     "output_type": "stream",
     "text": [
      "   test1\n",
      "0  50091\n"
     ]
    }
   ],
   "source": [
    "function_tester(\"select ai_med.test1\")"
   ]
  },
  {
   "cell_type": "code",
   "execution_count": 208,
   "metadata": {},
   "outputs": [
    {
     "name": "stdout",
     "output_type": "stream",
     "text": [
      "   id  imie nazwisko data_urodzenia                       created_at\n",
      "0   1  Robo     Bobo     1934-08-31 2022-11-20 15:03:59.028075+01:00\n",
      "\n",
      "\n"
     ]
    }
   ],
   "source": [
    "do_query(\"\"\"\n",
    "SELECT * FROM ai_med.pacjent WHERE id = 1;\n",
    "\"\"\",\n",
    "print_out=True)"
   ]
  },
  {
   "cell_type": "code",
   "execution_count": 321,
   "metadata": {},
   "outputs": [
    {
     "name": "stdout",
     "output_type": "stream",
     "text": [
      "\n",
      "\n"
     ]
    }
   ],
   "source": [
    "do_query(\"\"\"\n",
    "drop function if exists ai_med.pacjenci_z_id(character, character, character);;\n",
    "\"\"\", \n",
    "commit=True)\n",
    "\n",
    "function_def(\"\"\"\n",
    "create or replace function ai_med.pacjenci_z_id(imieee char, nazwiskooo char, lek char)\n",
    "\n",
    "returns table(\n",
    "   data_rozpoczecie_brania_leku date,\n",
    "   data_zakonczenia_brania_leku date,\n",
    "   dni_brania_leku int\n",
    ")\n",
    "\n",
    "language plpgsql\n",
    "as\n",
    "$$\n",
    "\n",
    "declare\n",
    "   ilosc_pacjentow integer;\n",
    "\n",
    "begin\n",
    "\n",
    "   IF lek = 'ventolin'\n",
    "      THEN\n",
    "      return query\n",
    "      SELECT \"Aktualnie przyjmowane leki\".data_rozpoczecia_ventolin__asthma\n",
    "      ,\"Aktualnie przyjmowane leki\".data_zakonczenia_ventolin__asthma \n",
    "      ,coalesce(\"Aktualnie przyjmowane leki\".data_zakonczenia_ventolin__asthma, cast(now() as date)) -\"Aktualnie przyjmowane leki\".data_rozpoczecia_ventolin__asthma as \"dni_brania_ventolin\"\n",
    "      FROM ai_med.pacjent INNER JOIN ai_med.\"Aktualnie przyjmowane leki\" \n",
    "      ON \"Aktualnie przyjmowane leki\".id = pacjent.id \n",
    "      WHERE pacjent.imie = imieee or pacjent.nazwisko = nazwiskooo;\n",
    "   \n",
    "   elsif lek = 'atorvastatin' \n",
    "      THEN\n",
    "      return query\n",
    "      SELECT \"Aktualnie przyjmowane leki\".data_rozpoczecia_atorvastatin_calcium__cholesterol\n",
    "      ,\"Aktualnie przyjmowane leki\".data_zakonczenia_atorvastatin_calcium__cholesterol \n",
    "      ,coalesce(\"Aktualnie przyjmowane leki\".data_zakonczenia_atorvastatin_calcium__cholesterol, cast(now() as date)) -\"Aktualnie przyjmowane leki\".data_rozpoczecia_atorvastatin_calcium__cholesterol as \"dni_brania_ventolin\"\n",
    "      FROM ai_med.pacjent INNER JOIN ai_med.\"Aktualnie przyjmowane leki\" \n",
    "      ON \"Aktualnie przyjmowane leki\".id = pacjent.id \n",
    "      WHERE pacjent.imie = imieee or pacjent.nazwisko = nazwiskooo;\n",
    "   \n",
    "   elsif lek = 'hydrochlorothiazide' \n",
    "      THEN\n",
    "      return query\n",
    "      SELECT \"Aktualnie przyjmowane leki\".data_rozpoczecia_hydrochlorothiazide__wysokie_cisnienie_krwi\n",
    "      ,\"Aktualnie przyjmowane leki\".data_zakonczenia_hydrochlorothiazide__wysokie_cisnienie_krwi \n",
    "      ,coalesce(\"Aktualnie przyjmowane leki\".data_zakonczenia_hydrochlorothiazide__wysokie_cisnienie_krwi, cast(now() as date)) -\"Aktualnie przyjmowane leki\".data_rozpoczecia_hydrochlorothiazide__wysokie_cisnienie_krwi as \"dni_brania_ventolin\"\n",
    "      FROM ai_med.pacjent INNER JOIN ai_med.\"Aktualnie przyjmowane leki\" \n",
    "      ON \"Aktualnie przyjmowane leki\".id = pacjent.id \n",
    "      WHERE pacjent.imie = imieee or pacjent.nazwisko = nazwiskooo;\n",
    "   \n",
    "   ELSE \n",
    "      RAISE EXCEPTION 'Nie ma takiego leku';\n",
    "   END IF;\n",
    "\n",
    "end;\n",
    "$$;\n",
    "    \"\"\",\n",
    "commit = True)"
   ]
  },
  {
   "cell_type": "code",
   "execution_count": 322,
   "metadata": {},
   "outputs": [
    {
     "name": "stdout",
     "output_type": "stream",
     "text": [
      "  data_rozpoczecie_brania_leku data_zakonczenia_brania_leku  dni_brania_leku\n",
      "0                   2018-05-07                   2020-08-04              820\n",
      "1                   2018-07-30                   2021-04-24              999\n",
      "2                   2019-04-02                   2021-02-08              678\n",
      "3                   2018-10-13                   2020-12-22              801\n",
      "4                   2019-03-23                   2021-08-16              877\n",
      "5                   2018-05-25                   2021-05-04             1075\n"
     ]
    }
   ],
   "source": [
    "function_tester(\"select * FROM ai_med.pacjenci_z_id\", \"Rachelle\", \"Wheler\", \"ventolin\")"
   ]
  },
  {
   "cell_type": "code",
   "execution_count": 323,
   "metadata": {},
   "outputs": [
    {
     "name": "stdout",
     "output_type": "stream",
     "text": [
      "  data_rozpoczecie_brania_leku data_zakonczenia_brania_leku  dni_brania_leku\n",
      "0                   2018-02-16                   2020-09-14              941\n",
      "1                   2019-04-02                   2021-05-02              761\n",
      "2                   2019-02-14                   2020-02-09              360\n",
      "3                   2018-06-23                   2020-04-15              662\n",
      "4                   2018-07-14                   2021-12-29             1264\n",
      "5                   2019-01-23                   2021-01-24              732\n"
     ]
    }
   ],
   "source": [
    "function_tester(\"select * FROM ai_med.pacjenci_z_id\", \"Rachelle\", \"Wheler\", \"atorvastatin\")"
   ]
  },
  {
   "cell_type": "code",
   "execution_count": 324,
   "metadata": {},
   "outputs": [
    {
     "name": "stdout",
     "output_type": "stream",
     "text": [
      "  data_rozpoczecie_brania_leku data_zakonczenia_brania_leku  dni_brania_leku\n",
      "0                   2018-12-30                   2021-02-27              790\n",
      "1                   2018-04-16                   2020-06-14              790\n",
      "2                   2018-08-25                   2021-10-19             1151\n",
      "3                   2018-08-13                   2021-06-01             1023\n",
      "4                   2018-09-01                   2020-09-30              760\n",
      "5                   2018-09-18                   2020-10-29              772\n"
     ]
    }
   ],
   "source": [
    "function_tester(\"select * FROM ai_med.pacjenci_z_id\", \"Rachelle\", \"Wheler\", \"hydrochlorothiazide\")"
   ]
  },
  {
   "cell_type": "code",
   "execution_count": 326,
   "metadata": {},
   "outputs": [
    {
     "name": "stdout",
     "output_type": "stream",
     "text": [
      "Nie ma takiego leku\n",
      "CONTEXT:  PL/pgSQL function ai_med.pacjenci_z_id(character,character,character) line 39 at RAISE\n",
      "\n"
     ]
    }
   ],
   "source": [
    "function_tester(\"select * FROM ai_med.pacjenci_z_id\", \"Rachelle\", \"Wheler\", \"jakislek\")"
   ]
  },
  {
   "cell_type": "code",
   "execution_count": null,
   "metadata": {},
   "outputs": [],
   "source": []
  },
  {
   "cell_type": "code",
   "execution_count": 216,
   "metadata": {},
   "outputs": [],
   "source": [
    "function_def(\"\"\"\n",
    "    CREATE OR REPLACE FUNCTION ai_med.przyjmowanie_leku(\n",
    "    \n",
    "    ) \n",
    "    \n",
    "    RETURNS numeric AS $$\n",
    "    \n",
    "    DECLARE total integer;\n",
    "\n",
    "    BEGIN\n",
    "        select count(*) into total from ai_med.pacjent;\n",
    "\n",
    "        RETURN total;\n",
    "    \n",
    "    END; $$\n",
    "    LANGUAGE plpgsql;\n",
    "    \"\"\",\n",
    "commit = True)"
   ]
  },
  {
   "cell_type": "code",
   "execution_count": 217,
   "metadata": {},
   "outputs": [
    {
     "name": "stdout",
     "output_type": "stream",
     "text": [
      "  przyjmowanie_leku\n",
      "0             50091\n"
     ]
    }
   ],
   "source": [
    "function_tester(\"select ai_med.przyjmowanie_leku\")"
   ]
  },
  {
   "cell_type": "code",
   "execution_count": 218,
   "metadata": {},
   "outputs": [],
   "source": [
    "function_def(\"\"\"\n",
    "    CREATE OR REPLACE FUNCTION ai_med.przyjmowanie_leku(\n",
    "    \n",
    "    ) \n",
    "    \n",
    "    RETURNS numeric AS $$\n",
    "    \n",
    "    DECLARE total integer;\n",
    "\n",
    "    BEGIN\n",
    "        select count(*) into total from ai_med.pacjent;\n",
    "\n",
    "        RETURN total;\n",
    "    \n",
    "    END; $$\n",
    "    LANGUAGE plpgsql;\n",
    "    \"\"\",\n",
    "commit = True)"
   ]
  },
  {
   "cell_type": "code",
   "execution_count": 219,
   "metadata": {},
   "outputs": [
    {
     "name": "stdout",
     "output_type": "stream",
     "text": [
      "  przyjmowanie_leku\n",
      "0             50091\n"
     ]
    }
   ],
   "source": [
    "function_tester(\"select ai_med.przyjmowanie_leku\")"
   ]
  },
  {
   "cell_type": "markdown",
   "metadata": {},
   "source": [
    "# TRIGGERS"
   ]
  },
  {
   "cell_type": "code",
   "execution_count": 220,
   "metadata": {},
   "outputs": [],
   "source": [
    "def trigger_def(func, commit = False):\n",
    "    try:\n",
    "        con = psycopg2.connect(\n",
    "                    host = \"127.0.0.11\",\n",
    "                    database=\"ZSBD_p1\",\n",
    "                    user = \"inzdanych123\",\n",
    "                    password = \"inzdanych123\",\n",
    "                    port = \"5432\")\n",
    "\n",
    "        cur = con.cursor()\n",
    "\n",
    "        for notice in con.notices:\n",
    "            print(notice)\n",
    "\n",
    "        cur.execute(func)\n",
    "        if commit:\n",
    "            con.commit()\n",
    "\n",
    "        cur.close()\n",
    "        con.close()\n",
    "\n",
    "    except (Exception, psycopg2.DatabaseError) as error:\n",
    "            print(error)\n",
    "\n",
    "    finally:\n",
    "        if con is not None:\n",
    "            con.close()"
   ]
  },
  {
   "cell_type": "code",
   "execution_count": 221,
   "metadata": {},
   "outputs": [
    {
     "name": "stdout",
     "output_type": "stream",
     "text": [
      "trigger \"pacjent_insert_timestamp\" for relation \"pacjent\" already exists\n",
      "\n"
     ]
    }
   ],
   "source": [
    "trigger_def(\"\"\"\n",
    "CREATE TRIGGER pacjent_insert_timestamp \n",
    "    AFTER\n",
    "    INSERT \n",
    "    ON ai_med.pacjent\n",
    "    FOR EACH ROW EXECUTE PROCEDURE ai_med.pacjent_insert_timestamp_func();\n",
    "\"\"\",\n",
    "commit=True)"
   ]
  },
  {
   "cell_type": "code",
   "execution_count": 222,
   "metadata": {},
   "outputs": [],
   "source": [
    "function_def(\"\"\"\n",
    "CREATE OR REPLACE FUNCTION ai_med.pacjent_insert_timestamp_func() RETURNS TRIGGER AS $pacjent_table$\n",
    "   BEGIN\n",
    "      INSERT INTO ai_med.pacjent_insert_timestamp_table(id, ostatni_insert_danych) VALUES (NEW.id ,date_trunc('day', current_timestamp));\n",
    "      RETURN NEW;\n",
    "   END;\n",
    "$pacjent_table$ LANGUAGE plpgsql;\n",
    "\"\"\",\n",
    "commit=True)"
   ]
  },
  {
   "cell_type": "code",
   "execution_count": 223,
   "metadata": {},
   "outputs": [
    {
     "name": "stdout",
     "output_type": "stream",
     "text": [
      "NOTICE:  relation \"pacjent_insert_timestamp_table\" already exists, skipping\n",
      "\n",
      "'NoneType' object is not iterable\n"
     ]
    }
   ],
   "source": [
    "do_query(\"\"\"\n",
    "CREATE TABLE IF NOT EXISTS ai_med.pacjent_insert_timestamp_table\n",
    "(\n",
    "    id serial NOT NULL,\n",
    "    ostatni_insert_danych date NOT NULL,\n",
    "    ostatnie_powiadomienie_dla_MLE date\n",
    ");\n",
    "\"\"\", \n",
    "commit=True,\n",
    "print_out=True)"
   ]
  },
  {
   "cell_type": "code",
   "execution_count": 224,
   "metadata": {},
   "outputs": [
    {
     "name": "stdout",
     "output_type": "stream",
     "text": [
      "'NoneType' object is not iterable\n",
      "        id  imie    nazwisko data_urodzenia                       created_at\n",
      "0   110732  Paul  California     2022-11-23 2022-11-23 18:55:12.167567+01:00\n",
      "1   110736  Paul  California     2022-11-23 2022-11-23 21:24:50.528890+01:00\n",
      "2   110737  Paul  California     2022-11-23 2022-11-23 21:25:22.232925+01:00\n",
      "3   110745  Paul  California     2022-11-23 2022-11-23 22:19:13.968228+01:00\n",
      "4   110747  Paul  California     2022-11-23 2022-11-23 22:21:39.707711+01:00\n",
      "..     ...   ...         ...            ...                              ...\n",
      "87  110828  Paul  California     2022-11-23 2022-11-23 23:20:35.745892+01:00\n",
      "88  110829  Paul  California     2002-11-23 2022-11-23 23:20:36.137202+01:00\n",
      "89  110830  Paul  California     2022-11-23 2022-11-24 12:41:02.877312+01:00\n",
      "90  110831  Paul  California     2002-11-23 2022-11-24 12:41:03.290916+01:00\n",
      "91  110832  Paul  California     2022-11-23 2022-11-24 14:14:03.726548+01:00\n",
      "\n",
      "[92 rows x 5 columns]\n",
      "\n",
      "\n",
      "       id ostatni_insert_danych ostatnie_powiadomienie_dla_mle\n",
      "0  110830            2022-11-24                           None\n",
      "1  110831            2022-11-24                           None\n",
      "2  110832            2022-11-24                           None\n",
      "\n",
      "\n"
     ]
    }
   ],
   "source": [
    "do_query(\"\"\"\n",
    "INSERT INTO ai_med.pacjent (imie, nazwisko, data_urodzenia) VALUES ('Paul', 'California', '2022-11-23');\n",
    "\"\"\", \n",
    "commit=True,\n",
    "print_out=True)\n",
    "do_query(\"\"\"\n",
    "SELECT * FROM ai_med.pacjent where imie ='Paul' and nazwisko = 'California';\n",
    "\"\"\", \n",
    "commit=True,\n",
    "print_out=True)\n",
    "do_query(\"\"\"\n",
    "SELECT * FROM ai_med.pacjent_insert_timestamp_table;\n",
    "\"\"\", \n",
    "commit=True,\n",
    "print_out=True)\n"
   ]
  },
  {
   "cell_type": "code",
   "execution_count": 225,
   "metadata": {},
   "outputs": [],
   "source": [
    "trigger_def(\"\"\"\n",
    "CREATE OR REPLACE TRIGGER message_to_ML_E\n",
    "    BEFORE\n",
    "    INSERT \n",
    "    ON ai_med.pacjent\n",
    "    FOR EACH ROW EXECUTE PROCEDURE ai_med.message_to_ML_E_func();\n",
    "\"\"\",\n",
    "commit=True)"
   ]
  },
  {
   "cell_type": "code",
   "execution_count": 226,
   "metadata": {},
   "outputs": [],
   "source": [
    "#TO W SUMIE POWINNO BYc NA KONIEC JAKIEJŚ TRANZAKCJI\n",
    "#W SENSIE ŻEBY ZROBIĆ TRANZAKCJĘ, KTÓRA ZAJMIE SIĘ DAILY INSERTEM DO TABEL\n",
    "function_def(\"\"\"\n",
    "CREATE OR REPLACE FUNCTION ai_med.message_to_ML_E_func() RETURNS TRIGGER AS $pacjent_table$\n",
    "\tdeclare\n",
    "\t\tliczba_wprowadzonych int;\n",
    "\tBEGIN\n",
    "\t\tSELECT count(*) into liczba_wprowadzonych from ai_med.pacjent_insert_timestamp_table \n",
    "\t\twhere ostatni_insert_danych = date_trunc('day', current_timestamp);\n",
    "\t\tIF liczba_wprowadzonych = 5\n",
    "\t\tTHEN\n",
    "\t\tUPDATE ai_med.pacjent_insert_timestamp_table\n",
    "\t\tSET ostatnie_powiadomienie_dla_mle=date_trunc('minute', current_timestamp);\n",
    "\t\traise notice 'Dzis zostalo wprowadzonych przynajmniej % nowych pacjentow, moze chcecie zrobic douczanie modelu?', \n",
    "\t\t\n",
    "\t\tliczba_wprowadzonych + 1;\n",
    "\t\t\n",
    "\t\tEND IF;\n",
    "\t\tRETURN NEW;\n",
    "   \tEND;\n",
    "$pacjent_table$ LANGUAGE plpgsql;\n",
    "\"\"\",\n",
    "commit=True)\n",
    "\n"
   ]
  },
  {
   "cell_type": "code",
   "execution_count": 227,
   "metadata": {},
   "outputs": [
    {
     "name": "stdout",
     "output_type": "stream",
     "text": [
      "'NoneType' object is not iterable\n",
      "       id ostatni_insert_danych ostatnie_powiadomienie_dla_mle\n",
      "0  110830            2022-11-24                           None\n",
      "1  110831            2022-11-24                           None\n",
      "2  110832            2022-11-24                           None\n",
      "3  110833            2022-11-24                           None\n",
      "\n",
      "\n"
     ]
    }
   ],
   "source": [
    "do_query(\"\"\"\n",
    "INSERT INTO ai_med.pacjent (imie, nazwisko, data_urodzenia) VALUES ('Paul', 'California', '2002-11-23');\n",
    "\"\"\", \n",
    "commit=True,\n",
    "print_out=True)\n",
    "\n",
    "do_query(\"\"\"\n",
    "SELECT * FROM ai_med.pacjent_insert_timestamp_table;\n",
    "\"\"\", \n",
    "commit=True,\n",
    "print_out=True)"
   ]
  },
  {
   "cell_type": "code",
   "execution_count": 228,
   "metadata": {},
   "outputs": [],
   "source": [
    "# do_query(\"\"\"\n",
    "# DROP TABLE IF EXISTS ai_med.pacjent_insert_timestamp_table\n",
    "# \"\"\", \n",
    "# commit=True,\n",
    "# print_out=True)\n",
    "\n",
    "# do_query(\"\"\"\n",
    "# CREATE TABLE IF NOT EXISTS ai_med.pacjent_insert_timestamp_table\n",
    "# (\n",
    "#     id serial NOT NULL,\n",
    "#     ostatni_insert_danych date NOT NULL,\n",
    "#     ostatnie_powiadomienie_dla_MLE date\n",
    "# );\n",
    "# \"\"\", \n",
    "# commit=True,\n",
    "# print_out=True)"
   ]
  },
  {
   "cell_type": "markdown",
   "metadata": {},
   "source": [
    "# PROCEDURES"
   ]
  },
  {
   "cell_type": "code",
   "execution_count": 229,
   "metadata": {},
   "outputs": [],
   "source": [
    "def procedure_def(func, commit = False):\n",
    "    try:\n",
    "        con = psycopg2.connect(\n",
    "                    host = \"127.0.0.11\",\n",
    "                    database=\"ZSBD_p1\",\n",
    "                    user = \"inzdanych123\",\n",
    "                    password = \"inzdanych123\",\n",
    "                    port = \"5432\")\n",
    "\n",
    "        cur = con.cursor()\n",
    "\n",
    "        for notice in con.notices:\n",
    "            print(notice)\n",
    "\n",
    "        cur.execute(func)\n",
    "        if commit:\n",
    "            con.commit()\n",
    "\n",
    "        cur.close()\n",
    "        con.close()\n",
    "\n",
    "    except (Exception, psycopg2.DatabaseError) as error:\n",
    "            print(error)\n",
    "\n",
    "    finally:\n",
    "        if con is not None:\n",
    "            con.close()"
   ]
  },
  {
   "cell_type": "markdown",
   "metadata": {},
   "source": [
    "# 1. Inserting data using a procedure GENEROWANIE danych za pomocą procedur?"
   ]
  },
  {
   "cell_type": "code",
   "execution_count": 230,
   "metadata": {},
   "outputs": [],
   "source": [
    "procedure_def(\n",
    "\"\"\"\n",
    "create or replace procedure ai_med.select_all_pacjenty()\n",
    "language plpgsql    \n",
    "as $$\n",
    "declare\n",
    "    msg int;\n",
    "begin\n",
    "\n",
    "    select count(*) into msg from ai_med.pacjent;\n",
    "\n",
    "    RAISE NOTICE 'W bazie jest juz: % pacjentow!!', msg ;\n",
    "\n",
    "end;$$\n",
    "\"\"\",\n",
    "commit=True)"
   ]
  },
  {
   "cell_type": "code",
   "execution_count": 231,
   "metadata": {},
   "outputs": [
    {
     "name": "stdout",
     "output_type": "stream",
     "text": [
      "NOTICE:  W bazie jest juz: 50093 pacjentow!!\n",
      "\n",
      "'NoneType' object is not iterable\n"
     ]
    }
   ],
   "source": [
    "do_query(\"\"\"\n",
    "call ai_med.select_all_pacjenty();\n",
    "\"\"\", \n",
    "commit=True,\n",
    "print_out=True)"
   ]
  }
 ],
 "metadata": {
  "kernelspec": {
   "display_name": "Python 3.9.13 ('ZSBD')",
   "language": "python",
   "name": "python3"
  },
  "language_info": {
   "codemirror_mode": {
    "name": "ipython",
    "version": 3
   },
   "file_extension": ".py",
   "mimetype": "text/x-python",
   "name": "python",
   "nbconvert_exporter": "python",
   "pygments_lexer": "ipython3",
   "version": "3.9.13"
  },
  "orig_nbformat": 4,
  "vscode": {
   "interpreter": {
    "hash": "8357cfc344e27cdb3246fb42594e9ac9d5e7fb52400a68e0573ac62de3ff6ef8"
   }
  }
 },
 "nbformat": 4,
 "nbformat_minor": 2
}
