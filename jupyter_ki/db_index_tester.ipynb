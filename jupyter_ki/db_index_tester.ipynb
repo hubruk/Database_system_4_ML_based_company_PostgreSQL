{
 "cells": [
  {
   "cell_type": "code",
   "execution_count": 22,
   "metadata": {},
   "outputs": [],
   "source": [
    "import psycopg2\n",
    "import re\n",
    "import matplotlib.pyplot as plt"
   ]
  },
  {
   "cell_type": "code",
   "execution_count": 23,
   "metadata": {},
   "outputs": [],
   "source": [
    "database_setup = {\n",
    "    'host' : '127.0.0.11'\n",
    "    ,'database': 'ZSBD_p1_restore'\n",
    "    ,'user' : 'inzdanych123'\n",
    "    ,'password' : 'inzdanych123'\n",
    "    ,'port' : '5432'\n",
    "}"
   ]
  },
  {
   "cell_type": "code",
   "execution_count": 24,
   "metadata": {},
   "outputs": [],
   "source": [
    "#część odpowiedzialna za łączenie się z bazą, wywoływanie zapytań, obsługiwanie błędów, zwracanie napotkanych wartości\n",
    "def index_tester(what_index, Query, Drop):\n",
    "    try:\n",
    "        con = psycopg2.connect(\n",
    "                    host = database_setup['host'],\n",
    "                    database = database_setup['database'],\n",
    "                    user = database_setup['user'],\n",
    "                    password = database_setup['password'],\n",
    "                    port = database_setup['port'])\n",
    "        cur = con.cursor()\n",
    "\n",
    "        cur.execute(Drop)\n",
    "\n",
    "        if what_index != None:\n",
    "            cur.execute(what_index)\n",
    "\n",
    "        cur.execute(Query)\n",
    "\n",
    "        for notice in con.notices:\n",
    "            print(notice)\n",
    "\n",
    "        query_output = cur.fetchall()\n",
    "        \n",
    "        if query_output != None:\n",
    "            return query_output\n",
    "\n",
    "    except (Exception, psycopg2.Error) as error:\n",
    "        return error\n",
    "    \n",
    "    finally:\n",
    "        if con:\n",
    "            cur.close()\n",
    "            con.close()"
   ]
  },
  {
   "cell_type": "code",
   "execution_count": 25,
   "metadata": {},
   "outputs": [],
   "source": [
    "def index_tester_all(Q, D, index_query):\n",
    "    #index_list = [None, 'btree', 'HASH', 'gist', 'spgist', 'gin', 'BRIN']\n",
    "    index_list = [None, 'btree', 'HASH', 'gin', 'BRIN']\n",
    "\n",
    "    seq_scan_dict_floats_planning = {}\n",
    "    seq_scan_dict_floats_executing = {}\n",
    "    planning_time = []\n",
    "    execution_time = []\n",
    "    planning_time_non_seq = []\n",
    "    execution_time_non_seq = []\n",
    "\n",
    "    for index in index_list:\n",
    "        #testowanie poszczególnych rodzajów indeksów \n",
    "        if index == None:\n",
    "            mes = index_tester(None, Q, D)\n",
    "        elif index == 'gin':\n",
    "            mes = index_tester((index_query.split(\");\")[0] + \" ai_med.gin_trgm_ops);\") %(index), Q, D)\n",
    "        else:\n",
    "            mes = index_tester(index_query %(index), Q, D)\n",
    "\n",
    "        if type(mes) == list:\n",
    "            #odczytywanie wartości z EXPLAIN ANALYZE\n",
    "            if str(mes[0]).split('on')[0] == \"('Seq Scan \":\n",
    "                #zapis dla wartości (czasów), dla których w zapytaniu NIE został wykorzystany konkretny indeks  \n",
    "                planning_time.append(float(re.findall(r'[\\d]*[.][\\d]+', str(mes[-2:][0]))[0]))\n",
    "                execution_time.append(float(re.findall(r'[\\d]*[.][\\d]+', str(mes[-2:][1]))[0]))\n",
    "\n",
    "                seq_scan_dict_floats_planning['seq scan'] = planning_time\n",
    "                seq_scan_dict_floats_executing['seq scan'] = execution_time \n",
    "            else:\n",
    "                #zapis dla wartości (czasów), dla których w zapytaniu został wykorzystany konkretny indeks  \n",
    "                planning_time_non_seq.append(float(re.findall(r'[\\d]*[.][\\d]+', str(mes[-2:][0]))[0]))\n",
    "                execution_time_non_seq.append(float(re.findall(r'[\\d]*[.][\\d]+', str(mes[-2:][1]))[0]))\n",
    "\n",
    "                seq_scan_dict_floats_planning[index] = float(re.findall(r'[\\d]*[.][\\d]+', str(mes[-2:][0]))[0])\n",
    "                seq_scan_dict_floats_executing[index] = float(re.findall(r'[\\d]*[.][\\d]+', str(mes[-2:][1]))[0])\n",
    "        else:\n",
    "            print(index, ' zwrocil blad:', '\\n', mes)\n",
    "    \n",
    "    if len(seq_scan_dict_floats_executing) == 1:\n",
    "        print(\"DO TEGO POLECENIA TESTOWANE INDEKS-y, NIE ZMIENIAJĄ SPOSOBU WYSZUKIWANIA \\n POZOSTAJE SEQ SCAN \\n \\n JEŻELI WYSTĘPUJĄ PATRZ NA BŁĘDY\")\n",
    "    else:\n",
    "        #wizualizacja zapisanych wcześniej wartości\n",
    "        print(\"DODATKOWO, JEŻELI WYSTĘPUJĄ - PATRZ NA BŁĘDY\")\n",
    "        try:\n",
    "            seq_scan_dict_floats_executing['seq scan'] = seq_scan_dict_floats_executing['seq scan'][0]\n",
    "            seq_scan_dict_floats_planning['seq scan'] = seq_scan_dict_floats_planning['seq scan'][0]\n",
    "            seq_scan_dict_floats_executing['no index'] = seq_scan_dict_floats_executing.pop('seq scan')\n",
    "            seq_scan_dict_floats_planning['no index'] = seq_scan_dict_floats_planning.pop('seq scan')\n",
    "        except(TypeError):\n",
    "            pass\n",
    "        \n",
    "        print(seq_scan_dict_floats_planning)\n",
    "        fig, (ax1, ax2) = plt.subplots(1, 2, dpi=100)\n",
    "        fig.tight_layout()\n",
    "        \n",
    "        names = list(seq_scan_dict_floats_planning.keys())\n",
    "        values = list(seq_scan_dict_floats_planning.values())\n",
    "        ax1.bar(range(len(seq_scan_dict_floats_planning)), values, tick_label=names)\n",
    "        ax1.set_ylabel('t [ms]')\n",
    "        ax1.set_title('planning time')\n",
    "\n",
    "        names = list(seq_scan_dict_floats_executing.keys())\n",
    "        values = list(seq_scan_dict_floats_executing.values())\n",
    "        ax2.bar(range(len(seq_scan_dict_floats_executing)), values, tick_label=names)\n",
    "        ax2.set_ylabel('t [ms]')\n",
    "        ax2.set_title('executing time')\n",
    "        plt.show()"
   ]
  },
  {
   "cell_type": "code",
   "execution_count": 26,
   "metadata": {},
   "outputs": [],
   "source": [
    "Q = 'EXPLAIN ANALYSE SELECT * FROM ai_med.objawy WHERE bol_glowy is TRUE;'\n",
    "index_name_query = 'data_bol'\n",
    "\n",
    "D = 'DROP INDEX IF EXISTS ai_med.%s;' %(index_name_query)\n",
    "index_query = 'CREATE INDEX '\n",
    "index_query += index_name_query\n",
    "index_query += ' on ai_med.objawy using %s (bol_glowy);' "
   ]
  },
  {
   "cell_type": "code",
   "execution_count": 27,
   "metadata": {},
   "outputs": [
    {
     "name": "stdout",
     "output_type": "stream",
     "text": [
      "NOTICE:  index \"data_bol\" does not exist, skipping\n",
      "\n",
      "NOTICE:  index \"data_bol\" does not exist, skipping\n",
      "\n",
      "NOTICE:  index \"data_bol\" does not exist, skipping\n",
      "\n",
      "gin  zwrocil blad: \n",
      " operator class \"ai_med.gin_trgm_ops\" does not exist for access method \"gin\"\n",
      "\n",
      "BRIN  zwrocil blad: \n",
      " data type boolean has no default operator class for access method \"brin\"\n",
      "HINT:  You must specify an operator class for the index or define a default operator class for the data type.\n",
      "\n",
      "DO TEGO POLECENIA TESTOWANE INDEKS-y, NIE ZMIENIAJĄ SPOSOBU WYSZUKIWANIA \n",
      " POZOSTAJE SEQ SCAN \n",
      " \n",
      " JEŻELI WYSTĘPUJĄ PATRZ NA BŁĘDY\n"
     ]
    }
   ],
   "source": [
    "index_tester_all(Q, D, index_query)"
   ]
  },
  {
   "cell_type": "code",
   "execution_count": 28,
   "metadata": {},
   "outputs": [],
   "source": [
    "Q = 'EXPLAIN ANALYSE SELECT * FROM ai_med.objawy WHERE bol_glowy = TRUE;'\n",
    "index_name_query = 'data_bol'\n",
    "\n",
    "D = 'DROP INDEX IF EXISTS ai_med.%s;' %(index_name_query)\n",
    "index_query = 'CREATE INDEX '\n",
    "index_query += index_name_query\n",
    "index_query += ' on ai_med.objawy using %s (bol_glowy);' "
   ]
  },
  {
   "cell_type": "code",
   "execution_count": 29,
   "metadata": {},
   "outputs": [
    {
     "name": "stdout",
     "output_type": "stream",
     "text": [
      "NOTICE:  index \"data_bol\" does not exist, skipping\n",
      "\n",
      "NOTICE:  index \"data_bol\" does not exist, skipping\n",
      "\n",
      "NOTICE:  index \"data_bol\" does not exist, skipping\n",
      "\n",
      "gin  zwrocil blad: \n",
      " operator class \"ai_med.gin_trgm_ops\" does not exist for access method \"gin\"\n",
      "\n",
      "BRIN  zwrocil blad: \n",
      " data type boolean has no default operator class for access method \"brin\"\n",
      "HINT:  You must specify an operator class for the index or define a default operator class for the data type.\n",
      "\n",
      "DO TEGO POLECENIA TESTOWANE INDEKS-y, NIE ZMIENIAJĄ SPOSOBU WYSZUKIWANIA \n",
      " POZOSTAJE SEQ SCAN \n",
      " \n",
      " JEŻELI WYSTĘPUJĄ PATRZ NA BŁĘDY\n"
     ]
    }
   ],
   "source": [
    "index_tester_all(Q, D, index_query)"
   ]
  },
  {
   "cell_type": "code",
   "execution_count": 30,
   "metadata": {},
   "outputs": [],
   "source": [
    "Q = \"EXPLAIN ANALYSE SELECT * FROM ai_med.pacjent WHERE imie = 'Robert';\"\n",
    "index_name_query = 'imie_pacjenta'\n",
    "\n",
    "D = 'DROP INDEX IF EXISTS ai_med.%s;' %(index_name_query)\n",
    "index_query = 'CREATE INDEX '\n",
    "index_query += index_name_query\n",
    "index_query += ' on ai_med.pacjent using %s (imie);'"
   ]
  },
  {
   "cell_type": "code",
   "execution_count": 31,
   "metadata": {},
   "outputs": [
    {
     "name": "stdout",
     "output_type": "stream",
     "text": [
      "NOTICE:  index \"imie_pacjenta\" does not exist, skipping\n",
      "\n",
      "NOTICE:  index \"imie_pacjenta\" does not exist, skipping\n",
      "\n",
      "NOTICE:  index \"imie_pacjenta\" does not exist, skipping\n",
      "\n",
      "gin  zwrocil blad: \n",
      " operator class \"ai_med.gin_trgm_ops\" does not exist for access method \"gin\"\n",
      "\n",
      "NOTICE:  index \"imie_pacjenta\" does not exist, skipping\n",
      "\n",
      "DODATKOWO, JEŻELI WYSTĘPUJĄ - PATRZ NA BŁĘDY\n",
      "{'btree': 4.131, 'HASH': 2.313, 'no index': 3.015}\n"
     ]
    },
    {
     "data": {
      "image/png": "[encoded data removed]",
      "text/plain": [
       "<Figure size 600x400 with 2 Axes>"
      ]
     },
     "metadata": {
      "needs_background": "light"
     },
     "output_type": "display_data"
    }
   ],
   "source": [
    "index_tester_all(Q, D, index_query)"
   ]
  },
  {
   "cell_type": "code",
   "execution_count": 32,
   "metadata": {},
   "outputs": [],
   "source": [
    "Q = \"EXPLAIN ANALYSE SELECT * FROM ai_med.pacjent WHERE imie LIKE('Robert');\"\n",
    "index_name_query = 'imie_pacjenta'\n",
    "\n",
    "D = 'DROP INDEX IF EXISTS ai_med.%s;' %(index_name_query)\n",
    "index_query = 'CREATE INDEX '\n",
    "index_query += index_name_query\n",
    "index_query += ' on ai_med.pacjent using %s (imie);'"
   ]
  },
  {
   "cell_type": "code",
   "execution_count": 33,
   "metadata": {},
   "outputs": [
    {
     "name": "stdout",
     "output_type": "stream",
     "text": [
      "NOTICE:  index \"imie_pacjenta\" does not exist, skipping\n",
      "\n",
      "NOTICE:  index \"imie_pacjenta\" does not exist, skipping\n",
      "\n",
      "NOTICE:  index \"imie_pacjenta\" does not exist, skipping\n",
      "\n",
      "gin  zwrocil blad: \n",
      " operator class \"ai_med.gin_trgm_ops\" does not exist for access method \"gin\"\n",
      "\n",
      "NOTICE:  index \"imie_pacjenta\" does not exist, skipping\n",
      "\n",
      "DODATKOWO, JEŻELI WYSTĘPUJĄ - PATRZ NA BŁĘDY\n",
      "{'btree': 3.071, 'HASH': 2.439, 'no index': 1.92}\n"
     ]
    },
    {
     "data": {
      "image/png": "[encoded data removed]",
      "text/plain": [
       "<Figure size 600x400 with 2 Axes>"
      ]
     },
     "metadata": {
      "needs_background": "light"
     },
     "output_type": "display_data"
    }
   ],
   "source": [
    "index_tester_all(Q, D, index_query)"
   ]
  },
  {
   "cell_type": "code",
   "execution_count": 34,
   "metadata": {},
   "outputs": [],
   "source": [
    "Q = 'EXPLAIN ANALYSE SELECT * FROM ai_med.\"leczenie_w_kierunku_kod_ICD_10\"' + \" WHERE data_zakonczenia_leczenia_i10 >= '2021-02-01' \"\n",
    "Q+= \"AND data_zakonczenia_leczenia_i10 <= '2021-02-28';\"\n",
    "index_name_query = 'data_icd_10'\n",
    "\n",
    "D = 'DROP INDEX IF EXISTS ai_med.%s;' %(index_name_query)\n",
    "index_query = 'CREATE INDEX '\n",
    "index_query += index_name_query\n",
    "index_query += ' on ai_med.\"leczenie_w_kierunku_kod_ICD_10\" using %s (data_zakonczenia_leczenia_i10);' "
   ]
  },
  {
   "cell_type": "code",
   "execution_count": 35,
   "metadata": {},
   "outputs": [
    {
     "name": "stdout",
     "output_type": "stream",
     "text": [
      "NOTICE:  index \"data_icd_10\" does not exist, skipping\n",
      "\n",
      "NOTICE:  index \"data_icd_10\" does not exist, skipping\n",
      "\n",
      "NOTICE:  index \"data_icd_10\" does not exist, skipping\n",
      "\n",
      "gin  zwrocil blad: \n",
      " operator class \"ai_med.gin_trgm_ops\" does not exist for access method \"gin\"\n",
      "\n",
      "NOTICE:  index \"data_icd_10\" does not exist, skipping\n",
      "\n",
      "DODATKOWO, JEŻELI WYSTĘPUJĄ - PATRZ NA BŁĘDY\n",
      "{'btree': 3.978, 'no index': 3.059}\n"
     ]
    },
    {
     "data": {
      "image/png": "[encoded data removed]",
      "text/plain": [
       "<Figure size 600x400 with 2 Axes>"
      ]
     },
     "metadata": {
      "needs_background": "light"
     },
     "output_type": "display_data"
    }
   ],
   "source": [
    "index_tester_all(Q, D, index_query)"
   ]
  },
  {
   "cell_type": "code",
   "execution_count": 36,
   "metadata": {},
   "outputs": [],
   "source": [
    "Q = 'EXPLAIN ANALYSE SELECT * FROM ai_med.morfologia' + \" WHERE mcv >= 20.0 AND mcv <= 30.0;\"\n",
    "index_name_query = 'mcv_test'\n",
    "\n",
    "D = 'DROP INDEX IF EXISTS ai_med.%s;' %(index_name_query)\n",
    "index_query = 'CREATE INDEX '\n",
    "index_query += index_name_query\n",
    "index_query += ' on ai_med.morfologia using %s (mcv);' "
   ]
  },
  {
   "cell_type": "code",
   "execution_count": 37,
   "metadata": {},
   "outputs": [
    {
     "name": "stdout",
     "output_type": "stream",
     "text": [
      "NOTICE:  index \"mcv_test\" does not exist, skipping\n",
      "\n",
      "NOTICE:  index \"mcv_test\" does not exist, skipping\n",
      "\n",
      "NOTICE:  index \"mcv_test\" does not exist, skipping\n",
      "\n",
      "gin  zwrocil blad: \n",
      " operator class \"ai_med.gin_trgm_ops\" does not exist for access method \"gin\"\n",
      "\n",
      "NOTICE:  index \"mcv_test\" does not exist, skipping\n",
      "\n",
      "DODATKOWO, JEŻELI WYSTĘPUJĄ - PATRZ NA BŁĘDY\n",
      "{'btree': 5.241, 'no index': 4.607}\n"
     ]
    },
    {
     "data": {
      "image/png": "[encoded data removed]",
      "text/plain": [
       "<Figure size 600x400 with 2 Axes>"
      ]
     },
     "metadata": {
      "needs_background": "light"
     },
     "output_type": "display_data"
    }
   ],
   "source": [
    "index_tester_all(Q, D, index_query)"
   ]
  },
  {
   "cell_type": "code",
   "execution_count": 38,
   "metadata": {},
   "outputs": [],
   "source": [
    "Q = 'EXPLAIN ANALYSE SELECT * FROM ai_med.morfologia' + \" WHERE mcv >= 55.0;\"\n",
    "index_name_query = 'mcv_test'\n",
    "\n",
    "D = 'DROP INDEX IF EXISTS ai_med.%s;' %(index_name_query)\n",
    "index_query = 'CREATE INDEX '\n",
    "index_query += index_name_query\n",
    "index_query += ' on ai_med.morfologia using %s (mcv);' "
   ]
  },
  {
   "cell_type": "code",
   "execution_count": 39,
   "metadata": {},
   "outputs": [
    {
     "data": {
      "text/plain": [
       "'CREATE INDEX mcv_test on ai_med.morfologia using %s (mcv);'"
      ]
     },
     "execution_count": 39,
     "metadata": {},
     "output_type": "execute_result"
    }
   ],
   "source": [
    "index_query"
   ]
  },
  {
   "cell_type": "code",
   "execution_count": 40,
   "metadata": {},
   "outputs": [
    {
     "name": "stdout",
     "output_type": "stream",
     "text": [
      "NOTICE:  index \"mcv_test\" does not exist, skipping\n",
      "\n",
      "NOTICE:  index \"mcv_test\" does not exist, skipping\n",
      "\n",
      "NOTICE:  index \"mcv_test\" does not exist, skipping\n",
      "\n",
      "gin  zwrocil blad: \n",
      " operator class \"ai_med.gin_trgm_ops\" does not exist for access method \"gin\"\n",
      "\n",
      "NOTICE:  index \"mcv_test\" does not exist, skipping\n",
      "\n",
      "DODATKOWO, JEŻELI WYSTĘPUJĄ - PATRZ NA BŁĘDY\n",
      "{'btree': 3.131, 'no index': 3.276}\n"
     ]
    },
    {
     "data": {
      "image/png": "[encoded data removed]",
      "text/plain": [
       "<Figure size 600x400 with 2 Axes>"
      ]
     },
     "metadata": {
      "needs_background": "light"
     },
     "output_type": "display_data"
    }
   ],
   "source": [
    "index_tester_all(Q, D, index_query)"
   ]
  },
  {
   "cell_type": "code",
   "execution_count": 41,
   "metadata": {},
   "outputs": [],
   "source": [
    "Q = 'EXPLAIN ANALYSE SELECT * FROM ai_med.\"Nazwa pliku z notatkami lekarskimi\"' +  \" WHERE lekarz_rodzinny LIKE ('%e1920%');\"\n",
    "index_name_query = 'notatki_plik_test'\n",
    "\n",
    "D = 'DROP INDEX IF EXISTS ai_med.%s;' %(index_name_query)\n",
    "index_query = 'CREATE INDEX '\n",
    "index_query += index_name_query\n",
    "index_query += ' on ai_med.\"Nazwa pliku z notatkami lekarskimi\" using %s (lekarz_rodzinny);'"
   ]
  },
  {
   "cell_type": "code",
   "execution_count": 42,
   "metadata": {},
   "outputs": [
    {
     "name": "stdout",
     "output_type": "stream",
     "text": [
      "NOTICE:  index \"notatki_plik_test\" does not exist, skipping\n",
      "\n",
      "NOTICE:  index \"notatki_plik_test\" does not exist, skipping\n",
      "\n",
      "NOTICE:  index \"notatki_plik_test\" does not exist, skipping\n",
      "\n",
      "gin  zwrocil blad: \n",
      " operator class \"ai_med.gin_trgm_ops\" does not exist for access method \"gin\"\n",
      "\n",
      "NOTICE:  index \"notatki_plik_test\" does not exist, skipping\n",
      "\n",
      "DO TEGO POLECENIA TESTOWANE INDEKS-y, NIE ZMIENIAJĄ SPOSOBU WYSZUKIWANIA \n",
      " POZOSTAJE SEQ SCAN \n",
      " \n",
      " JEŻELI WYSTĘPUJĄ PATRZ NA BŁĘDY\n"
     ]
    }
   ],
   "source": [
    "index_tester_all(Q, D, index_query)"
   ]
  }
 ],
 "metadata": {
  "kernelspec": {
   "display_name": "Python 3.9.13 ('ZSBD')",
   "language": "python",
   "name": "python3"
  },
  "language_info": {
   "codemirror_mode": {
    "name": "ipython",
    "version": 3
   },
   "file_extension": ".py",
   "mimetype": "text/x-python",
   "name": "python",
   "nbconvert_exporter": "python",
   "pygments_lexer": "ipython3",
   "version": "3.9.13"
  },
  "orig_nbformat": 4,
  "vscode": {
   "interpreter": {
    "hash": "8357cfc344e27cdb3246fb42594e9ac9d5e7fb52400a68e0573ac62de3ff6ef8"
   }
  }
 },
 "nbformat": 4,
 "nbformat_minor": 2
}
