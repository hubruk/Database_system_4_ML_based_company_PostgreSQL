{
 "cells": [
  {
   "cell_type": "code",
   "execution_count": 33,
   "metadata": {},
   "outputs": [],
   "source": [
    "import psycopg2\n",
    "import random\n",
    "import names\n",
    "import uuid\n",
    "import datetime"
   ]
  },
  {
   "cell_type": "code",
   "execution_count": 48,
   "metadata": {},
   "outputs": [],
   "source": [
    "def index_tester(what_index, Query, Drop):\n",
    "    try:\n",
    "        con = psycopg2.connect(\n",
    "                host = \"127.0.0.11\",\n",
    "                database=\"ZSBD_p1\",\n",
    "                user = \"inzdanych123\",\n",
    "                password = \"inzdanych123\")\n",
    "\n",
    "        cur = con.cursor()\n",
    "\n",
    "        cur.execute(Drop)\n",
    "\n",
    "        if what_index != None:\n",
    "            cur.execute(what_index)\n",
    "\n",
    "        cur.execute(Query)\n",
    "        query_output = cur.fetchall()\n",
    "\n",
    "        for row in query_output:\n",
    "            print(row)\n",
    "\n",
    "    except (Exception, psycopg2.Error) as error:\n",
    "        print(\"Error while fetching data from PostgreSQL\", error)\n",
    "\n",
    "    finally:\n",
    "        # closing database connection.\n",
    "        if con:\n",
    "            cur.close()\n",
    "            con.close()"
   ]
  },
  {
   "cell_type": "code",
   "execution_count": 49,
   "metadata": {},
   "outputs": [],
   "source": [
    "Q = 'EXPLAIN ANALYSE SELECT * FROM ai_med.\"leczenie_w_kierunku_kod_ICD_10\"' + \" WHERE data_zakonczenia_leczenia_i10 >= '2021-02-01' AND data_zakonczenia_leczenia_i10 <= '2021-02-28';\"\n",
    "D = 'DROP INDEX IF EXISTS ai_med.data_icd_10;'"
   ]
  },
  {
   "cell_type": "code",
   "execution_count": 50,
   "metadata": {},
   "outputs": [
    {
     "name": "stdout",
     "output_type": "stream",
     "text": [
      "('Seq Scan on \"leczenie_w_kierunku_kod_ICD_10\"  (cost=0.00..1118.00 rows=1888 width=28) (actual time=0.044..7.996 rows=1889 loops=1)',)\n",
      "(\"  Filter: ((data_zakonczenia_leczenia_i10 >= '2021-02-01'::date) AND (data_zakonczenia_leczenia_i10 <= '2021-02-28'::date))\",)\n",
      "('  Rows Removed by Filter: 48111',)\n",
      "('Planning Time: 4.303 ms',)\n",
      "('Execution Time: 8.127 ms',)\n"
     ]
    }
   ],
   "source": [
    "index_tester(None, Q, D)"
   ]
  },
  {
   "cell_type": "code",
   "execution_count": 37,
   "metadata": {},
   "outputs": [
    {
     "name": "stdout",
     "output_type": "stream",
     "text": [
      "('Bitmap Heap Scan on \"leczenie_w_kierunku_kod_ICD_10\"  (cost=27.64..423.96 rows=1888 width=28) (actual time=0.221..0.861 rows=1889 loops=1)',)\n",
      "(\"  Recheck Cond: ((data_zakonczenia_leczenia_i10 >= '2021-02-01'::date) AND (data_zakonczenia_leczenia_i10 <= '2021-02-28'::date))\",)\n",
      "('  Heap Blocks: exact=364',)\n",
      "('  ->  Bitmap Index Scan on data_icd_10  (cost=0.00..27.17 rows=1888 width=0) (actual time=0.171..0.172 rows=1889 loops=1)',)\n",
      "(\"        Index Cond: ((data_zakonczenia_leczenia_i10 >= '2021-02-01'::date) AND (data_zakonczenia_leczenia_i10 <= '2021-02-28'::date))\",)\n",
      "('Planning Time: 3.231 ms',)\n",
      "('Execution Time: 1.000 ms',)\n"
     ]
    }
   ],
   "source": [
    "index_tester('CREATE INDEX data_icd_10 on ai_med.\"leczenie_w_kierunku_kod_ICD_10\"(data_zakonczenia_leczenia_i10)', Q, D)"
   ]
  },
  {
   "cell_type": "code",
   "execution_count": 38,
   "metadata": {},
   "outputs": [
    {
     "name": "stdout",
     "output_type": "stream",
     "text": [
      "('Seq Scan on \"leczenie_w_kierunku_kod_ICD_10\"  (cost=0.00..1118.00 rows=1888 width=28) (actual time=0.026..7.380 rows=1889 loops=1)',)\n",
      "(\"  Filter: ((data_zakonczenia_leczenia_i10 >= '2021-02-01'::date) AND (data_zakonczenia_leczenia_i10 <= '2021-02-28'::date))\",)\n",
      "('  Rows Removed by Filter: 48111',)\n",
      "('Planning Time: 4.383 ms',)\n",
      "('Execution Time: 7.504 ms',)\n"
     ]
    }
   ],
   "source": [
    "index_tester('CREATE INDEX data_icd_10 on ai_med.\"leczenie_w_kierunku_kod_ICD_10\" using brin (data_zakonczenia_leczenia_i10)', Q, D)"
   ]
  },
  {
   "cell_type": "code",
   "execution_count": 39,
   "metadata": {},
   "outputs": [],
   "source": [
    "#Q = 'EXPLAIN ANALYSE SELECT * FROM ai_med.objawy WHERE bol_glowy = TRUE;'\n",
    "Q = 'EXPLAIN ANALYSE SELECT * FROM ai_med.objawy WHERE bol_glowy is TRUE;'\n",
    "D = 'DROP INDEX IF EXISTS ai_med.data_bol;'"
   ]
  },
  {
   "cell_type": "code",
   "execution_count": 40,
   "metadata": {},
   "outputs": [],
   "source": [
    "index_list = [None, 'HASH', 'gist', 'spgist', 'gin', 'BRIN']"
   ]
  },
  {
   "cell_type": "code",
   "execution_count": 41,
   "metadata": {},
   "outputs": [
    {
     "name": "stdout",
     "output_type": "stream",
     "text": [
      "None\n",
      "('Seq Scan on objawy  (cost=0.00..771.00 rows=25175 width=10) (actual time=0.028..7.822 rows=25045 loops=1)',)\n",
      "('  Filter: (bol_glowy IS TRUE)',)\n",
      "('  Rows Removed by Filter: 24955',)\n",
      "('Planning Time: 3.078 ms',)\n",
      "('Execution Time: 9.048 ms',)\n",
      "HASH\n",
      "('Seq Scan on objawy  (cost=0.00..771.00 rows=25175 width=10) (actual time=0.039..7.862 rows=25045 loops=1)',)\n",
      "('  Filter: (bol_glowy IS TRUE)',)\n",
      "('  Rows Removed by Filter: 24955',)\n",
      "('Planning Time: 2.811 ms',)\n",
      "('Execution Time: 9.028 ms',)\n",
      "gist\n",
      "('Seq Scan on objawy  (cost=0.00..771.00 rows=25175 width=10) (actual time=0.034..7.018 rows=25045 loops=1)',)\n",
      "('  Filter: (bol_glowy IS TRUE)',)\n",
      "('  Rows Removed by Filter: 24955',)\n",
      "('Planning Time: 2.447 ms',)\n",
      "('Execution Time: 8.120 ms',)\n",
      "spgist\n",
      "('Seq Scan on objawy  (cost=0.00..771.00 rows=25175 width=10) (actual time=0.029..7.052 rows=25045 loops=1)',)\n",
      "('  Filter: (bol_glowy IS TRUE)',)\n",
      "('  Rows Removed by Filter: 24955',)\n",
      "('Planning Time: 2.521 ms',)\n",
      "('Execution Time: 8.179 ms',)\n",
      "gin\n",
      "('Seq Scan on objawy  (cost=0.00..771.00 rows=25175 width=10) (actual time=0.018..6.838 rows=25045 loops=1)',)\n",
      "('  Filter: (bol_glowy IS TRUE)',)\n",
      "('  Rows Removed by Filter: 24955',)\n",
      "('Planning Time: 2.265 ms',)\n",
      "('Execution Time: 7.911 ms',)\n",
      "BRIN\n",
      "('Seq Scan on objawy  (cost=0.00..771.00 rows=25175 width=10) (actual time=0.019..7.668 rows=25045 loops=1)',)\n",
      "('  Filter: (bol_glowy IS TRUE)',)\n",
      "('  Rows Removed by Filter: 24955',)\n",
      "('Planning Time: 2.968 ms',)\n",
      "('Execution Time: 8.893 ms',)\n"
     ]
    }
   ],
   "source": [
    "for index in index_list:\n",
    "    print(index)\n",
    "    index_tester(None, Q, D)"
   ]
  },
  {
   "cell_type": "code",
   "execution_count": 42,
   "metadata": {},
   "outputs": [
    {
     "name": "stdout",
     "output_type": "stream",
     "text": [
      "('Seq Scan on objawy  (cost=0.00..771.00 rows=25175 width=10) (actual time=0.022..7.262 rows=25045 loops=1)',)\n",
      "('  Filter: (bol_glowy IS TRUE)',)\n",
      "('  Rows Removed by Filter: 24955',)\n",
      "('Planning Time: 2.569 ms',)\n",
      "('Execution Time: 8.481 ms',)\n"
     ]
    }
   ],
   "source": [
    "index_tester(None, Q, D)"
   ]
  },
  {
   "cell_type": "code",
   "execution_count": 43,
   "metadata": {},
   "outputs": [
    {
     "name": "stdout",
     "output_type": "stream",
     "text": [
      "('Seq Scan on objawy  (cost=0.00..771.00 rows=25175 width=10) (actual time=0.016..5.819 rows=25045 loops=1)',)\n",
      "('  Filter: (bol_glowy IS TRUE)',)\n",
      "('  Rows Removed by Filter: 24955',)\n",
      "('Planning Time: 4.691 ms',)\n",
      "('Execution Time: 7.075 ms',)\n"
     ]
    }
   ],
   "source": [
    "index_tester('CREATE INDEX data_bol on ai_med.objawy(bol_glowy);', Q, D)"
   ]
  },
  {
   "cell_type": "code",
   "execution_count": 44,
   "metadata": {},
   "outputs": [
    {
     "name": "stdout",
     "output_type": "stream",
     "text": [
      "('Seq Scan on objawy  (cost=0.00..771.00 rows=25175 width=10) (actual time=0.015..5.809 rows=25045 loops=1)',)\n",
      "('  Filter: (bol_glowy IS TRUE)',)\n",
      "('  Rows Removed by Filter: 24955',)\n",
      "('Planning Time: 2.901 ms',)\n",
      "('Execution Time: 6.886 ms',)\n"
     ]
    }
   ],
   "source": [
    "index_tester('CREATE INDEX data_bol on ai_med.objawy using hash (bol_glowy);', Q, D)"
   ]
  },
  {
   "cell_type": "code",
   "execution_count": 61,
   "metadata": {},
   "outputs": [],
   "source": [
    "Q = 'EXPLAIN ANALYSE SELECT * FROM ai_med.\"Nazwa pliku z notatkami lekarskimi\"' +  \" WHERE lekarz_rodzinny LIKE ('%e920%');\"\n",
    "index_name_query = 'plik_test'\n",
    "\n",
    "D = 'DROP INDEX IF EXISTS ai_med.%s;' %(index_name_query)\n",
    "index_query = 'CREATE INDEX '\n",
    "index_query += index_name_query\n",
    "index_query += ' on ai_med.\"Nazwa pliku z notatkami lekarskimi\" using %s (lekarz_rodzinny);' "
   ]
  },
  {
   "cell_type": "code",
   "execution_count": 62,
   "metadata": {},
   "outputs": [
    {
     "name": "stdout",
     "output_type": "stream",
     "text": [
      "('Seq Scan on \"Nazwa pliku z notatkami lekarskimi\"  (cost=0.00..1445.00 rows=5 width=103) (actual time=0.233..11.022 rows=33 loops=1)',)\n",
      "(\"  Filter: ((lekarz_rodzinny)::text ~~ '%e920%'::text)\",)\n",
      "('  Rows Removed by Filter: 49967',)\n",
      "('Planning Time: 2.681 ms',)\n",
      "('Execution Time: 11.299 ms',)\n"
     ]
    }
   ],
   "source": [
    "index_tester(None, Q, D)"
   ]
  },
  {
   "cell_type": "code",
   "execution_count": 63,
   "metadata": {},
   "outputs": [
    {
     "name": "stdout",
     "output_type": "stream",
     "text": [
      "('Seq Scan on \"Nazwa pliku z notatkami lekarskimi\"  (cost=0.00..1445.00 rows=5 width=103) (actual time=0.165..9.086 rows=33 loops=1)',)\n",
      "(\"  Filter: ((lekarz_rodzinny)::text ~~ '%e920%'::text)\",)\n",
      "('  Rows Removed by Filter: 49967',)\n",
      "('Planning Time: 3.393 ms',)\n",
      "('Execution Time: 9.156 ms',)\n"
     ]
    }
   ],
   "source": [
    "index_tester(index_query %('btree'), Q, D)"
   ]
  },
  {
   "cell_type": "code",
   "execution_count": 64,
   "metadata": {},
   "outputs": [
    {
     "name": "stdout",
     "output_type": "stream",
     "text": [
      "('Seq Scan on \"Nazwa pliku z notatkami lekarskimi\"  (cost=0.00..1445.00 rows=5 width=103) (actual time=0.222..9.270 rows=33 loops=1)',)\n",
      "(\"  Filter: ((lekarz_rodzinny)::text ~~ '%e920%'::text)\",)\n",
      "('  Rows Removed by Filter: 49967',)\n",
      "('Planning Time: 4.186 ms',)\n",
      "('Execution Time: 9.299 ms',)\n"
     ]
    }
   ],
   "source": [
    "index_tester(index_query %('hash'), Q, D)"
   ]
  }
 ],
 "metadata": {
  "kernelspec": {
   "display_name": "Python 3.9.13 ('ZSBD')",
   "language": "python",
   "name": "python3"
  },
  "language_info": {
   "codemirror_mode": {
    "name": "ipython",
    "version": 3
   },
   "file_extension": ".py",
   "mimetype": "text/x-python",
   "name": "python",
   "nbconvert_exporter": "python",
   "pygments_lexer": "ipython3",
   "version": "3.9.13"
  },
  "orig_nbformat": 4,
  "vscode": {
   "interpreter": {
    "hash": "8357cfc344e27cdb3246fb42594e9ac9d5e7fb52400a68e0573ac62de3ff6ef8"
   }
  }
 },
 "nbformat": 4,
 "nbformat_minor": 2
}
